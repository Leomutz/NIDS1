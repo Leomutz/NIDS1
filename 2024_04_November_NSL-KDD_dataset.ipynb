{
 "cells": [
  {
   "cell_type": "code",
   "execution_count": 1,
   "id": "f733e8eb-8c86-4a0a-8783-f8928f068d33",
   "metadata": {},
   "outputs": [],
   "source": [
    "import numpy as np\n",
    "import pandas as pd\n",
    "import matplotlib.pyplot as plt\n",
    "import seaborn as sns"
   ]
  },
  {
   "cell_type": "code",
   "execution_count": 49,
   "id": "95a4ee12-e3da-427f-b792-c980525bab43",
   "metadata": {},
   "outputs": [],
   "source": [
    "import keras\n",
    "from keras.models import Sequential\n",
    "from keras.layers import Dense, Dropout\n",
    "from keras.layers import Conv1D, MaxPool1D, Flatten\n",
    "from keras.layers import Conv2D, MaxPool2D\n",
    "from keras.layers import BatchNormalization\n",
    "from tensorflow.keras.callbacks import EarlyStopping\n",
    "from sklearn.model_selection import train_test_split\n",
    "from sklearn.metrics import confusion_matrix, ConfusionMatrixDisplay\n",
    "from sklearn.metrics import classification_report\n",
    "from sklearn.preprocessing import LabelBinarizer, MinMaxScaler\n",
    "from tab2img.converter import Tab2Img"
   ]
  },
  {
   "cell_type": "code",
   "execution_count": 3,
   "id": "245c90e1-1b28-4786-8120-7b0118b75568",
   "metadata": {},
   "outputs": [],
   "source": [
    "# load the dataset\n",
    "df_train = pd.read_csv('KDDTrain+.txt', header=None)\n",
    "df_test = pd.read_csv('KDDTest+.txt', header=None)\n",
    "df_train20 = pd.read_csv('KDDTrain+_20Percent.txt', header=None)"
   ]
  },
  {
   "cell_type": "code",
   "execution_count": 4,
   "id": "adc3529f-fd01-4ec3-9d15-8cabfbd831a8",
   "metadata": {},
   "outputs": [
    {
     "name": "stdout",
     "output_type": "stream",
     "text": [
      "(125973, 43) (22544, 43) (25192, 43)\n"
     ]
    }
   ],
   "source": [
    "# check the shape of the dataset\n",
    "print(df_train.shape, df_test.shape, df_train20.shape)"
   ]
  },
  {
   "cell_type": "code",
   "execution_count": 5,
   "id": "c421ff14-3419-4608-b01a-9cb30a1c8ad5",
   "metadata": {},
   "outputs": [],
   "source": [
    "# add columns in the train dataset\n",
    "df_train.columns = ['duration','protocol_type','service','flag','src_bytes','dst_byte','land','wrong_fragment',\n",
    "                    'urgent','hot','num_failed_logins','logged_in','num_compromised','root_shell','su_attempted',\n",
    "                    'num_root','num_file_creations','num_shells','num_access_files','num_outbound_cmds','is_host_logins',\n",
    "                    'is_guest_login','count','srv_count','serror_rate','srv_serror_rate','rerror_rate','srv_rerror_rate','same_srv_rate','diff_srv_rate',\n",
    "                    'srv_diff_host_rate','dst_host_count','dst_host_srv_count','dst_host_same_srv_rate','dst_host_diff_srv_rate',\n",
    "            'dst_host_same_srv_port_rate','dst_host_srv_diff_host_rate','dst_host_serror_rate','dst_host_srv_serror_rate',\n",
    "        'dst_host_rerror_rate','dst_host_srv_rerror_rate','class','difficulty_level']\n",
    "\n",
    "# add columns in the test dataset\n",
    "df_test.columns = ['duration','protocol_type','service','flag','src_bytes','dst_byte','land','wrong_fragment',\n",
    "                    'urgent','hot','num_failed_logins','logged_in','num_compromised','root_shell','su_attempted',\n",
    "                    'num_root','num_file_creations','num_shells','num_access_files','num_outbound_cmds','is_host_logins',\n",
    "                    'is_guest_login','count','srv_count','serror_rate','srv_serror_rate','rerror_rate','srv_rerror_rate','same_srv_rate','diff_srv_rate',\n",
    "                    'srv_diff_host_rate','dst_host_count','dst_host_srv_count','dst_host_same_srv_rate','dst_host_diff_srv_rate',\n",
    "            'dst_host_same_srv_port_rate','dst_host_srv_diff_host_rate','dst_host_serror_rate','dst_host_srv_serror_rate',\n",
    "        'dst_host_rerror_rate','dst_host_srv_rerror_rate','class','difficulty_level']"
   ]
  },
  {
   "cell_type": "code",
   "execution_count": 6,
   "id": "2ff2e6dd-4e7a-46d1-b0b7-d8154984140f",
   "metadata": {},
   "outputs": [
    {
     "data": {
      "text/plain": [
       "(False, False)"
      ]
     },
     "execution_count": 6,
     "metadata": {},
     "output_type": "execute_result"
    }
   ],
   "source": [
    "# identify the missing values\n",
    "df_train.isnull().values.any(), df_test.isnull().values.any()"
   ]
  },
  {
   "cell_type": "code",
   "execution_count": 7,
   "id": "673a2d18-0040-4588-984e-f1dbad1bb7e5",
   "metadata": {},
   "outputs": [],
   "source": [
    "# select categorical variables\n",
    "train_cat = df_train.select_dtypes('object')\n",
    "test_cat = df_test.select_dtypes('object')"
   ]
  },
  {
   "cell_type": "code",
   "execution_count": 8,
   "id": "a7321df2-933b-4d6b-9d2d-3beb73aa9397",
   "metadata": {},
   "outputs": [
    {
     "data": {
      "text/html": [
       "<div>\n",
       "<style scoped>\n",
       "    .dataframe tbody tr th:only-of-type {\n",
       "        vertical-align: middle;\n",
       "    }\n",
       "\n",
       "    .dataframe tbody tr th {\n",
       "        vertical-align: top;\n",
       "    }\n",
       "\n",
       "    .dataframe thead th {\n",
       "        text-align: right;\n",
       "    }\n",
       "</style>\n",
       "<table border=\"1\" class=\"dataframe\">\n",
       "  <thead>\n",
       "    <tr style=\"text-align: right;\">\n",
       "      <th></th>\n",
       "      <th>protocol_type</th>\n",
       "      <th>service</th>\n",
       "      <th>flag</th>\n",
       "      <th>class</th>\n",
       "    </tr>\n",
       "  </thead>\n",
       "  <tbody>\n",
       "    <tr>\n",
       "      <th>0</th>\n",
       "      <td>tcp</td>\n",
       "      <td>ftp_data</td>\n",
       "      <td>SF</td>\n",
       "      <td>normal</td>\n",
       "    </tr>\n",
       "    <tr>\n",
       "      <th>1</th>\n",
       "      <td>udp</td>\n",
       "      <td>other</td>\n",
       "      <td>SF</td>\n",
       "      <td>normal</td>\n",
       "    </tr>\n",
       "    <tr>\n",
       "      <th>2</th>\n",
       "      <td>tcp</td>\n",
       "      <td>private</td>\n",
       "      <td>S0</td>\n",
       "      <td>neptune</td>\n",
       "    </tr>\n",
       "    <tr>\n",
       "      <th>3</th>\n",
       "      <td>tcp</td>\n",
       "      <td>http</td>\n",
       "      <td>SF</td>\n",
       "      <td>normal</td>\n",
       "    </tr>\n",
       "    <tr>\n",
       "      <th>4</th>\n",
       "      <td>tcp</td>\n",
       "      <td>http</td>\n",
       "      <td>SF</td>\n",
       "      <td>normal</td>\n",
       "    </tr>\n",
       "  </tbody>\n",
       "</table>\n",
       "</div>"
      ],
      "text/plain": [
       "  protocol_type   service flag    class\n",
       "0           tcp  ftp_data   SF   normal\n",
       "1           udp     other   SF   normal\n",
       "2           tcp   private   S0  neptune\n",
       "3           tcp      http   SF   normal\n",
       "4           tcp      http   SF   normal"
      ]
     },
     "execution_count": 8,
     "metadata": {},
     "output_type": "execute_result"
    }
   ],
   "source": [
    "train_cat.head()"
   ]
  },
  {
   "cell_type": "code",
   "execution_count": 9,
   "id": "affe8fd7-590e-40b7-9d57-c86f57bbd251",
   "metadata": {},
   "outputs": [
    {
     "data": {
      "text/html": [
       "<div>\n",
       "<style scoped>\n",
       "    .dataframe tbody tr th:only-of-type {\n",
       "        vertical-align: middle;\n",
       "    }\n",
       "\n",
       "    .dataframe tbody tr th {\n",
       "        vertical-align: top;\n",
       "    }\n",
       "\n",
       "    .dataframe thead th {\n",
       "        text-align: right;\n",
       "    }\n",
       "</style>\n",
       "<table border=\"1\" class=\"dataframe\">\n",
       "  <thead>\n",
       "    <tr style=\"text-align: right;\">\n",
       "      <th></th>\n",
       "      <th>protocol_type</th>\n",
       "      <th>service</th>\n",
       "      <th>flag</th>\n",
       "      <th>class</th>\n",
       "    </tr>\n",
       "  </thead>\n",
       "  <tbody>\n",
       "    <tr>\n",
       "      <th>0</th>\n",
       "      <td>tcp</td>\n",
       "      <td>private</td>\n",
       "      <td>REJ</td>\n",
       "      <td>neptune</td>\n",
       "    </tr>\n",
       "    <tr>\n",
       "      <th>1</th>\n",
       "      <td>tcp</td>\n",
       "      <td>private</td>\n",
       "      <td>REJ</td>\n",
       "      <td>neptune</td>\n",
       "    </tr>\n",
       "    <tr>\n",
       "      <th>2</th>\n",
       "      <td>tcp</td>\n",
       "      <td>ftp_data</td>\n",
       "      <td>SF</td>\n",
       "      <td>normal</td>\n",
       "    </tr>\n",
       "    <tr>\n",
       "      <th>3</th>\n",
       "      <td>icmp</td>\n",
       "      <td>eco_i</td>\n",
       "      <td>SF</td>\n",
       "      <td>saint</td>\n",
       "    </tr>\n",
       "    <tr>\n",
       "      <th>4</th>\n",
       "      <td>tcp</td>\n",
       "      <td>telnet</td>\n",
       "      <td>RSTO</td>\n",
       "      <td>mscan</td>\n",
       "    </tr>\n",
       "  </tbody>\n",
       "</table>\n",
       "</div>"
      ],
      "text/plain": [
       "  protocol_type   service  flag    class\n",
       "0           tcp   private   REJ  neptune\n",
       "1           tcp   private   REJ  neptune\n",
       "2           tcp  ftp_data    SF   normal\n",
       "3          icmp     eco_i    SF    saint\n",
       "4           tcp    telnet  RSTO    mscan"
      ]
     },
     "execution_count": 9,
     "metadata": {},
     "output_type": "execute_result"
    }
   ],
   "source": [
    "test_cat.head()"
   ]
  },
  {
   "cell_type": "code",
   "execution_count": 10,
   "id": "41821c13-9975-46ab-82d6-c72ec5951883",
   "metadata": {},
   "outputs": [
    {
     "data": {
      "text/plain": [
       "['protocol_type', 'service', 'flag']"
      ]
     },
     "execution_count": 10,
     "metadata": {},
     "output_type": "execute_result"
    }
   ],
   "source": [
    "# list of categorical columns without the label\n",
    "cols_list = ['protocol_type', 'service', 'flag']\n",
    "cols_list"
   ]
  },
  {
   "cell_type": "code",
   "execution_count": 11,
   "id": "72e2c733-cb88-4f00-ab84-5568206b2f40",
   "metadata": {},
   "outputs": [],
   "source": [
    "# one-hot encoding function\n",
    "def one_hot_encode(data, col):\n",
    "  for i in col:\n",
    "    dummies = pd.get_dummies(data[i], prefix=i, drop_first=False, dtype='int')\n",
    "    data = pd.concat([data, dummies], axis=1)\n",
    "    data = data.drop(columns=[i])\n",
    "  return data"
   ]
  },
  {
   "cell_type": "code",
   "execution_count": 12,
   "id": "42e51f31-3a63-4c85-8bbe-dd77ca6b5a2f",
   "metadata": {},
   "outputs": [],
   "source": [
    "#perform one hot encoding for training set\n",
    "df_train_onehot = one_hot_encode(df_train, cols_list)"
   ]
  },
  {
   "cell_type": "code",
   "execution_count": 13,
   "id": "4483bf9c-787d-4ecb-bb6a-276b97e89548",
   "metadata": {},
   "outputs": [],
   "source": [
    "#perform one hot encoding for test set\n",
    "df_test_onehot = one_hot_encode(df_test, cols_list)"
   ]
  },
  {
   "cell_type": "code",
   "execution_count": 14,
   "id": "4d6724fb-bad2-429e-a0bf-73fe90623900",
   "metadata": {},
   "outputs": [
    {
     "data": {
      "text/plain": [
       "((125973, 124), (22544, 118))"
      ]
     },
     "execution_count": 14,
     "metadata": {},
     "output_type": "execute_result"
    }
   ],
   "source": [
    "df_train_onehot.shape, df_test_onehot.shape"
   ]
  },
  {
   "cell_type": "code",
   "execution_count": 53,
   "id": "2f9ab3a9-d34f-45de-91b7-9454828c04d5",
   "metadata": {},
   "outputs": [
    {
     "data": {
      "text/plain": [
       "False"
      ]
     },
     "execution_count": 53,
     "metadata": {},
     "output_type": "execute_result"
    }
   ],
   "source": [
    "#check if they are the same\n",
    "are_equal = df_train_onehot.equals(df_test_onehot)\n",
    "are_equal"
   ]
  },
  {
   "cell_type": "code",
   "execution_count": 64,
   "id": "a8a38472-e9f7-4f29-b606-de2d178c6067",
   "metadata": {},
   "outputs": [
    {
     "data": {
      "text/plain": [
       "118"
      ]
     },
     "execution_count": 64,
     "metadata": {},
     "output_type": "execute_result"
    }
   ],
   "source": [
    "#df_concat = pd.concat([df_train_onehot, df_test_onehot], ignore_index=True)\n",
    "#print(df_concat)\n",
    "#df_concat.isnull().values.any()\n",
    "\n",
    "col = set(df_train_onehot.columns).intersection(set(df_test_onehot.columns))\n",
    "len(col)"
   ]
  },
  {
   "cell_type": "code",
   "execution_count": 65,
   "id": "84ae1fb3-e0d2-4f62-85d6-0f7e78ecbb89",
   "metadata": {},
   "outputs": [
    {
     "data": {
      "text/plain": [
       "{'service_aol',\n",
       " 'service_harvest',\n",
       " 'service_http_2784',\n",
       " 'service_http_8001',\n",
       " 'service_red_i',\n",
       " 'service_urh_i'}"
      ]
     },
     "execution_count": 65,
     "metadata": {},
     "output_type": "execute_result"
    }
   ],
   "source": [
    "set(df_train_onehot.columns).difference(set(df_test_onehot.columns))"
   ]
  },
  {
   "cell_type": "code",
   "execution_count": 67,
   "id": "01a76417-2d2f-4135-8199-925304809e30",
   "metadata": {},
   "outputs": [
    {
     "data": {
      "text/plain": [
       "array(['duration', 'src_bytes', 'dst_byte', 'land', 'wrong_fragment',\n",
       "       'urgent', 'hot', 'num_failed_logins', 'logged_in',\n",
       "       'num_compromised', 'root_shell', 'su_attempted', 'num_root',\n",
       "       'num_file_creations', 'num_shells', 'num_access_files',\n",
       "       'num_outbound_cmds', 'is_host_logins', 'is_guest_login', 'count',\n",
       "       'srv_count', 'serror_rate', 'srv_serror_rate', 'rerror_rate',\n",
       "       'srv_rerror_rate', 'same_srv_rate', 'diff_srv_rate',\n",
       "       'srv_diff_host_rate', 'dst_host_count', 'dst_host_srv_count',\n",
       "       'dst_host_same_srv_rate', 'dst_host_diff_srv_rate',\n",
       "       'dst_host_same_srv_port_rate', 'dst_host_srv_diff_host_rate',\n",
       "       'dst_host_serror_rate', 'dst_host_srv_serror_rate',\n",
       "       'dst_host_rerror_rate', 'dst_host_srv_rerror_rate', 'class',\n",
       "       'difficulty_level', 'protocol_type_icmp', 'protocol_type_tcp',\n",
       "       'protocol_type_udp', 'service_IRC', 'service_X11',\n",
       "       'service_Z39_50', 'service_aol', 'service_auth', 'service_bgp',\n",
       "       'service_courier', 'service_csnet_ns', 'service_ctf',\n",
       "       'service_daytime', 'service_discard', 'service_domain',\n",
       "       'service_domain_u', 'service_echo', 'service_eco_i',\n",
       "       'service_ecr_i', 'service_efs', 'service_exec', 'service_finger',\n",
       "       'service_ftp', 'service_ftp_data', 'service_gopher',\n",
       "       'service_harvest', 'service_hostnames', 'service_http',\n",
       "       'service_http_2784', 'service_http_443', 'service_http_8001',\n",
       "       'service_imap4', 'service_iso_tsap', 'service_klogin',\n",
       "       'service_kshell', 'service_ldap', 'service_link', 'service_login',\n",
       "       'service_mtp', 'service_name', 'service_netbios_dgm',\n",
       "       'service_netbios_ns', 'service_netbios_ssn', 'service_netstat',\n",
       "       'service_nnsp', 'service_nntp', 'service_ntp_u', 'service_other',\n",
       "       'service_pm_dump', 'service_pop_2', 'service_pop_3',\n",
       "       'service_printer', 'service_private', 'service_red_i',\n",
       "       'service_remote_job', 'service_rje', 'service_shell',\n",
       "       'service_smtp', 'service_sql_net', 'service_ssh', 'service_sunrpc',\n",
       "       'service_supdup', 'service_systat', 'service_telnet',\n",
       "       'service_tftp_u', 'service_tim_i', 'service_time', 'service_urh_i',\n",
       "       'service_urp_i', 'service_uucp', 'service_uucp_path',\n",
       "       'service_vmnet', 'service_whois', 'flag_OTH', 'flag_REJ',\n",
       "       'flag_RSTO', 'flag_RSTOS0', 'flag_RSTR', 'flag_S0', 'flag_S1',\n",
       "       'flag_S2', 'flag_S3', 'flag_SF', 'flag_SH'], dtype=object)"
      ]
     },
     "execution_count": 67,
     "metadata": {},
     "output_type": "execute_result"
    }
   ],
   "source": [
    "df_train_onehot.columns.values"
   ]
  },
  {
   "cell_type": "code",
   "execution_count": 73,
   "id": "019967c1-000e-4b39-8de9-42cad33cd6f7",
   "metadata": {},
   "outputs": [
    {
     "data": {
      "text/plain": [
       "(125973, 118)"
      ]
     },
     "execution_count": 73,
     "metadata": {},
     "output_type": "execute_result"
    }
   ],
   "source": [
    "test_col = df_test_onehot.columns.values\n",
    "df_train_new = df_train_onehot[test_col]\n",
    "df_train_new.shape"
   ]
  },
  {
   "cell_type": "code",
   "execution_count": 74,
   "id": "a276225e-f7e4-4c7b-afb4-c00f693fe989",
   "metadata": {},
   "outputs": [
    {
     "data": {
      "text/plain": [
       "0          normal\n",
       "1          normal\n",
       "2         neptune\n",
       "3          normal\n",
       "4          normal\n",
       "           ...   \n",
       "125968    neptune\n",
       "125969     normal\n",
       "125970     normal\n",
       "125971    neptune\n",
       "125972     normal\n",
       "Name: class, Length: 125973, dtype: object"
      ]
     },
     "execution_count": 74,
     "metadata": {},
     "output_type": "execute_result"
    }
   ],
   "source": [
    "#df_train_onehot['class']\n",
    "df_train_new['class']"
   ]
  },
  {
   "cell_type": "code",
   "execution_count": 75,
   "id": "3f7e2aaf-d7a8-4c7d-991b-e8f051dcdda3",
   "metadata": {},
   "outputs": [
    {
     "data": {
      "text/plain": [
       "0        neptune\n",
       "1        neptune\n",
       "2         normal\n",
       "3          saint\n",
       "4          mscan\n",
       "          ...   \n",
       "22539     normal\n",
       "22540     normal\n",
       "22541       back\n",
       "22542     normal\n",
       "22543      mscan\n",
       "Name: class, Length: 22544, dtype: object"
      ]
     },
     "execution_count": 75,
     "metadata": {},
     "output_type": "execute_result"
    }
   ],
   "source": [
    "df_test_onehot['class']"
   ]
  },
  {
   "cell_type": "code",
   "execution_count": 76,
   "id": "aed9d1e5-7abf-48df-a6f9-163abf02028f",
   "metadata": {},
   "outputs": [
    {
     "data": {
      "text/plain": [
       "((125973, 118), (22544, 118))"
      ]
     },
     "execution_count": 76,
     "metadata": {},
     "output_type": "execute_result"
    }
   ],
   "source": [
    "#copy data from the original\n",
    "df_data_train = df_train_new.copy()\n",
    "df_data_test = df_test_onehot.copy()\n",
    "df_data_train.shape, df_data_test.shape"
   ]
  },
  {
   "cell_type": "code",
   "execution_count": 77,
   "id": "7488b04b-1373-4762-bcf2-ae79d3f213b7",
   "metadata": {},
   "outputs": [
    {
     "name": "stdout",
     "output_type": "stream",
     "text": [
      "Number of attacks in groups (Training dataset):\n",
      "\n",
      "DoS:45927, Probe:11656, U2R:52, R2L:995, Normal:67343\n"
     ]
    }
   ],
   "source": [
    "#fixing labels on the training column 'class'\n",
    "classlist = []\n",
    "attack1 = (\"apache2\",\"back\",\"land\",\"neptune\",\"mailbomb\",\"pod\",\"processtable\",\"smurf\",\"teardrop\",\"udpstorm\",\"worm\")\n",
    "attack2 = (\"ipsweep\",\"mscan\",\"nmap\",\"portsweep\",\"saint\",\"satan\")\n",
    "attack3 = (\"buffer_overflow\",\"loadmodule\",\"perl\",\"ps\",\"rootkit\",\"sqlattack\",\"xterm\")\n",
    "attack4 = (\"ftp_write\",\"guess_passwd\",\"httptunnel\",\"imap\",\"multihop\",\"named\",\"phf\",\"sendmail\",\"Snmpgetattack\",\"spy\",\"snmpguess\",\"warezclient\",\"warezmaster\",\"xlock\",\"xsnoop\")\n",
    "\n",
    "# initialize the count of each attack category\n",
    "DoS = 0\n",
    "Probe = 0\n",
    "U2R = 0\n",
    "R2L = 0\n",
    "Normal = 0\n",
    "\n",
    "for i in df_data_train['class']:\n",
    "  if i in attack1:\n",
    "    classlist.append('DoS')\n",
    "    DoS += 1\n",
    "  elif i in attack2:\n",
    "    classlist.append('Probe')\n",
    "    Probe += 1\n",
    "  elif i in attack3:\n",
    "    classlist.append('U2R')\n",
    "    U2R += 1\n",
    "  elif i in attack4:\n",
    "    classlist.append('R2L')\n",
    "    R2L += 1\n",
    "  else:\n",
    "    classlist.append('Normal')\n",
    "    Normal += 1\n",
    "\n",
    "\n",
    "print('Number of attacks in groups (Training dataset):\\n')\n",
    "print('DoS:{}, Probe:{}, U2R:{}, R2L:{}, Normal:{}'.format(DoS, Probe, U2R, R2L, Normal))"
   ]
  },
  {
   "cell_type": "code",
   "execution_count": 78,
   "id": "47cc7937-7476-457a-abab-148a62265c1c",
   "metadata": {},
   "outputs": [
    {
     "name": "stdout",
     "output_type": "stream",
     "text": [
      "Number of attacks in groups (Training dataset):\n",
      "\n",
      "DoS:7460, Probe:2421, U2R:67, R2L:2707, Normal:9889\n"
     ]
    }
   ],
   "source": [
    "#fixing labels on the testing column 'class'\n",
    "classlist_test = []\n",
    "attack1 = (\"apache2\",\"back\",\"land\",\"neptune\",\"mailbomb\",\"pod\",\"processtable\",\"smurf\",\"teardrop\",\"udpstorm\",\"worm\")\n",
    "attack2 = (\"ipsweep\",\"mscan\",\"nmap\",\"portsweep\",\"saint\",\"satan\")\n",
    "attack3 = (\"buffer_overflow\",\"loadmodule\",\"perl\",\"ps\",\"rootkit\",\"sqlattack\",\"xterm\")\n",
    "attack4 = (\"ftp_write\",\"guess_passwd\",\"httptunnel\",\"imap\",\"multihop\",\"named\",\"phf\",\"sendmail\",\"Snmpgetattack\",\"spy\",\"snmpguess\",\"warezclient\",\"warezmaster\",\"xlock\",\"xsnoop\")\n",
    "\n",
    "# initialize the count of each attack category\n",
    "DoS = 0\n",
    "Probe = 0\n",
    "U2R = 0\n",
    "R2L = 0\n",
    "Normal = 0\n",
    "\n",
    "for i in df_data_test['class']:\n",
    "  if i in attack1:\n",
    "    classlist_test.append('DoS')\n",
    "    DoS += 1\n",
    "  elif i in attack2:\n",
    "    classlist_test.append('Probe')\n",
    "    Probe += 1\n",
    "  elif i in attack3:\n",
    "    classlist_test.append('U2R')\n",
    "    U2R += 1\n",
    "  elif i in attack4:\n",
    "    classlist_test.append('R2L')\n",
    "    R2L += 1\n",
    "  else:\n",
    "    classlist_test.append('Normal')\n",
    "    Normal += 1\n",
    "\n",
    "\n",
    "print('Number of attacks in groups (Training dataset):\\n')\n",
    "print('DoS:{}, Probe:{}, U2R:{}, R2L:{}, Normal:{}'.format(DoS, Probe, U2R, R2L, Normal))"
   ]
  },
  {
   "cell_type": "code",
   "execution_count": 79,
   "id": "13c0f31b-6ec4-4e20-869a-bc735fa046db",
   "metadata": {},
   "outputs": [
    {
     "data": {
      "text/plain": [
       "(['Normal', 'Normal', 'DoS', 'Normal', 'Normal'],\n",
       " ['DoS', 'DoS', 'Normal', 'Probe', 'Probe'])"
      ]
     },
     "execution_count": 79,
     "metadata": {},
     "output_type": "execute_result"
    }
   ],
   "source": [
    "#view the class list\n",
    "classlist[:5], classlist_test[:5]"
   ]
  },
  {
   "cell_type": "code",
   "execution_count": 80,
   "id": "f27e34c2-7331-4162-81ec-0ddd2ce16b05",
   "metadata": {},
   "outputs": [],
   "source": [
    "# now append the class column to the dataFrames\n",
    "df_data_train['class'] = classlist\n",
    "df_data_test['class'] = classlist_test"
   ]
  },
  {
   "cell_type": "code",
   "execution_count": 81,
   "id": "87891204-d455-4141-bc3a-e520507e0ea5",
   "metadata": {},
   "outputs": [
    {
     "data": {
      "text/html": [
       "<div>\n",
       "<style scoped>\n",
       "    .dataframe tbody tr th:only-of-type {\n",
       "        vertical-align: middle;\n",
       "    }\n",
       "\n",
       "    .dataframe tbody tr th {\n",
       "        vertical-align: top;\n",
       "    }\n",
       "\n",
       "    .dataframe thead th {\n",
       "        text-align: right;\n",
       "    }\n",
       "</style>\n",
       "<table border=\"1\" class=\"dataframe\">\n",
       "  <thead>\n",
       "    <tr style=\"text-align: right;\">\n",
       "      <th></th>\n",
       "      <th>class</th>\n",
       "    </tr>\n",
       "  </thead>\n",
       "  <tbody>\n",
       "    <tr>\n",
       "      <th>0</th>\n",
       "      <td>Normal</td>\n",
       "    </tr>\n",
       "    <tr>\n",
       "      <th>1</th>\n",
       "      <td>Normal</td>\n",
       "    </tr>\n",
       "    <tr>\n",
       "      <th>2</th>\n",
       "      <td>DoS</td>\n",
       "    </tr>\n",
       "    <tr>\n",
       "      <th>3</th>\n",
       "      <td>Normal</td>\n",
       "    </tr>\n",
       "    <tr>\n",
       "      <th>4</th>\n",
       "      <td>Normal</td>\n",
       "    </tr>\n",
       "  </tbody>\n",
       "</table>\n",
       "</div>"
      ],
      "text/plain": [
       "    class\n",
       "0  Normal\n",
       "1  Normal\n",
       "2     DoS\n",
       "3  Normal\n",
       "4  Normal"
      ]
     },
     "execution_count": 81,
     "metadata": {},
     "output_type": "execute_result"
    }
   ],
   "source": [
    "#verify categorical variables\n",
    "#only the label class\n",
    "df_data_train.select_dtypes('object').head()"
   ]
  },
  {
   "cell_type": "code",
   "execution_count": 82,
   "id": "8d87bd17-d007-417b-9a4e-018d57a4a6fb",
   "metadata": {},
   "outputs": [
    {
     "data": {
      "text/html": [
       "<div>\n",
       "<style scoped>\n",
       "    .dataframe tbody tr th:only-of-type {\n",
       "        vertical-align: middle;\n",
       "    }\n",
       "\n",
       "    .dataframe tbody tr th {\n",
       "        vertical-align: top;\n",
       "    }\n",
       "\n",
       "    .dataframe thead th {\n",
       "        text-align: right;\n",
       "    }\n",
       "</style>\n",
       "<table border=\"1\" class=\"dataframe\">\n",
       "  <thead>\n",
       "    <tr style=\"text-align: right;\">\n",
       "      <th></th>\n",
       "      <th>class</th>\n",
       "    </tr>\n",
       "  </thead>\n",
       "  <tbody>\n",
       "    <tr>\n",
       "      <th>0</th>\n",
       "      <td>DoS</td>\n",
       "    </tr>\n",
       "    <tr>\n",
       "      <th>1</th>\n",
       "      <td>DoS</td>\n",
       "    </tr>\n",
       "    <tr>\n",
       "      <th>2</th>\n",
       "      <td>Normal</td>\n",
       "    </tr>\n",
       "    <tr>\n",
       "      <th>3</th>\n",
       "      <td>Probe</td>\n",
       "    </tr>\n",
       "    <tr>\n",
       "      <th>4</th>\n",
       "      <td>Probe</td>\n",
       "    </tr>\n",
       "  </tbody>\n",
       "</table>\n",
       "</div>"
      ],
      "text/plain": [
       "    class\n",
       "0     DoS\n",
       "1     DoS\n",
       "2  Normal\n",
       "3   Probe\n",
       "4   Probe"
      ]
     },
     "execution_count": 82,
     "metadata": {},
     "output_type": "execute_result"
    }
   ],
   "source": [
    "#verify categorical variables\n",
    "#only the label class\n",
    "df_data_test.select_dtypes('object').head()"
   ]
  },
  {
   "cell_type": "code",
   "execution_count": 83,
   "id": "96939e0c-9185-49af-babe-3b0a21f09cf2",
   "metadata": {},
   "outputs": [
    {
     "name": "stdout",
     "output_type": "stream",
     "text": [
      "(125973, 117) (125973,)\n"
     ]
    }
   ],
   "source": [
    "#separate labels from the dataset\n",
    "y_train = df_data_train.pop('class')\n",
    "\n",
    "# the remaining data will be X\n",
    "X_train = df_data_train\n",
    "print(X_train.shape, y_train.shape)"
   ]
  },
  {
   "cell_type": "code",
   "execution_count": 84,
   "id": "27f5ecf9-b8f5-4e6b-90d6-67beff60fad9",
   "metadata": {},
   "outputs": [
    {
     "name": "stdout",
     "output_type": "stream",
     "text": [
      "(22544, 117) (22544,)\n"
     ]
    }
   ],
   "source": [
    "#separate labels from the dataset\n",
    "y_test = df_data_test.pop('class')\n",
    "\n",
    "# the remaining data will be X\n",
    "X_test = df_data_test\n",
    "print(X_test.shape, y_test.shape)"
   ]
  },
  {
   "cell_type": "code",
   "execution_count": 85,
   "id": "49d6b4ff-72ac-4b8d-a420-db0b57cee9a0",
   "metadata": {},
   "outputs": [],
   "source": [
    "# encoding labels function\n",
    "\n",
    "# binary classification (0 for normal and 1 for attack)\n",
    "def attack_encode_bin(attack):\n",
    "  if attack == 'Normal':\n",
    "    return 0\n",
    "  else:\n",
    "    return 1\n",
    "\n",
    "# multi-class classification\n",
    "# multi-labels (0,1,2,3,4)\n",
    "def attack_encode_mult(attack):\n",
    "  if attack == 'Normal':\n",
    "    return 0\n",
    "  elif attack == 'DoS':\n",
    "    return 1\n",
    "  elif attack == 'Probe':\n",
    "    return 2\n",
    "  elif attack == 'U2R':\n",
    "    return 3\n",
    "  else:\n",
    "    return 4"
   ]
  },
  {
   "cell_type": "code",
   "execution_count": 86,
   "id": "bfc41314-8e2f-40ad-b6b1-afd8af340016",
   "metadata": {},
   "outputs": [
    {
     "name": "stdout",
     "output_type": "stream",
     "text": [
      "[0 1]\n"
     ]
    }
   ],
   "source": [
    "# binary classification labels\n",
    "y_train_bin = y_train.apply(attack_encode_bin)\n",
    "print(y_train_bin.unique())"
   ]
  },
  {
   "cell_type": "code",
   "execution_count": 87,
   "id": "d5de37fb-63f7-45ad-a5bd-dbecf8834d28",
   "metadata": {},
   "outputs": [
    {
     "name": "stdout",
     "output_type": "stream",
     "text": [
      "[1 0]\n"
     ]
    }
   ],
   "source": [
    "# binary classification labels\n",
    "y_test_bin = y_test.apply(attack_encode_bin)\n",
    "print(y_test_bin.unique())"
   ]
  },
  {
   "cell_type": "code",
   "execution_count": 88,
   "id": "d539f879-2807-4098-b5a8-932e09cbd27b",
   "metadata": {},
   "outputs": [
    {
     "name": "stdout",
     "output_type": "stream",
     "text": [
      "[0 1 4 2 3]\n"
     ]
    }
   ],
   "source": [
    "# multi-class classification labels\n",
    "y_train_mult = y_train.apply(attack_encode_mult)\n",
    "print(y_train_mult.unique())"
   ]
  },
  {
   "cell_type": "code",
   "execution_count": 89,
   "id": "089771a9-76be-455a-a8cd-309d8433074f",
   "metadata": {},
   "outputs": [
    {
     "name": "stdout",
     "output_type": "stream",
     "text": [
      "[1 0 2 4 3]\n"
     ]
    }
   ],
   "source": [
    "# multi-class classification labels\n",
    "y_test_mult = y_test.apply(attack_encode_mult)\n",
    "print(y_test_mult.unique())"
   ]
  },
  {
   "cell_type": "code",
   "execution_count": 90,
   "id": "0db42627-ca4b-481c-b48d-89e7eba14193",
   "metadata": {},
   "outputs": [
    {
     "name": "stdout",
     "output_type": "stream",
     "text": [
      "[[1 0 0 0 0]\n",
      " [1 0 0 0 0]\n",
      " [0 1 0 0 0]]\n"
     ]
    }
   ],
   "source": [
    "# binarize labels for multi-class\n",
    "\n",
    "y_train_mult_b = LabelBinarizer().fit_transform(y_train_mult)\n",
    "print(y_train_mult_b[:3])"
   ]
  },
  {
   "cell_type": "code",
   "execution_count": null,
   "id": "bc12c573-50f3-4e72-9406-56aa4980f601",
   "metadata": {},
   "outputs": [],
   "source": []
  },
  {
   "cell_type": "code",
   "execution_count": 91,
   "id": "f9920194-eae1-4977-ae2f-5c4c8ed8b162",
   "metadata": {},
   "outputs": [
    {
     "name": "stdout",
     "output_type": "stream",
     "text": [
      "[[0 1 0 0 0]\n",
      " [0 1 0 0 0]\n",
      " [1 0 0 0 0]]\n"
     ]
    }
   ],
   "source": [
    "# binarize labels for multi-class\n",
    "\n",
    "y_test_mult_b = LabelBinarizer().fit_transform(y_test_mult)\n",
    "print(y_test_mult_b[:3])"
   ]
  },
  {
   "cell_type": "code",
   "execution_count": 92,
   "id": "278ca2bc-332a-4321-af9e-45aeff10fa45",
   "metadata": {},
   "outputs": [
    {
     "data": {
      "text/plain": [
       "array([[0, 1, 0, 0, 0],\n",
       "       [0, 1, 0, 0, 0],\n",
       "       [1, 0, 0, 0, 0],\n",
       "       ...,\n",
       "       [0, 1, 0, 0, 0],\n",
       "       [1, 0, 0, 0, 0],\n",
       "       [0, 0, 1, 0, 0]])"
      ]
     },
     "execution_count": 92,
     "metadata": {},
     "output_type": "execute_result"
    }
   ],
   "source": [
    "y_test_mult_b"
   ]
  },
  {
   "cell_type": "code",
   "execution_count": 93,
   "id": "10ae8c14-c41b-4992-a955-bf120f0ce910",
   "metadata": {},
   "outputs": [],
   "source": [
    "# convert dataset into images\n",
    "# training dataset\n",
    "model_nsl = Tab2Img()\n",
    "images_mult_train = model_nsl.fit_transform(X_train.values, y_train_mult.values)"
   ]
  },
  {
   "cell_type": "code",
   "execution_count": 94,
   "id": "b77f1a9a-81ca-409f-96af-c72cd81dd8e6",
   "metadata": {},
   "outputs": [],
   "source": [
    "# convert dataset into images\n",
    "# test dataset\n",
    "images_mult_test = model_nsl.fit_transform(X_test.values, y_test_mult.values)"
   ]
  },
  {
   "cell_type": "code",
   "execution_count": 95,
   "id": "c62ae7af-75d3-4d31-9515-42655ecf00c2",
   "metadata": {},
   "outputs": [
    {
     "data": {
      "text/plain": [
       "((125973, 11, 11), (22544, 11, 11))"
      ]
     },
     "execution_count": 95,
     "metadata": {},
     "output_type": "execute_result"
    }
   ],
   "source": [
    "images_mult_train.shape, images_mult_test.shape"
   ]
  },
  {
   "cell_type": "code",
   "execution_count": 96,
   "id": "a4de0373-afb9-468d-8fa1-f77f5d5dfed8",
   "metadata": {},
   "outputs": [
    {
     "data": {
      "image/png": "[encoded data removed]",
      "text/plain": [
       "<Figure size 640x480 with 18 Axes>"
      ]
     },
     "metadata": {},
     "output_type": "display_data"
    }
   ],
   "source": [
    "# Visualize the dataset\n",
    "\n",
    "for i in range(18):\n",
    "    plt.subplot(3, 6, i+1)\n",
    "    plt.tight_layout()\n",
    "    plt.imshow(images_mult_train[i], cmap='gray', interpolation='none')\n",
    "    plt.title('class: {}'.format(y_train_mult.values[i]))\n",
    "    plt.yticks([])\n",
    "    plt.xticks([])"
   ]
  },
  {
   "cell_type": "code",
   "execution_count": 97,
   "id": "948dbeb2-77e2-488f-b3ae-b9cf451c41a0",
   "metadata": {},
   "outputs": [
    {
     "data": {
      "image/png": "[encoded data removed]",
      "text/plain": [
       "<Figure size 640x480 with 18 Axes>"
      ]
     },
     "metadata": {},
     "output_type": "display_data"
    }
   ],
   "source": [
    "for i in range(18):\n",
    "    plt.subplot(3, 6, i+1)\n",
    "    plt.tight_layout()\n",
    "    plt.imshow(images_mult_test[i], cmap='gray', interpolation='none')\n",
    "    plt.title('class: {}'.format(y_test_mult.values[i]))\n",
    "    plt.yticks([])\n",
    "    plt.xticks([])"
   ]
  },
  {
   "cell_type": "code",
   "execution_count": 98,
   "id": "9e2611bc-a5ee-4085-81fc-fb22b41b4fe3",
   "metadata": {},
   "outputs": [
    {
     "data": {
      "text/plain": [
       "((125973, 11, 11), (22544, 11, 11))"
      ]
     },
     "execution_count": 98,
     "metadata": {},
     "output_type": "execute_result"
    }
   ],
   "source": [
    "images_mult_train.shape, images_mult_test.shape"
   ]
  },
  {
   "cell_type": "code",
   "execution_count": 99,
   "id": "32df0fe9-c428-499e-91e0-4f530d38dfbf",
   "metadata": {},
   "outputs": [],
   "source": [
    "X_train = images_mult_train.reshape(images_mult_train.shape[0], images_mult_train.shape[1],images_mult_train.shape[2], 1)\n",
    "X_test = images_mult_test.reshape(images_mult_test.shape[0],images_mult_test.shape[1],images_mult_test.shape[2], 1)"
   ]
  },
  {
   "cell_type": "code",
   "execution_count": 100,
   "id": "2f007d32-e27d-4510-af67-104ee3d3920c",
   "metadata": {},
   "outputs": [
    {
     "data": {
      "text/plain": [
       "((125973, 11, 11, 1), (22544, 11, 11, 1))"
      ]
     },
     "execution_count": 100,
     "metadata": {},
     "output_type": "execute_result"
    }
   ],
   "source": [
    "X_train.shape, X_test.shape"
   ]
  },
  {
   "cell_type": "code",
   "execution_count": 101,
   "id": "7926b803-da99-4d3e-ad18-b2dbea1054db",
   "metadata": {},
   "outputs": [],
   "source": [
    "# reshaping\n",
    "X_train = X_train/255\n",
    "X_test = X_test/255"
   ]
  },
  {
   "cell_type": "code",
   "execution_count": 105,
   "id": "d43e5e4e-586e-48b8-a3fc-f6e0d5467066",
   "metadata": {},
   "outputs": [
    {
     "data": {
      "text/html": [
       "<pre style=\"white-space:pre;overflow-x:auto;line-height:normal;font-family:Menlo,'DejaVu Sans Mono',consolas,'Courier New',monospace\"><span style=\"font-weight: bold\">Model: \"sequential_3\"</span>\n",
       "</pre>\n"
      ],
      "text/plain": [
       "\u001b[1mModel: \"sequential_3\"\u001b[0m\n"
      ]
     },
     "metadata": {},
     "output_type": "display_data"
    },
    {
     "data": {
      "text/html": [
       "<pre style=\"white-space:pre;overflow-x:auto;line-height:normal;font-family:Menlo,'DejaVu Sans Mono',consolas,'Courier New',monospace\">┏━━━━━━━━━━━━━━━━━━━━━━━━━━━━━━━━━┳━━━━━━━━━━━━━━━━━━━━━━━━┳━━━━━━━━━━━━━━━┓\n",
       "┃<span style=\"font-weight: bold\"> Layer (type)                    </span>┃<span style=\"font-weight: bold\"> Output Shape           </span>┃<span style=\"font-weight: bold\">       Param # </span>┃\n",
       "┡━━━━━━━━━━━━━━━━━━━━━━━━━━━━━━━━━╇━━━━━━━━━━━━━━━━━━━━━━━━╇━━━━━━━━━━━━━━━┩\n",
       "│ conv2d_9 (<span style=\"color: #0087ff; text-decoration-color: #0087ff\">Conv2D</span>)               │ (<span style=\"color: #00d7ff; text-decoration-color: #00d7ff\">None</span>, <span style=\"color: #00af00; text-decoration-color: #00af00\">11</span>, <span style=\"color: #00af00; text-decoration-color: #00af00\">11</span>, <span style=\"color: #00af00; text-decoration-color: #00af00\">32</span>)     │           <span style=\"color: #00af00; text-decoration-color: #00af00\">320</span> │\n",
       "├─────────────────────────────────┼────────────────────────┼───────────────┤\n",
       "│ conv2d_10 (<span style=\"color: #0087ff; text-decoration-color: #0087ff\">Conv2D</span>)              │ (<span style=\"color: #00d7ff; text-decoration-color: #00d7ff\">None</span>, <span style=\"color: #00af00; text-decoration-color: #00af00\">11</span>, <span style=\"color: #00af00; text-decoration-color: #00af00\">11</span>, <span style=\"color: #00af00; text-decoration-color: #00af00\">64</span>)     │        <span style=\"color: #00af00; text-decoration-color: #00af00\">18,496</span> │\n",
       "├─────────────────────────────────┼────────────────────────┼───────────────┤\n",
       "│ max_pooling2d_3 (<span style=\"color: #0087ff; text-decoration-color: #0087ff\">MaxPooling2D</span>)  │ (<span style=\"color: #00d7ff; text-decoration-color: #00d7ff\">None</span>, <span style=\"color: #00af00; text-decoration-color: #00af00\">2</span>, <span style=\"color: #00af00; text-decoration-color: #00af00\">2</span>, <span style=\"color: #00af00; text-decoration-color: #00af00\">64</span>)       │             <span style=\"color: #00af00; text-decoration-color: #00af00\">0</span> │\n",
       "├─────────────────────────────────┼────────────────────────┼───────────────┤\n",
       "│ dropout_8 (<span style=\"color: #0087ff; text-decoration-color: #0087ff\">Dropout</span>)             │ (<span style=\"color: #00d7ff; text-decoration-color: #00d7ff\">None</span>, <span style=\"color: #00af00; text-decoration-color: #00af00\">2</span>, <span style=\"color: #00af00; text-decoration-color: #00af00\">2</span>, <span style=\"color: #00af00; text-decoration-color: #00af00\">64</span>)       │             <span style=\"color: #00af00; text-decoration-color: #00af00\">0</span> │\n",
       "├─────────────────────────────────┼────────────────────────┼───────────────┤\n",
       "│ conv2d_11 (<span style=\"color: #0087ff; text-decoration-color: #0087ff\">Conv2D</span>)              │ (<span style=\"color: #00d7ff; text-decoration-color: #00d7ff\">None</span>, <span style=\"color: #00af00; text-decoration-color: #00af00\">2</span>, <span style=\"color: #00af00; text-decoration-color: #00af00\">2</span>, <span style=\"color: #00af00; text-decoration-color: #00af00\">128</span>)      │        <span style=\"color: #00af00; text-decoration-color: #00af00\">73,856</span> │\n",
       "├─────────────────────────────────┼────────────────────────┼───────────────┤\n",
       "│ dropout_9 (<span style=\"color: #0087ff; text-decoration-color: #0087ff\">Dropout</span>)             │ (<span style=\"color: #00d7ff; text-decoration-color: #00d7ff\">None</span>, <span style=\"color: #00af00; text-decoration-color: #00af00\">2</span>, <span style=\"color: #00af00; text-decoration-color: #00af00\">2</span>, <span style=\"color: #00af00; text-decoration-color: #00af00\">128</span>)      │             <span style=\"color: #00af00; text-decoration-color: #00af00\">0</span> │\n",
       "├─────────────────────────────────┼────────────────────────┼───────────────┤\n",
       "│ flatten_2 (<span style=\"color: #0087ff; text-decoration-color: #0087ff\">Flatten</span>)             │ (<span style=\"color: #00d7ff; text-decoration-color: #00d7ff\">None</span>, <span style=\"color: #00af00; text-decoration-color: #00af00\">512</span>)            │             <span style=\"color: #00af00; text-decoration-color: #00af00\">0</span> │\n",
       "├─────────────────────────────────┼────────────────────────┼───────────────┤\n",
       "│ dense_4 (<span style=\"color: #0087ff; text-decoration-color: #0087ff\">Dense</span>)                 │ (<span style=\"color: #00d7ff; text-decoration-color: #00d7ff\">None</span>, <span style=\"color: #00af00; text-decoration-color: #00af00\">256</span>)            │       <span style=\"color: #00af00; text-decoration-color: #00af00\">131,328</span> │\n",
       "├─────────────────────────────────┼────────────────────────┼───────────────┤\n",
       "│ dropout_10 (<span style=\"color: #0087ff; text-decoration-color: #0087ff\">Dropout</span>)            │ (<span style=\"color: #00d7ff; text-decoration-color: #00d7ff\">None</span>, <span style=\"color: #00af00; text-decoration-color: #00af00\">256</span>)            │             <span style=\"color: #00af00; text-decoration-color: #00af00\">0</span> │\n",
       "├─────────────────────────────────┼────────────────────────┼───────────────┤\n",
       "│ dense_5 (<span style=\"color: #0087ff; text-decoration-color: #0087ff\">Dense</span>)                 │ (<span style=\"color: #00d7ff; text-decoration-color: #00d7ff\">None</span>, <span style=\"color: #00af00; text-decoration-color: #00af00\">5</span>)              │         <span style=\"color: #00af00; text-decoration-color: #00af00\">1,285</span> │\n",
       "└─────────────────────────────────┴────────────────────────┴───────────────┘\n",
       "</pre>\n"
      ],
      "text/plain": [
       "┏━━━━━━━━━━━━━━━━━━━━━━━━━━━━━━━━━┳━━━━━━━━━━━━━━━━━━━━━━━━┳━━━━━━━━━━━━━━━┓\n",
       "┃\u001b[1m \u001b[0m\u001b[1mLayer (type)                   \u001b[0m\u001b[1m \u001b[0m┃\u001b[1m \u001b[0m\u001b[1mOutput Shape          \u001b[0m\u001b[1m \u001b[0m┃\u001b[1m \u001b[0m\u001b[1m      Param #\u001b[0m\u001b[1m \u001b[0m┃\n",
       "┡━━━━━━━━━━━━━━━━━━━━━━━━━━━━━━━━━╇━━━━━━━━━━━━━━━━━━━━━━━━╇━━━━━━━━━━━━━━━┩\n",
       "│ conv2d_9 (\u001b[38;5;33mConv2D\u001b[0m)               │ (\u001b[38;5;45mNone\u001b[0m, \u001b[38;5;34m11\u001b[0m, \u001b[38;5;34m11\u001b[0m, \u001b[38;5;34m32\u001b[0m)     │           \u001b[38;5;34m320\u001b[0m │\n",
       "├─────────────────────────────────┼────────────────────────┼───────────────┤\n",
       "│ conv2d_10 (\u001b[38;5;33mConv2D\u001b[0m)              │ (\u001b[38;5;45mNone\u001b[0m, \u001b[38;5;34m11\u001b[0m, \u001b[38;5;34m11\u001b[0m, \u001b[38;5;34m64\u001b[0m)     │        \u001b[38;5;34m18,496\u001b[0m │\n",
       "├─────────────────────────────────┼────────────────────────┼───────────────┤\n",
       "│ max_pooling2d_3 (\u001b[38;5;33mMaxPooling2D\u001b[0m)  │ (\u001b[38;5;45mNone\u001b[0m, \u001b[38;5;34m2\u001b[0m, \u001b[38;5;34m2\u001b[0m, \u001b[38;5;34m64\u001b[0m)       │             \u001b[38;5;34m0\u001b[0m │\n",
       "├─────────────────────────────────┼────────────────────────┼───────────────┤\n",
       "│ dropout_8 (\u001b[38;5;33mDropout\u001b[0m)             │ (\u001b[38;5;45mNone\u001b[0m, \u001b[38;5;34m2\u001b[0m, \u001b[38;5;34m2\u001b[0m, \u001b[38;5;34m64\u001b[0m)       │             \u001b[38;5;34m0\u001b[0m │\n",
       "├─────────────────────────────────┼────────────────────────┼───────────────┤\n",
       "│ conv2d_11 (\u001b[38;5;33mConv2D\u001b[0m)              │ (\u001b[38;5;45mNone\u001b[0m, \u001b[38;5;34m2\u001b[0m, \u001b[38;5;34m2\u001b[0m, \u001b[38;5;34m128\u001b[0m)      │        \u001b[38;5;34m73,856\u001b[0m │\n",
       "├─────────────────────────────────┼────────────────────────┼───────────────┤\n",
       "│ dropout_9 (\u001b[38;5;33mDropout\u001b[0m)             │ (\u001b[38;5;45mNone\u001b[0m, \u001b[38;5;34m2\u001b[0m, \u001b[38;5;34m2\u001b[0m, \u001b[38;5;34m128\u001b[0m)      │             \u001b[38;5;34m0\u001b[0m │\n",
       "├─────────────────────────────────┼────────────────────────┼───────────────┤\n",
       "│ flatten_2 (\u001b[38;5;33mFlatten\u001b[0m)             │ (\u001b[38;5;45mNone\u001b[0m, \u001b[38;5;34m512\u001b[0m)            │             \u001b[38;5;34m0\u001b[0m │\n",
       "├─────────────────────────────────┼────────────────────────┼───────────────┤\n",
       "│ dense_4 (\u001b[38;5;33mDense\u001b[0m)                 │ (\u001b[38;5;45mNone\u001b[0m, \u001b[38;5;34m256\u001b[0m)            │       \u001b[38;5;34m131,328\u001b[0m │\n",
       "├─────────────────────────────────┼────────────────────────┼───────────────┤\n",
       "│ dropout_10 (\u001b[38;5;33mDropout\u001b[0m)            │ (\u001b[38;5;45mNone\u001b[0m, \u001b[38;5;34m256\u001b[0m)            │             \u001b[38;5;34m0\u001b[0m │\n",
       "├─────────────────────────────────┼────────────────────────┼───────────────┤\n",
       "│ dense_5 (\u001b[38;5;33mDense\u001b[0m)                 │ (\u001b[38;5;45mNone\u001b[0m, \u001b[38;5;34m5\u001b[0m)              │         \u001b[38;5;34m1,285\u001b[0m │\n",
       "└─────────────────────────────────┴────────────────────────┴───────────────┘\n"
      ]
     },
     "metadata": {},
     "output_type": "display_data"
    },
    {
     "data": {
      "text/html": [
       "<pre style=\"white-space:pre;overflow-x:auto;line-height:normal;font-family:Menlo,'DejaVu Sans Mono',consolas,'Courier New',monospace\"><span style=\"font-weight: bold\"> Total params: </span><span style=\"color: #00af00; text-decoration-color: #00af00\">225,285</span> (880.02 KB)\n",
       "</pre>\n"
      ],
      "text/plain": [
       "\u001b[1m Total params: \u001b[0m\u001b[38;5;34m225,285\u001b[0m (880.02 KB)\n"
      ]
     },
     "metadata": {},
     "output_type": "display_data"
    },
    {
     "data": {
      "text/html": [
       "<pre style=\"white-space:pre;overflow-x:auto;line-height:normal;font-family:Menlo,'DejaVu Sans Mono',consolas,'Courier New',monospace\"><span style=\"font-weight: bold\"> Trainable params: </span><span style=\"color: #00af00; text-decoration-color: #00af00\">225,285</span> (880.02 KB)\n",
       "</pre>\n"
      ],
      "text/plain": [
       "\u001b[1m Trainable params: \u001b[0m\u001b[38;5;34m225,285\u001b[0m (880.02 KB)\n"
      ]
     },
     "metadata": {},
     "output_type": "display_data"
    },
    {
     "data": {
      "text/html": [
       "<pre style=\"white-space:pre;overflow-x:auto;line-height:normal;font-family:Menlo,'DejaVu Sans Mono',consolas,'Courier New',monospace\"><span style=\"font-weight: bold\"> Non-trainable params: </span><span style=\"color: #00af00; text-decoration-color: #00af00\">0</span> (0.00 B)\n",
       "</pre>\n"
      ],
      "text/plain": [
       "\u001b[1m Non-trainable params: \u001b[0m\u001b[38;5;34m0\u001b[0m (0.00 B)\n"
      ]
     },
     "metadata": {},
     "output_type": "display_data"
    }
   ],
   "source": [
    "# multi-class classification\n",
    "\n",
    "model_mult = Sequential()\n",
    "model_mult.add(Conv2D(32,3,padding='same', input_shape=(11,11,1),activation='relu'))\n",
    "\n",
    "model_mult.add(Conv2D(64,3,padding='same',activation='relu'))\n",
    "model_mult.add(MaxPool2D(pool_size=(4)))\n",
    "model_mult.add(Dropout(0.25))\n",
    "\n",
    "model_mult.add(Conv2D(128,3,padding='same',activation='relu'))\n",
    "#model_mult.add(MaxPool2D(pool_size=(4)))\n",
    "model_mult.add(Dropout(0.25))\n",
    "\n",
    "model_mult.add(Flatten())\n",
    "model_mult.add(Dense(256, activation='relu'))\n",
    "model_mult.add(Dropout(0.5))\n",
    "model_mult.add(Dense(units=5, activation='softmax'))\n",
    "\n",
    "optimizer = keras.optimizers.Adam(learning_rate=0.001)\n",
    "model_mult.compile(loss='categorical_crossentropy', optimizer=optimizer,\n",
    "                  metrics=['accuracy'])\n",
    "\n",
    "model_mult.summary()"
   ]
  },
  {
   "cell_type": "code",
   "execution_count": 106,
   "id": "24f5e3a5-1e9a-49f4-9375-00c96ed0890d",
   "metadata": {},
   "outputs": [],
   "source": [
    "# define early stopping\n",
    "early_stopping = EarlyStopping(monitor='val_loss', patience=9, restore_best_weights=True)"
   ]
  },
  {
   "cell_type": "code",
   "execution_count": 107,
   "id": "76ab139f-d3fb-4240-8555-af522761db98",
   "metadata": {},
   "outputs": [
    {
     "name": "stdout",
     "output_type": "stream",
     "text": [
      "Epoch 1/50\n",
      "\u001b[1m21/21\u001b[0m \u001b[32m━━━━━━━━━━━━━━━━━━━━\u001b[0m\u001b[37m\u001b[0m \u001b[1m8s\u001b[0m 297ms/step - accuracy: 0.4566 - loss: 5.7498 - val_accuracy: 0.5238 - val_loss: 2.1593\n",
      "Epoch 2/50\n",
      "\u001b[1m21/21\u001b[0m \u001b[32m━━━━━━━━━━━━━━━━━━━━\u001b[0m\u001b[37m\u001b[0m \u001b[1m6s\u001b[0m 300ms/step - accuracy: 0.5679 - loss: 2.9493 - val_accuracy: 0.7297 - val_loss: 2.6568\n",
      "Epoch 3/50\n",
      "\u001b[1m21/21\u001b[0m \u001b[32m━━━━━━━━━━━━━━━━━━━━\u001b[0m\u001b[37m\u001b[0m \u001b[1m6s\u001b[0m 305ms/step - accuracy: 0.5858 - loss: 2.6425 - val_accuracy: 0.7508 - val_loss: 1.3114\n",
      "Epoch 4/50\n",
      "\u001b[1m21/21\u001b[0m \u001b[32m━━━━━━━━━━━━━━━━━━━━\u001b[0m\u001b[37m\u001b[0m \u001b[1m7s\u001b[0m 309ms/step - accuracy: 0.6800 - loss: 3.3998 - val_accuracy: 0.8098 - val_loss: 1.1358\n",
      "Epoch 5/50\n",
      "\u001b[1m21/21\u001b[0m \u001b[32m━━━━━━━━━━━━━━━━━━━━\u001b[0m\u001b[37m\u001b[0m \u001b[1m8s\u001b[0m 359ms/step - accuracy: 0.7738 - loss: 2.0576 - val_accuracy: 0.8204 - val_loss: 1.6937\n",
      "Epoch 6/50\n",
      "\u001b[1m21/21\u001b[0m \u001b[32m━━━━━━━━━━━━━━━━━━━━\u001b[0m\u001b[37m\u001b[0m \u001b[1m8s\u001b[0m 378ms/step - accuracy: 0.8108 - loss: 1.4182 - val_accuracy: 0.8405 - val_loss: 0.8161\n",
      "Epoch 7/50\n",
      "\u001b[1m21/21\u001b[0m \u001b[32m━━━━━━━━━━━━━━━━━━━━\u001b[0m\u001b[37m\u001b[0m \u001b[1m8s\u001b[0m 399ms/step - accuracy: 0.8355 - loss: 1.8404 - val_accuracy: 0.8410 - val_loss: 0.9972\n",
      "Epoch 8/50\n",
      "\u001b[1m21/21\u001b[0m \u001b[32m━━━━━━━━━━━━━━━━━━━━\u001b[0m\u001b[37m\u001b[0m \u001b[1m8s\u001b[0m 388ms/step - accuracy: 0.8398 - loss: 1.1384 - val_accuracy: 0.8467 - val_loss: 1.4943\n",
      "Epoch 9/50\n",
      "\u001b[1m21/21\u001b[0m \u001b[32m━━━━━━━━━━━━━━━━━━━━\u001b[0m\u001b[37m\u001b[0m \u001b[1m8s\u001b[0m 361ms/step - accuracy: 0.8430 - loss: 2.2058 - val_accuracy: 0.8452 - val_loss: 1.0100\n",
      "Epoch 10/50\n",
      "\u001b[1m21/21\u001b[0m \u001b[32m━━━━━━━━━━━━━━━━━━━━\u001b[0m\u001b[37m\u001b[0m \u001b[1m7s\u001b[0m 349ms/step - accuracy: 0.8412 - loss: 1.3871 - val_accuracy: 0.8527 - val_loss: 0.5199\n",
      "Epoch 11/50\n",
      "\u001b[1m21/21\u001b[0m \u001b[32m━━━━━━━━━━━━━━━━━━━━\u001b[0m\u001b[37m\u001b[0m \u001b[1m7s\u001b[0m 351ms/step - accuracy: 0.8458 - loss: 3.1996 - val_accuracy: 0.8512 - val_loss: 0.6156\n",
      "Epoch 12/50\n",
      "\u001b[1m21/21\u001b[0m \u001b[32m━━━━━━━━━━━━━━━━━━━━\u001b[0m\u001b[37m\u001b[0m \u001b[1m7s\u001b[0m 348ms/step - accuracy: 0.8482 - loss: 1.1473 - val_accuracy: 0.8438 - val_loss: 1.1589\n",
      "Epoch 13/50\n",
      "\u001b[1m21/21\u001b[0m \u001b[32m━━━━━━━━━━━━━━━━━━━━\u001b[0m\u001b[37m\u001b[0m \u001b[1m7s\u001b[0m 336ms/step - accuracy: 0.8426 - loss: 1.0209 - val_accuracy: 0.8502 - val_loss: 0.7816\n",
      "Epoch 14/50\n",
      "\u001b[1m21/21\u001b[0m \u001b[32m━━━━━━━━━━━━━━━━━━━━\u001b[0m\u001b[37m\u001b[0m \u001b[1m7s\u001b[0m 346ms/step - accuracy: 0.8499 - loss: 1.0459 - val_accuracy: 0.8485 - val_loss: 0.8365\n",
      "Epoch 15/50\n",
      "\u001b[1m21/21\u001b[0m \u001b[32m━━━━━━━━━━━━━━━━━━━━\u001b[0m\u001b[37m\u001b[0m \u001b[1m8s\u001b[0m 383ms/step - accuracy: 0.8413 - loss: 0.9507 - val_accuracy: 0.8460 - val_loss: 0.8413\n",
      "Epoch 16/50\n",
      "\u001b[1m21/21\u001b[0m \u001b[32m━━━━━━━━━━━━━━━━━━━━\u001b[0m\u001b[37m\u001b[0m \u001b[1m9s\u001b[0m 343ms/step - accuracy: 0.8438 - loss: 0.9342 - val_accuracy: 0.8535 - val_loss: 0.5990\n",
      "Epoch 17/50\n",
      "\u001b[1m21/21\u001b[0m \u001b[32m━━━━━━━━━━━━━━━━━━━━\u001b[0m\u001b[37m\u001b[0m \u001b[1m7s\u001b[0m 356ms/step - accuracy: 0.8536 - loss: 1.2733 - val_accuracy: 0.8556 - val_loss: 0.4760\n",
      "Epoch 18/50\n",
      "\u001b[1m21/21\u001b[0m \u001b[32m━━━━━━━━━━━━━━━━━━━━\u001b[0m\u001b[37m\u001b[0m \u001b[1m7s\u001b[0m 347ms/step - accuracy: 0.8525 - loss: 0.7764 - val_accuracy: 0.8565 - val_loss: 0.6260\n",
      "Epoch 19/50\n",
      "\u001b[1m21/21\u001b[0m \u001b[32m━━━━━━━━━━━━━━━━━━━━\u001b[0m\u001b[37m\u001b[0m \u001b[1m7s\u001b[0m 338ms/step - accuracy: 0.8535 - loss: 0.6954 - val_accuracy: 0.8637 - val_loss: 0.8442\n",
      "Epoch 20/50\n",
      "\u001b[1m21/21\u001b[0m \u001b[32m━━━━━━━━━━━━━━━━━━━━\u001b[0m\u001b[37m\u001b[0m \u001b[1m7s\u001b[0m 340ms/step - accuracy: 0.8583 - loss: 0.8443 - val_accuracy: 0.8678 - val_loss: 0.5395\n",
      "Epoch 21/50\n",
      "\u001b[1m21/21\u001b[0m \u001b[32m━━━━━━━━━━━━━━━━━━━━\u001b[0m\u001b[37m\u001b[0m \u001b[1m7s\u001b[0m 337ms/step - accuracy: 0.8564 - loss: 0.6382 - val_accuracy: 0.8795 - val_loss: 0.5196\n",
      "Epoch 22/50\n",
      "\u001b[1m21/21\u001b[0m \u001b[32m━━━━━━━━━━━━━━━━━━━━\u001b[0m\u001b[37m\u001b[0m \u001b[1m7s\u001b[0m 356ms/step - accuracy: 0.8631 - loss: 0.5531 - val_accuracy: 0.8772 - val_loss: 0.5235\n",
      "Epoch 23/50\n",
      "\u001b[1m21/21\u001b[0m \u001b[32m━━━━━━━━━━━━━━━━━━━━\u001b[0m\u001b[37m\u001b[0m \u001b[1m7s\u001b[0m 344ms/step - accuracy: 0.8605 - loss: 0.6682 - val_accuracy: 0.8791 - val_loss: 0.5118\n",
      "Epoch 24/50\n",
      "\u001b[1m21/21\u001b[0m \u001b[32m━━━━━━━━━━━━━━━━━━━━\u001b[0m\u001b[37m\u001b[0m \u001b[1m7s\u001b[0m 349ms/step - accuracy: 0.8674 - loss: 1.1490 - val_accuracy: 0.8908 - val_loss: 0.5303\n",
      "Epoch 25/50\n",
      "\u001b[1m21/21\u001b[0m \u001b[32m━━━━━━━━━━━━━━━━━━━━\u001b[0m\u001b[37m\u001b[0m \u001b[1m8s\u001b[0m 374ms/step - accuracy: 0.8716 - loss: 0.9244 - val_accuracy: 0.8934 - val_loss: 0.7571\n",
      "Epoch 26/50\n",
      "\u001b[1m21/21\u001b[0m \u001b[32m━━━━━━━━━━━━━━━━━━━━\u001b[0m\u001b[37m\u001b[0m \u001b[1m8s\u001b[0m 381ms/step - accuracy: 0.8763 - loss: 0.8526 - val_accuracy: 0.9111 - val_loss: 0.7499\n"
     ]
    }
   ],
   "source": [
    "# training the model\n",
    "history = model_mult.fit(X_train, y_train_mult_b, epochs=50, batch_size=5000,\n",
    "                         validation_split=0.2, callbacks=[early_stopping])"
   ]
  },
  {
   "cell_type": "code",
   "execution_count": null,
   "id": "d4ddb3a5-9deb-4f5a-a66c-26a3bff89c80",
   "metadata": {},
   "outputs": [],
   "source": []
  },
  {
   "cell_type": "code",
   "execution_count": null,
   "id": "0cd5b62b-d34d-40c9-b64e-4c00cdd84ec8",
   "metadata": {},
   "outputs": [],
   "source": [
    "# training dataset results\n",
    "#print(f'Training prediction\\n Loss: {test_pred[0]}\\n Accuracy: {test_pred[1]*100}%')"
   ]
  },
  {
   "cell_type": "code",
   "execution_count": 113,
   "id": "5cb8040d-ab18-4d25-a040-615845a01a0f",
   "metadata": {},
   "outputs": [
    {
     "name": "stdout",
     "output_type": "stream",
     "text": [
      "\u001b[1m705/705\u001b[0m \u001b[32m━━━━━━━━━━━━━━━━━━━━\u001b[0m\u001b[37m\u001b[0m \u001b[1m1s\u001b[0m 1ms/step - accuracy: 0.4969 - loss: 4.0779\n",
      "Test results\n",
      " Loss: 4.14993953704834\n",
      " Accuracy: 49.68062341213226%\n"
     ]
    }
   ],
   "source": [
    "# predicting target on test data\n",
    "test_pred = model_mult.evaluate(X_test, y_test_mult_b, verbose=1)\n",
    "print(f'Test results\\n Loss: {test_pred[0]}\\n Accuracy: {test_pred[1]*100}%')"
   ]
  },
  {
   "cell_type": "code",
   "execution_count": 114,
   "id": "12520302-83e1-4e7e-9847-3aadfa24de57",
   "metadata": {},
   "outputs": [
    {
     "name": "stdout",
     "output_type": "stream",
     "text": [
      "\u001b[1m46/46\u001b[0m \u001b[32m━━━━━━━━━━━━━━━━━━━━\u001b[0m\u001b[37m\u001b[0m \u001b[1m1s\u001b[0m 11ms/step\n"
     ]
    }
   ],
   "source": [
    "# on test dataset\n",
    "y_pred = model_mult.predict(X_test, batch_size=500)"
   ]
  },
  {
   "cell_type": "code",
   "execution_count": 116,
   "id": "b133b6d2-f9ad-4912-839c-135c591863af",
   "metadata": {},
   "outputs": [
    {
     "name": "stdout",
     "output_type": "stream",
     "text": [
      "Classification Report on Test data\n",
      "               precision    recall  f1-score   support\n",
      "\n",
      "      Normal       0.57      0.95      0.72      9889\n",
      "         DoS       0.00      0.00      0.00      7460\n",
      "       Probe       0.00      0.00      0.00      2421\n",
      "         U2R       0.00      0.00      0.00        67\n",
      "         R2L       0.00      0.00      0.00      2707\n",
      "\n",
      "   micro avg       0.54      0.42      0.47     22544\n",
      "   macro avg       0.11      0.19      0.14     22544\n",
      "weighted avg       0.25      0.42      0.31     22544\n",
      " samples avg       0.42      0.42      0.42     22544\n",
      "\n"
     ]
    },
    {
     "name": "stderr",
     "output_type": "stream",
     "text": [
      "/home/lm/anaconda3/lib/python3.11/site-packages/sklearn/metrics/_classification.py:1469: UndefinedMetricWarning: Precision and F-score are ill-defined and being set to 0.0 in labels with no predicted samples. Use `zero_division` parameter to control this behavior.\n",
      "  _warn_prf(average, modifier, msg_start, len(result))\n",
      "/home/lm/anaconda3/lib/python3.11/site-packages/sklearn/metrics/_classification.py:1469: UndefinedMetricWarning: Precision and F-score are ill-defined and being set to 0.0 in samples with no predicted labels. Use `zero_division` parameter to control this behavior.\n",
      "  _warn_prf(average, modifier, msg_start, len(result))\n"
     ]
    }
   ],
   "source": [
    "# print the classification report on the test data\n",
    "\n",
    "class_names = ['Normal', 'DoS','Probe','U2R','R2L']\n",
    "y_rounded_pred = np.round(y_pred)\n",
    "\n",
    "print(\"Classification Report on Test data\\n\",\n",
    "     classification_report(y_test_mult_b, y_rounded_pred, target_names=class_names))"
   ]
  },
  {
   "cell_type": "code",
   "execution_count": 118,
   "id": "50603539-b3ad-42de-8271-7a98c0464462",
   "metadata": {},
   "outputs": [
    {
     "data": {
      "image/png": "[encoded data removed]",
      "text/plain": [
       "<Figure size 640x480 with 2 Axes>"
      ]
     },
     "metadata": {},
     "output_type": "display_data"
    }
   ],
   "source": [
    "# view the confusion matrix for multi-class classification\n",
    "\n",
    "cm = confusion_matrix(y_test_mult_b.argmax(axis=1), y_rounded_pred.argmax(axis=1))\n",
    "cm_fig = ConfusionMatrixDisplay(confusion_matrix=cm, display_labels=class_names)\n",
    "cm_fig.plot(cmap=plt.cm.Blues)\n",
    "plt.title('Confusion Matrix for Multi-class')\n",
    "plt.savefig('confusion_matrix_multi-class.eps')\n",
    "plt.show()"
   ]
  },
  {
   "cell_type": "code",
   "execution_count": 119,
   "id": "5d208e56-e4c1-4087-90be-4ff056bba517",
   "metadata": {},
   "outputs": [
    {
     "name": "stderr",
     "output_type": "stream",
     "text": [
      "The PostScript backend does not support transparency; partially transparent artists will be rendered opaque.\n"
     ]
    },
    {
     "data": {
      "image/png": "[encoded data removed]",
      "text/plain": [
       "<Figure size 640x480 with 1 Axes>"
      ]
     },
     "metadata": {},
     "output_type": "display_data"
    }
   ],
   "source": [
    "# plot of accuracy vs epoch for train and test dataset\n",
    "plt.plot(history.history['accuracy'], label='Train')\n",
    "plt.plot(history.history['val_accuracy'], label='Test')\n",
    "plt.title('Plot of Accuracy vs Epoch for train and test dataset')\n",
    "plt.xlabel('Epoch')\n",
    "plt.ylabel('Accuracy')\n",
    "plt.legend(loc='lower right')\n",
    "plt.savefig('plot_accuracy_epoch_multiclass.eps')\n",
    "plt.show()"
   ]
  },
  {
   "cell_type": "code",
   "execution_count": null,
   "id": "1879285d-83b7-4425-af3b-795744a892be",
   "metadata": {},
   "outputs": [],
   "source": []
  },
  {
   "cell_type": "code",
   "execution_count": null,
   "id": "1b04fa4f-bebf-4db1-b9a3-56da8f844983",
   "metadata": {},
   "outputs": [],
   "source": []
  },
  {
   "cell_type": "code",
   "execution_count": null,
   "id": "cd922578-9334-4eba-a96a-06585b04aa66",
   "metadata": {},
   "outputs": [],
   "source": []
  }
 ],
 "metadata": {
  "kernelspec": {
   "display_name": "Python 3 (ipykernel)",
   "language": "python",
   "name": "python3"
  },
  "language_info": {
   "codemirror_mode": {
    "name": "ipython",
    "version": 3
   },
   "file_extension": ".py",
   "mimetype": "text/x-python",
   "name": "python",
   "nbconvert_exporter": "python",
   "pygments_lexer": "ipython3",
   "version": "3.11.5"
  }
 },
 "nbformat": 4,
 "nbformat_minor": 5
}
