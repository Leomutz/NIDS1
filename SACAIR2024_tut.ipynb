{
  "cells": [
    {
      "cell_type": "markdown",
      "metadata": {
        "id": "view-in-github",
        "colab_type": "text"
      },
      "source": [
        "<a href=\"https://colab.research.google.com/github/Leomutz/NIDS1/blob/main/SACAIR2024_tut.ipynb\" target=\"_parent\"><img src=\"https://colab.research.google.com/assets/colab-badge.svg\" alt=\"Open In Colab\"/></a>"
      ]
    },
    {
      "cell_type": "markdown",
      "id": "17ea244c-8ebe-47c7-9fef-05d1d5f5d40f",
      "metadata": {
        "id": "17ea244c-8ebe-47c7-9fef-05d1d5f5d40f"
      },
      "source": [
        "## Import libraries"
      ]
    },
    {
      "cell_type": "code",
      "execution_count": null,
      "id": "f3e2e69c-3492-4bb9-bb92-09474ba68451",
      "metadata": {
        "id": "f3e2e69c-3492-4bb9-bb92-09474ba68451"
      },
      "outputs": [],
      "source": [
        "from sklearn.datasets import make_classification\n",
        "from sklearn.model_selection import train_test_split\n",
        "from sklearn.preprocessing import MinMaxScaler\n",
        "\n",
        "from sklearn.ensemble import RandomForestClassifier\n",
        "from sklearn.cluster import KMeans\n",
        "from sklearn.ensemble import GradientBoostingClassifier\n",
        "from sklearn.metrics import classification_report, confusion_matrix, ConfusionMatrixDisplay, f1_score\n",
        "from sklearn.decomposition import PCA\n",
        "\n",
        "import pandas as pd\n",
        "import numpy as np\n",
        "\n",
        "import matplotlib.pyplot as plt\n",
        "import seaborn as sns\n",
        "import plotly.express as px\n",
        "\n",
        "!pip install umap-learn\n",
        "import umap\n",
        "\n"
      ]
    },
    {
      "cell_type": "markdown",
      "source": [
        "## Make some data\n",
        "\n",
        "The data has already been simulated we will load it from github."
      ],
      "metadata": {
        "id": "LkNUqvVs7v8r"
      },
      "id": "LkNUqvVs7v8r"
    },
    {
      "cell_type": "markdown",
      "source": [
        "```python\n",
        "n_samples = 1000\n",
        "# Generate some data\n",
        "X0, y = make_classification(n_samples=n_samples, n_features=100,\n",
        "                           n_informative=10, n_redundant=80,\n",
        "                           n_repeated=10, random_state=1)\n",
        "X1 = []\n",
        "# add in some low variance features\n",
        "for i in range(0, 50):\n",
        "    loc = np.random.randint(0,10)\n",
        "    scale = i * 0.02\n",
        "    x = np.random.normal(loc=loc, scale=scale, size=(1, 1000)).tolist()[0]\n",
        "    X1.append(x)\n",
        "\n",
        "X1 = np.array(X1).T\n",
        "\n",
        "\n",
        "data = (pd.concat([pd.DataFrame(X0), pd.DataFrame(X1)], axis=1))\n",
        "new_index = np.arange(0, (X0.shape[1] + X1.shape[1]) )\n",
        "data.columns = new_index\n",
        "\n",
        "data = data[np.random.choice(new_index, len(new_index))]\n",
        "data.columns = new_index\n",
        "data['target'] = y\n",
        "data.to_csv(f'{t}.csv', index=False)\n",
        "```"
      ],
      "metadata": {
        "id": "ac0e0d2b-f785-4848-965c-45c705bc90c4"
      },
      "id": "ac0e0d2b-f785-4848-965c-45c705bc90c4"
    },
    {
      "cell_type": "code",
      "execution_count": null,
      "id": "fcc7b562-405f-442e-b6a6-dac75e32a112",
      "metadata": {
        "id": "fcc7b562-405f-442e-b6a6-dac75e32a112"
      },
      "outputs": [],
      "source": [
        "path_to_data = \"https://raw.githubusercontent.com/ArmandBester/SACAIR2024_dim_curse/refs/heads/main/candidate-2024-08-21_071931.647000.csv\"\n",
        "data =pd.read_csv(path_to_data)\n",
        "data"
      ]
    },
    {
      "cell_type": "code",
      "execution_count": null,
      "id": "65280cf9-2f08-4144-b996-dde6e4143149",
      "metadata": {
        "id": "65280cf9-2f08-4144-b996-dde6e4143149"
      },
      "outputs": [],
      "source": [
        "data.plot(figsize=(12,4), legend=None);"
      ]
    },
    {
      "cell_type": "code",
      "execution_count": null,
      "id": "dcccc479-0326-4e55-a7dc-bbcaa7c47446",
      "metadata": {
        "id": "dcccc479-0326-4e55-a7dc-bbcaa7c47446"
      },
      "outputs": [],
      "source": [
        "data.shape"
      ]
    },
    {
      "cell_type": "markdown",
      "id": "982191ef-2a70-4193-8fa5-5879ca0922d3",
      "metadata": {
        "id": "982191ef-2a70-4193-8fa5-5879ca0922d3"
      },
      "source": [
        "## Split the data into training and testing sets"
      ]
    },
    {
      "cell_type": "code",
      "execution_count": null,
      "id": "b0480b7a-f342-4390-8488-750c2ceb7abd",
      "metadata": {
        "id": "b0480b7a-f342-4390-8488-750c2ceb7abd"
      },
      "outputs": [],
      "source": [
        "X = data.drop(\"target\", axis=1).values\n",
        "y = data['target'].values\n",
        "X_train, X_test, y_train, y_test = train_test_split(X, y, test_size=0.33, random_state=42)"
      ]
    },
    {
      "cell_type": "markdown",
      "id": "4bbce6da-4853-4008-b15a-2077650a4ce8",
      "metadata": {
        "id": "4bbce6da-4853-4008-b15a-2077650a4ce8"
      },
      "source": [
        "## Look at variance in the features"
      ]
    },
    {
      "cell_type": "code",
      "execution_count": null,
      "id": "7946a377-c36f-4a96-820e-ca355c32a47a",
      "metadata": {
        "id": "7946a377-c36f-4a96-820e-ca355c32a47a"
      },
      "outputs": [],
      "source": [
        "feature_var_dict = {}\n",
        "for i in range(X.shape[1]):\n",
        "    feature = X_train[:,i]\n",
        "    f_variance = np.var(feature)\n",
        "    feature_var_dict[i] = f_variance\n",
        "\n",
        "var_df = (pd.DataFrame.from_dict(feature_var_dict, orient='index').reset_index()\n",
        "          .rename({'index': 'feature', 0: 'variance'}, axis=1)\n",
        "          .sort_values(\"variance\", ascending=False)\n",
        "          .astype({\"feature\": str})\n",
        "         )\n",
        "\n",
        "var_df\n",
        "\n",
        "px.bar(data_frame=var_df, x='feature', y='variance')"
      ]
    },
    {
      "cell_type": "markdown",
      "id": "19587120-e23c-4b33-97bb-5162f51c49e0",
      "metadata": {
        "id": "19587120-e23c-4b33-97bb-5162f51c49e0"
      },
      "source": [
        "## Scale"
      ]
    },
    {
      "cell_type": "code",
      "execution_count": null,
      "id": "01169192-6d65-4bff-8158-b37fb42fe523",
      "metadata": {
        "id": "01169192-6d65-4bff-8158-b37fb42fe523"
      },
      "outputs": [],
      "source": [
        "min_max_scaler = MinMaxScaler().fit(X_train)\n",
        "X_train_scaled = min_max_scaler.transform(X_train)\n",
        "X_test_scaled = min_max_scaler.transform(X_test)\n",
        "plt.figure(figsize=(12,4))\n",
        "plt.plot(X_train_scaled);"
      ]
    },
    {
      "cell_type": "markdown",
      "id": "ab32d10b-41ac-4549-9573-4e5ec40926b5",
      "metadata": {
        "id": "ab32d10b-41ac-4549-9573-4e5ec40926b5"
      },
      "source": [
        "## First model"
      ]
    },
    {
      "cell_type": "code",
      "execution_count": null,
      "id": "863802aa-e138-4673-b84a-745126272f3f",
      "metadata": {
        "id": "863802aa-e138-4673-b84a-745126272f3f"
      },
      "outputs": [],
      "source": [
        "model1_RF = RandomForestClassifier()\n",
        "model1_RF.fit(X_train_scaled, y_train)\n",
        "model1_RF_pred = model1_RF.predict(X_test_scaled)\n",
        "\n",
        "disp = ConfusionMatrixDisplay(\n",
        "    confusion_matrix(y_test, model1_RF_pred),\n",
        "    display_labels=model1_RF.classes_\n",
        ")\n",
        "fig, ax = plt.subplots(figsize=(3,3))\n",
        "disp.plot(ax=ax);\n",
        "\n",
        "print(classification_report(y_test, model1_RF_pred))"
      ]
    },
    {
      "cell_type": "code",
      "execution_count": null,
      "id": "81f5d619-a2f4-47d0-8c92-d38b852a67e9",
      "metadata": {
        "id": "81f5d619-a2f4-47d0-8c92-d38b852a67e9"
      },
      "outputs": [],
      "source": [
        "model1_KM = KMeans(n_clusters=2, random_state=0, n_init=\"auto\")\n",
        "model1_KM.fit(X_train_scaled, y_train)\n",
        "model1_KM_pred = model1_KM.predict(X_test_scaled)\n",
        "\n",
        "disp = ConfusionMatrixDisplay(\n",
        "    confusion_matrix(y_test, model1_KM_pred)\n",
        ")\n",
        "fig, ax = plt.subplots(figsize=(3,3))\n",
        "disp.plot(ax=ax);\n",
        "\n",
        "\n",
        "print(classification_report(y_test, model1_KM_pred))"
      ]
    },
    {
      "cell_type": "code",
      "execution_count": null,
      "id": "c1d28a04-10af-42d3-877a-c6458060e1b5",
      "metadata": {
        "id": "c1d28a04-10af-42d3-877a-c6458060e1b5"
      },
      "outputs": [],
      "source": [
        "print(y_train.mean(), y_test.mean()) # since we have zeros and ones for our\n",
        "                                     # classes we can use the mean to look\n",
        "                                     # class balance"
      ]
    },
    {
      "cell_type": "markdown",
      "id": "5c00b39b-a3ec-4eca-8330-5ef60f0c940d",
      "metadata": {
        "id": "5c00b39b-a3ec-4eca-8330-5ef60f0c940d"
      },
      "source": [
        "## Remove columns with very low variance"
      ]
    },
    {
      "cell_type": "code",
      "execution_count": null,
      "id": "55a46366-f3c3-45a0-bd8b-70913581e3a0",
      "metadata": {
        "id": "55a46366-f3c3-45a0-bd8b-70913581e3a0"
      },
      "outputs": [],
      "source": [
        "low_var_features = var_df.query(\"variance < 1\")['feature'].astype(str).values.tolist()\n",
        "len(low_var_features)"
      ]
    },
    {
      "cell_type": "markdown",
      "id": "92cadf53-4c2f-465f-86d1-d24c79cfb9fb",
      "metadata": {
        "id": "92cadf53-4c2f-465f-86d1-d24c79cfb9fb"
      },
      "source": [
        "### Remove low variance features"
      ]
    },
    {
      "cell_type": "code",
      "execution_count": null,
      "id": "733ffb43-9afa-47eb-9968-fa0c0248b3d8",
      "metadata": {
        "id": "733ffb43-9afa-47eb-9968-fa0c0248b3d8"
      },
      "outputs": [],
      "source": [
        "data = data.drop(low_var_features, axis=1)\n",
        "\n",
        "X = data.drop(\"target\", axis=1).values\n",
        "y = data['target'].values\n",
        "X_train, X_test, y_train, y_test = train_test_split(X, y, test_size=0.33, random_state=42)\n",
        "\n",
        "min_max_scaler = MinMaxScaler().fit(X_train)\n",
        "X_train_scaled = min_max_scaler.transform(X_train)\n",
        "X_test_scaled = min_max_scaler.transform(X_test)"
      ]
    },
    {
      "cell_type": "code",
      "execution_count": null,
      "id": "c035c144-9413-4b5b-8207-c0ae52c31375",
      "metadata": {
        "id": "c035c144-9413-4b5b-8207-c0ae52c31375"
      },
      "outputs": [],
      "source": [
        "X_train_scaled.shape"
      ]
    },
    {
      "cell_type": "code",
      "execution_count": null,
      "id": "6c910068-12e3-4eec-a37c-e2116e4ca2ac",
      "metadata": {
        "id": "6c910068-12e3-4eec-a37c-e2116e4ca2ac"
      },
      "outputs": [],
      "source": [
        "model2_RF = RandomForestClassifier()\n",
        "model2_RF.fit(X_train_scaled, y_train)\n",
        "model2_RF_pred = model2_RF.predict(X_test_scaled)\n",
        "\n",
        "disp = ConfusionMatrixDisplay(\n",
        "    confusion_matrix(y_test, model2_RF_pred),\n",
        "    display_labels=model2_RF.classes_\n",
        ")\n",
        "fig, ax = plt.subplots(figsize=(3,3))\n",
        "disp.plot(ax=ax);\n",
        "\n",
        "print(classification_report(y_test, model2_RF_pred))"
      ]
    },
    {
      "cell_type": "code",
      "execution_count": null,
      "id": "53b58a12-b805-4359-a28f-e47c5c4538c9",
      "metadata": {
        "id": "53b58a12-b805-4359-a28f-e47c5c4538c9"
      },
      "outputs": [],
      "source": [
        "model2_KM = KMeans(n_clusters=2, random_state=0, n_init=\"auto\")\n",
        "model2_KM.fit(X_train_scaled, y_train)\n",
        "model2_KM_pred = model2_KM.predict(X_test_scaled)\n",
        "\n",
        "disp = ConfusionMatrixDisplay(\n",
        "    confusion_matrix(y_test, model2_KM_pred)\n",
        ")\n",
        "fig, ax = plt.subplots(figsize=(3,3))\n",
        "disp.plot(ax=ax);\n",
        "\n",
        "\n",
        "print(classification_report(y_test, model2_KM_pred))"
      ]
    },
    {
      "cell_type": "markdown",
      "id": "75658ff3-8318-40dd-89fb-bb3aa589eb1e",
      "metadata": {
        "id": "75658ff3-8318-40dd-89fb-bb3aa589eb1e"
      },
      "source": [
        "## Get highly correlated features\n",
        "\n",
        "* reduce redundancy"
      ]
    },
    {
      "cell_type": "code",
      "execution_count": null,
      "id": "2e54e8d2-b848-4e5f-8573-d9cb2ce22680",
      "metadata": {
        "id": "2e54e8d2-b848-4e5f-8573-d9cb2ce22680"
      },
      "outputs": [],
      "source": [
        "corrMat = data.drop('target', axis=1).corr()\n",
        "sns.heatmap(corrMat, cmap='viridis');"
      ]
    },
    {
      "cell_type": "code",
      "execution_count": null,
      "id": "813dba95-0251-47f6-bad6-43877e870fcc",
      "metadata": {
        "id": "813dba95-0251-47f6-bad6-43877e870fcc"
      },
      "outputs": [],
      "source": [
        "corrMat"
      ]
    },
    {
      "cell_type": "code",
      "execution_count": null,
      "id": "f83a786a-0c95-4c82-9676-bfcbbb4ea42d",
      "metadata": {
        "id": "f83a786a-0c95-4c82-9676-bfcbbb4ea42d"
      },
      "outputs": [],
      "source": [
        "discard = (abs(corrMat)                  # we take the abs of the correlation matrix\n",
        "           .stack()\n",
        "           .reset_index()\n",
        "           .rename({'level_0': 'A',\n",
        "                    'level_1': 'B',\n",
        "                    0: 'corr'},\n",
        "                   axis=1)\n",
        "\n",
        "            .query(\"A != B\")\n",
        "            .query(\"corr >=  0.85\")        # this correlation cutoff can vary depending on what we know about our data\n",
        "            .drop(['B', 'corr'], axis=1)\n",
        "            .drop_duplicates()\n",
        "            ['A']\n",
        "            .values\n",
        "          )\n",
        "discard"
      ]
    },
    {
      "cell_type": "code",
      "execution_count": null,
      "id": "e727bb86-4e8f-42f7-b856-26a8bad5412b",
      "metadata": {
        "id": "e727bb86-4e8f-42f7-b856-26a8bad5412b"
      },
      "outputs": [],
      "source": [
        "len(discard)"
      ]
    },
    {
      "cell_type": "code",
      "execution_count": null,
      "id": "b72aeee5-d3e9-4481-8157-8be77f2600db",
      "metadata": {
        "id": "b72aeee5-d3e9-4481-8157-8be77f2600db"
      },
      "outputs": [],
      "source": [
        "data = data.drop(discard, axis=1)\n",
        "X = data.drop(\"target\", axis=1).values\n",
        "y = data['target'].values\n",
        "X_train, X_test, y_train, y_test = train_test_split(X, y, test_size=0.33, random_state=42)\n",
        "\n",
        "min_max_scaler = MinMaxScaler().fit(X_train)\n",
        "X_train_scaled = min_max_scaler.transform(X_train)\n",
        "X_test_scaled = min_max_scaler.transform(X_test)\n",
        "X_train_scaled.shape"
      ]
    },
    {
      "cell_type": "code",
      "execution_count": null,
      "id": "a59b479a-cf0f-4b15-9152-f25f62568d9e",
      "metadata": {
        "id": "a59b479a-cf0f-4b15-9152-f25f62568d9e"
      },
      "outputs": [],
      "source": [
        "model3_RF = RandomForestClassifier()\n",
        "model3_RF.fit(X_train_scaled, y_train)\n",
        "model3_RF_pred = model3_RF.predict(X_test_scaled)\n",
        "\n",
        "disp = ConfusionMatrixDisplay(\n",
        "    confusion_matrix(y_test, model3_RF_pred),\n",
        "    display_labels=model3_RF.classes_\n",
        ")\n",
        "fig, ax = plt.subplots(figsize=(3,3))\n",
        "disp.plot(ax=ax);\n",
        "\n",
        "print(classification_report(y_test, model3_RF_pred))"
      ]
    },
    {
      "cell_type": "code",
      "execution_count": null,
      "id": "0f6cdacb-fcc3-447b-93b1-73e56ad4eaa7",
      "metadata": {
        "id": "0f6cdacb-fcc3-447b-93b1-73e56ad4eaa7"
      },
      "outputs": [],
      "source": [
        "model3_KM = KMeans(n_clusters=2, random_state=0, n_init=\"auto\")\n",
        "model3_KM.fit(X_train_scaled, y_train)\n",
        "model3_KM_pred = model3_KM.predict(X_test_scaled)\n",
        "\n",
        "disp = ConfusionMatrixDisplay(\n",
        "    confusion_matrix(y_test, model3_KM_pred),\n",
        "    #display_labels=model1_KM.classes_\n",
        ")\n",
        "fig, ax = plt.subplots(figsize=(3,3))\n",
        "disp.plot(ax=ax);\n",
        "\n",
        "\n",
        "print(classification_report(y_test, model3_KM_pred))"
      ]
    },
    {
      "cell_type": "markdown",
      "id": "6cdb6d6c-9e17-471d-8ae1-569391a6de2e",
      "metadata": {
        "id": "6cdb6d6c-9e17-471d-8ae1-569391a6de2e"
      },
      "source": [
        "## What if we don't discard correlated feature but combine them?"
      ]
    },
    {
      "cell_type": "code",
      "execution_count": null,
      "id": "91d06b1f-0a2c-463f-9ac0-a64a8b6b6a5a",
      "metadata": {
        "id": "91d06b1f-0a2c-463f-9ac0-a64a8b6b6a5a"
      },
      "outputs": [],
      "source": [
        "(corrMat                  # we take the abs of the correlation matrix\n",
        "   .stack()\n",
        "   .reset_index()\n",
        "   .rename({'level_0': 'A',\n",
        "            'level_1': 'B',\n",
        "            0: 'corr'},\n",
        "           axis=1)\n",
        "\n",
        "    .query(\"A != B\")\n",
        "    .query(\"corr >=  0.85\")        # this correlation cutoff can vary depending on what we know about our data\n",
        "     ['corr']\n",
        "    .mean()\n",
        " )"
      ]
    },
    {
      "cell_type": "markdown",
      "id": "0fbe504b-cd6f-437b-a7a3-cc229936769e",
      "metadata": {
        "id": "0fbe504b-cd6f-437b-a7a3-cc229936769e"
      },
      "source": [
        "```\n",
        "Even though in our case it won't make sense (since the variables are so highly correlated),\n",
        "but one can also combine variables: multiplying them together, summing deviding ... meam.\n",
        "Even better if you have some domain knowledge on the data, some of these methods of combining\n",
        "would make more sense. As an excample, say you had a dataset for predicting house prises and you have width\n",
        "and length, then multiplying these would give you the area. Now it makes sense to keep area\n",
        "and remove width and length\n",
        "```"
      ]
    },
    {
      "cell_type": "markdown",
      "id": "0656cbf0-4eab-4be7-bd36-3d62be423cb6",
      "metadata": {
        "id": "0656cbf0-4eab-4be7-bd36-3d62be423cb6"
      },
      "source": [
        "## How can we find feature importance?"
      ]
    },
    {
      "cell_type": "markdown",
      "id": "e30db695-64b6-402f-8ea1-7043fe68f51e",
      "metadata": {
        "id": "e30db695-64b6-402f-8ea1-7043fe68f51e"
      },
      "source": [
        "Let's import our data from scratch again and see what we can find"
      ]
    },
    {
      "cell_type": "code",
      "source": [
        "data = pd.read_csv(path_to_data)\n",
        "X = data.drop(\"target\", axis=1).values\n",
        "y = data['target'].values\n",
        "X_train, X_test, y_train, y_test = train_test_split(X, y, test_size=0.33, random_state=42)\n",
        "\n",
        "rfc= RandomForestClassifier(random_state=42)\n",
        "rfc.fit(X_train, y_train)\n",
        "\n",
        "rfc_pred = rfc.predict(X_test)\n",
        "\n",
        "disp = ConfusionMatrixDisplay(\n",
        "    confusion_matrix(y_test, rfc_pred)\n",
        ")\n",
        "fig, ax = plt.subplots(figsize=(3,3))\n",
        "disp.plot(ax=ax);\n",
        "\n",
        "\n",
        "print(classification_report(y_test, rfc_pred))"
      ],
      "metadata": {
        "id": "7CEkqHB2lVQ4"
      },
      "id": "7CEkqHB2lVQ4",
      "execution_count": null,
      "outputs": []
    },
    {
      "cell_type": "code",
      "source": [
        "importance = rfc.feature_importances_\n",
        "names = data.drop(\"target\", axis=1).columns\n",
        "feature_importance_df = pd.DataFrame.from_dict({\"feature\": names,\n",
        "                                               \"importance\": importance}\n",
        "                                              ).sort_values(\"importance\", ascending=False) # we sort the columns by feature importance\n",
        "feature_importance_df"
      ],
      "metadata": {
        "id": "hTCWkW6jmMLy"
      },
      "id": "hTCWkW6jmMLy",
      "execution_count": null,
      "outputs": []
    },
    {
      "cell_type": "code",
      "execution_count": null,
      "id": "7d224f83-3eac-4604-a585-177f7d0f4b58",
      "metadata": {
        "id": "7d224f83-3eac-4604-a585-177f7d0f4b58"
      },
      "outputs": [],
      "source": [
        "feature_importance_df.query(\"importance >= 0.005\").plot(kind='bar', figsize=(16,4));"
      ]
    },
    {
      "cell_type": "code",
      "execution_count": null,
      "id": "99a56ab7-7363-4497-8bcc-050c6b859505",
      "metadata": {
        "id": "99a56ab7-7363-4497-8bcc-050c6b859505"
      },
      "outputs": [],
      "source": [
        "plt.scatter(data=data, x='99', y='149', c='target');"
      ]
    },
    {
      "cell_type": "code",
      "execution_count": null,
      "id": "c2273c72-a65a-49f1-a945-4b8aba89acfb",
      "metadata": {
        "id": "c2273c72-a65a-49f1-a945-4b8aba89acfb"
      },
      "outputs": [],
      "source": [
        "fig = px.scatter_3d(data_frame=data, x='99', y='149', z='142', opacity=0.7,\n",
        "                    color='target', height=800, width=1000)\n",
        "fig.update_traces(marker_size = 5)\n",
        "fig.show()"
      ]
    },
    {
      "cell_type": "markdown",
      "id": "faa2fa4c-9829-4893-9f69-664ac4c1172d",
      "metadata": {
        "id": "faa2fa4c-9829-4893-9f69-664ac4c1172d"
      },
      "source": [
        "## Test feature importance on models"
      ]
    },
    {
      "cell_type": "code",
      "execution_count": null,
      "id": "3e38e6a9-1f10-4336-ba17-6138c8e3d727",
      "metadata": {
        "id": "3e38e6a9-1f10-4336-ba17-6138c8e3d727"
      },
      "outputs": [],
      "source": [
        "def  transform_data(dataframe=data, top_n_features=2):\n",
        "\n",
        "    selection = feature_importance_df.iloc[0:top_n_features,0].values\n",
        "    print(\"Features in order:\", selection, \"\\n\")\n",
        "    X = data[selection].values\n",
        "    y = data['target'].values\n",
        "\n",
        "    X_train, X_test, y_train, y_test = train_test_split(X, y, test_size=0.33, random_state=42)\n",
        "\n",
        "    min_max_scaler = MinMaxScaler().fit(X_train)\n",
        "    X_train_scaled = min_max_scaler.transform(X_train)\n",
        "    X_test_scaled = min_max_scaler.transform(X_test)\n",
        "    return X_train_scaled, X_test_scaled, y_train, y_test"
      ]
    },
    {
      "cell_type": "code",
      "execution_count": null,
      "id": "3cfe315a-aed0-4847-9566-fffddd77ff98",
      "metadata": {
        "id": "3cfe315a-aed0-4847-9566-fffddd77ff98"
      },
      "outputs": [],
      "source": [
        "# Slecect the number of features\n",
        "X_train_scaled, X_test_scaled, y_train, y_test = transform_data(data, 11)\n",
        "\n",
        "model4_KM = KMeans(n_clusters=2, random_state=0, n_init=\"auto\")\n",
        "model4_KM.fit(X_train_scaled, y_train)\n",
        "model4_KM_pred = model4_KM.predict(X_test_scaled)\n",
        "\n",
        "disp = ConfusionMatrixDisplay(\n",
        "    confusion_matrix(y_test, model4_KM_pred),\n",
        "    #display_labels=model1_KM.classes_\n",
        ")\n",
        "fig, ax = plt.subplots(figsize=(3,3))\n",
        "disp.plot(ax=ax);\n",
        "\n",
        "print(classification_report(y_test, model4_KM_pred))"
      ]
    },
    {
      "cell_type": "markdown",
      "source": [
        "### Write a for loop to look at number of top features and model performance"
      ],
      "metadata": {
        "id": "KX26TEjqo_Az"
      },
      "id": "KX26TEjqo_Az"
    },
    {
      "cell_type": "code",
      "source": [
        "%%capture\n",
        "f1_vs_n_features = {}\n",
        "for n_features in range(1,150):\n",
        "  X_train_scaled, X_test_scaled, y_train, y_test = transform_data(data, n_features)\n",
        "\n",
        "  model4_KM = KMeans(n_clusters=2, random_state=0, n_init=\"auto\")\n",
        "  model4_KM.fit(X_train_scaled, y_train)\n",
        "  model4_KM_pred = model4_KM.predict(X_test_scaled)\n",
        "\n",
        "  f1 = f1_score(y_test, model4_KM_pred, average='weighted', zero_division='warn')\n",
        "  f1_vs_n_features[n_features] = f1\n",
        "\n",
        "f1Df  = pd.DataFrame.from_dict(f1_vs_n_features, orient='index').reset_index().rename({'index': 'n_features', 0: 'f1'}, axis=1)"
      ],
      "metadata": {
        "id": "5j3eGtEUqNwu"
      },
      "id": "5j3eGtEUqNwu",
      "execution_count": null,
      "outputs": []
    },
    {
      "cell_type": "code",
      "source": [
        "\n",
        "px.line(data_frame=f1Df, x='n_features', y='f1')"
      ],
      "metadata": {
        "id": "VSrimkL6yRC1"
      },
      "id": "VSrimkL6yRC1",
      "execution_count": null,
      "outputs": []
    },
    {
      "cell_type": "markdown",
      "id": "3248d697-c9e0-4618-8e5c-69bd4fd77357",
      "metadata": {
        "id": "3248d697-c9e0-4618-8e5c-69bd4fd77357"
      },
      "source": [
        "# Dimentionality reduction and latent space\n",
        "\n",
        "## Principle component analysis"
      ]
    },
    {
      "cell_type": "code",
      "execution_count": null,
      "id": "187ff411-161b-4d6e-8662-999a65d2694b",
      "metadata": {
        "id": "187ff411-161b-4d6e-8662-999a65d2694b"
      },
      "outputs": [],
      "source": [
        "data = pd.read_csv(path_to_data)\n",
        "\n",
        "X = data.drop(\"target\", axis=1).values\n",
        "y = data['target'].values\n",
        "X_train, X_test, y_train, y_test = train_test_split(X, y, test_size=0.33, random_state=42)\n",
        "\n",
        "min_max_scaler = MinMaxScaler().fit(X_train)\n",
        "X_train_scaled = min_max_scaler.transform(X_train)\n",
        "X_test_scaled = min_max_scaler.transform(X_test)"
      ]
    },
    {
      "cell_type": "code",
      "execution_count": null,
      "id": "3be6c200-0436-4ffa-8427-bbfd86d04817",
      "metadata": {
        "id": "3be6c200-0436-4ffa-8427-bbfd86d04817"
      },
      "outputs": [],
      "source": [
        "keep_fisrt_n = 10\n",
        "pca = PCA(n_components=keep_fisrt_n)\n",
        "pComponents = pca.fit_transform(X_train_scaled)\n",
        "pComponents.shape"
      ]
    },
    {
      "cell_type": "code",
      "execution_count": null,
      "id": "30cf108c-bc2c-4572-9508-79b0795fe6a3",
      "metadata": {
        "id": "30cf108c-bc2c-4572-9508-79b0795fe6a3"
      },
      "outputs": [],
      "source": [
        "\n",
        "plt.plot(pca.explained_variance_ratio_)"
      ]
    },
    {
      "cell_type": "code",
      "execution_count": null,
      "id": "887d82d6-9cd1-40b1-9919-8c989600a20b",
      "metadata": {
        "id": "887d82d6-9cd1-40b1-9919-8c989600a20b"
      },
      "outputs": [],
      "source": [
        "pcaDf = pd.DataFrame(pComponents)\n",
        "pcaDf['target'] = y_train\n",
        "plt.scatter(pcaDf[0], pcaDf[1], c=pcaDf['target'])"
      ]
    },
    {
      "cell_type": "code",
      "execution_count": null,
      "id": "b11476b7-08ac-42fe-a3b3-a39ca6d5c3ae",
      "metadata": {
        "id": "b11476b7-08ac-42fe-a3b3-a39ca6d5c3ae"
      },
      "outputs": [],
      "source": [
        "fig = px.scatter_3d(data_frame=pcaDf, x=0, y=1, z=2, color='target', height=800, width=1000)\n",
        "fig.update_traces(marker_size=3)\n",
        "fig"
      ]
    },
    {
      "cell_type": "code",
      "execution_count": null,
      "id": "f27ecb85-886c-4558-a624-24af03cd053c",
      "metadata": {
        "id": "f27ecb85-886c-4558-a624-24af03cd053c"
      },
      "outputs": [],
      "source": [
        "pComponents.shape"
      ]
    },
    {
      "cell_type": "code",
      "execution_count": null,
      "id": "05429722-d815-4218-89c0-e734d5f13a8a",
      "metadata": {
        "id": "05429722-d815-4218-89c0-e734d5f13a8a"
      },
      "outputs": [],
      "source": [
        "pComponents_test = pca.transform(X_test_scaled)\n",
        "pComponents_test.shape"
      ]
    },
    {
      "cell_type": "code",
      "execution_count": null,
      "id": "07d26e2b-3d29-43b4-8249-98c0110fc0b7",
      "metadata": {
        "id": "07d26e2b-3d29-43b4-8249-98c0110fc0b7"
      },
      "outputs": [],
      "source": [
        "PCA_KM = KMeans(n_clusters=2, random_state=0, n_init=\"auto\")\n",
        "PCA_KM.fit(pComponents, y_train)\n",
        "PCA_KM_pred = PCA_KM.predict(pComponents_test)\n",
        "\n",
        "disp = ConfusionMatrixDisplay(\n",
        "    confusion_matrix(y_test, PCA_KM_pred),\n",
        "    #display_labels=model1_KM.classes_\n",
        ")\n",
        "fig, ax = plt.subplots(figsize=(3,3))\n",
        "disp.plot(ax=ax);\n",
        "\n",
        "print(classification_report(y_test, PCA_KM_pred))"
      ]
    },
    {
      "cell_type": "code",
      "execution_count": null,
      "id": "beb89335-39ef-4006-94fa-3a393f7ebb75",
      "metadata": {
        "id": "beb89335-39ef-4006-94fa-3a393f7ebb75"
      },
      "outputs": [],
      "source": [
        "PCA_RFC = RandomForestClassifier()\n",
        "PCA_RFC.fit(pComponents, y_train)\n",
        "PCA_RFC_pred = PCA_RFC.predict(pComponents_test)\n",
        "\n",
        "disp = ConfusionMatrixDisplay(\n",
        "    confusion_matrix(y_test, PCA_RFC_pred),\n",
        "    #display_labels=model1_KM.classes_\n",
        ")\n",
        "fig, ax = plt.subplots(figsize=(3,3))\n",
        "disp.plot(ax=ax);\n",
        "\n",
        "print(classification_report(y_test, PCA_RFC_pred))"
      ]
    },
    {
      "cell_type": "markdown",
      "id": "ceb39e7d-7da7-425e-837c-1d292cf9c99c",
      "metadata": {
        "id": "ceb39e7d-7da7-425e-837c-1d292cf9c99c"
      },
      "source": [
        "## Uniform Manifold Approximation and Projection"
      ]
    },
    {
      "cell_type": "code",
      "execution_count": null,
      "id": "6d671f1c-b007-4fe0-be72-3895960654a4",
      "metadata": {
        "id": "6d671f1c-b007-4fe0-be72-3895960654a4"
      },
      "outputs": [],
      "source": [
        "reducer = umap.UMAP(n_neighbors=7, n_components=3, random_state=42, n_jobs=1)\n",
        "reducer = reducer.fit(X_train_scaled)\n",
        "embedding_train = reducer.transform(X_train_scaled)\n",
        "embedding_test = reducer.transform(X_test_scaled)\n",
        "embedding_train.shape, embedding_test.shape"
      ]
    },
    {
      "cell_type": "code",
      "execution_count": null,
      "id": "ac43854f-c145-4aec-a60e-f1fc88b672bd",
      "metadata": {
        "id": "ac43854f-c145-4aec-a60e-f1fc88b672bd"
      },
      "outputs": [],
      "source": [
        "umap_plot_df = pd.DataFrame(embedding_train)\n",
        "umap_plot_df['target'] = y_train\n",
        "sns.scatterplot(data=umap_plot_df, x=0, y=1, hue='target');"
      ]
    },
    {
      "cell_type": "code",
      "execution_count": null,
      "id": "cec24bf8-cf24-4c83-a177-9347bc4f648c",
      "metadata": {
        "id": "cec24bf8-cf24-4c83-a177-9347bc4f648c"
      },
      "outputs": [],
      "source": [
        "fig = px.scatter_3d(data_frame=umap_plot_df, x=0, y=1, z=2,\n",
        "                    color='target', height=800, width=1000)\n",
        "fig.update_traces(marker_size=3)"
      ]
    },
    {
      "cell_type": "code",
      "execution_count": null,
      "id": "ea234aba-0113-4c84-bfc4-d8a291259ebb",
      "metadata": {
        "id": "ea234aba-0113-4c84-bfc4-d8a291259ebb"
      },
      "outputs": [],
      "source": [
        "UMAP_KM = KMeans(n_clusters=2, random_state=0, n_init=\"auto\")\n",
        "UMAP_KM.fit(embedding_train, y_train)\n",
        "UMAP_KM_pred = UMAP_KM.predict(embedding_test)\n",
        "\n",
        "disp = ConfusionMatrixDisplay(\n",
        "    confusion_matrix(y_test, UMAP_KM_pred),\n",
        "    #display_labels=model1_KM.classes_\n",
        ")\n",
        "fig, ax = plt.subplots(figsize=(3,3))\n",
        "disp.plot(ax=ax);\n",
        "\n",
        "print(classification_report(y_test, UMAP_KM_pred))"
      ]
    },
    {
      "cell_type": "code",
      "execution_count": null,
      "id": "3cc6e848-5e17-4631-bc94-f9054d76d61d",
      "metadata": {
        "id": "3cc6e848-5e17-4631-bc94-f9054d76d61d"
      },
      "outputs": [],
      "source": [
        "UMAP_RFC = RandomForestClassifier()\n",
        "UMAP_RFC.fit(embedding_train, y_train)\n",
        "UMAP_RFC_pred = UMAP_RFC.predict(embedding_test)\n",
        "\n",
        "disp = ConfusionMatrixDisplay(\n",
        "    confusion_matrix(y_test, UMAP_RFC_pred),\n",
        "    #display_labels=model1_KM.classes_\n",
        ")\n",
        "fig, ax = plt.subplots(figsize=(3,3))\n",
        "disp.plot(ax=ax);\n",
        "\n",
        "print(classification_report(y_test, UMAP_RFC_pred))"
      ]
    },
    {
      "cell_type": "code",
      "execution_count": null,
      "id": "60ce3a28-55a8-480c-855b-06d7af1e4ba3",
      "metadata": {
        "id": "60ce3a28-55a8-480c-855b-06d7af1e4ba3"
      },
      "outputs": [],
      "source": []
    },
    {
      "cell_type": "code",
      "execution_count": null,
      "id": "0270706a-9f5c-4653-b823-b9783699112e",
      "metadata": {
        "id": "0270706a-9f5c-4653-b823-b9783699112e"
      },
      "outputs": [],
      "source": []
    },
    {
      "cell_type": "code",
      "execution_count": null,
      "id": "b96e2941-2644-46c3-86bf-ab8cb9671367",
      "metadata": {
        "id": "b96e2941-2644-46c3-86bf-ab8cb9671367"
      },
      "outputs": [],
      "source": []
    },
    {
      "cell_type": "code",
      "execution_count": null,
      "id": "6bccbe75-32b9-4e86-bf47-da0298693e79",
      "metadata": {
        "id": "6bccbe75-32b9-4e86-bf47-da0298693e79"
      },
      "outputs": [],
      "source": []
    }
  ],
  "metadata": {
    "kernelspec": {
      "display_name": "Python 3 (ipykernel)",
      "language": "python",
      "name": "python3"
    },
    "language_info": {
      "codemirror_mode": {
        "name": "ipython",
        "version": 3
      },
      "file_extension": ".py",
      "mimetype": "text/x-python",
      "name": "python",
      "nbconvert_exporter": "python",
      "pygments_lexer": "ipython3",
      "version": "3.12.3"
    },
    "colab": {
      "provenance": [],
      "include_colab_link": true
    }
  },
  "nbformat": 4,
  "nbformat_minor": 5
}