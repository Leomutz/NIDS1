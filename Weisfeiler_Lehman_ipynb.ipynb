{
  "cells": [
    {
      "cell_type": "markdown",
      "metadata": {
        "id": "view-in-github",
        "colab_type": "text"
      },
      "source": [
        "<a href=\"https://colab.research.google.com/github/Leomutz/NIDS1/blob/main/Weisfeiler_Lehman_ipynb.ipynb\" target=\"_parent\"><img src=\"https://colab.research.google.com/assets/colab-badge.svg\" alt=\"Open In Colab\"/></a>"
      ]
    },
    {
      "cell_type": "code",
      "execution_count": 1,
      "metadata": {
        "id": "Zr8IWudrLrHP"
      },
      "outputs": [],
      "source": [
        "#Graph definition\n",
        "g5_00 = {0: {1, 2, 4}, 1: {0, 2}, 2: {0, 1, 3}, 3: {2, 4}, 4: {0, 3}}\n",
        "g5_01 = {0: {3, 4}, 1: {2, 3, 4}, 2: {1, 3}, 3: {0, 1, 2}, 4: {0, 1}}\n",
        "g5_02 = {0: {1, 2, 4}, 1: {0, 3}, 2: {0, 3}, 3: {1, 2, 4}, 4: {0, 3}}\n",
        "g5_03 = {0: {1, 2, 4}, 1: {0, 2, 4}, 2: {0, 1, 3}, 3: {2, 4}, 4: {0, 1, 3}}\n",
        "g5_04 = {0: {1, 2, 4}, 1: {0, 2}, 2: {0, 1, 3, 4}, 3: {2, 4}, 4: {0, 2, 3}}\n",
        "g5_05 = {0: {1, 4}, 1: {0, 2, 3}, 2: {1, 3}, 3: {1, 2, 4}, 4: {0, 3}}\n",
        "g5_06 = {0: {1, 4}, 1: {0, 2}, 2: {1, 3}, 3: {2, 4}, 4: {0, 3}}\n",
        "g5_07 = {0: {3, 4}, 1: {2, 4}, 2: {1, 4}, 3: {0, 4}, 4: {0, 1, 2, 3}}\n",
        "g5_08 = {0: {1, 3, 4}, 1: {0, 2, 4}, 2: {1, 3, 4}, 3: {0, 2, 4}, 4: {0, 1, 2, 3}}"
      ]
    },
    {
      "cell_type": "code",
      "execution_count": 2,
      "metadata": {
        "id": "CcdFTfOOLxVF"
      },
      "outputs": [],
      "source": [
        "#Combine two graphs\n",
        "def combineTwo(g1, g2):\n",
        "    g = {}\n",
        "    n1 = len(g1)\n",
        "    n2 = len(g2)\n",
        "    for node in g1:\n",
        "        s = set()\n",
        "        for neighbor in g1[node]:\n",
        "            s.add(neighbor)\n",
        "        g[node] = s.copy()\n",
        "    for node in g2:\n",
        "        s = set()\n",
        "        for neighbor in g2[node]:\n",
        "            s.add(neighbor + n1)\n",
        "        g[node + n1] = s.copy()\n",
        "    return g, n1, n2"
      ]
    },
    {
      "cell_type": "code",
      "execution_count": 5,
      "metadata": {
        "colab": {
          "base_uri": "https://localhost:8080/"
        },
        "id": "IXyIm-87L22G",
        "outputId": "6e38db29-9fee-4a82-967c-f2f38db263c9"
      },
      "outputs": [
        {
          "output_type": "stream",
          "name": "stdout",
          "text": [
            "{0: 8, 1: 9, 2: 8, 3: 10, 4: 10, 5: 11, 6: 11, 7: 12, 8: 13, 9: 12}\n"
          ]
        }
      ],
      "source": [
        "#Initially each node has the same lable - 0\n",
        "g, n1, n2 = combineTwo(g5_00, g5_03)\n",
        "labels = {}\n",
        "glabels = {}\n",
        "for i in range(len(g)):\n",
        "    glabels[i] = 0\n",
        "glabelsCount = 1\n",
        "newlabel = 1\n",
        "\n",
        "done = False\n",
        "while not (done):\n",
        "    glabelsNew = {}\n",
        "    glabelsCountNew = 0\n",
        "    for node in g:\n",
        "        label = str(glabels[node]) #Current lable of the specific node\n",
        "        s2 = []\n",
        "        for neighbor in g[node]:\n",
        "            s2.append(glabels[neighbor]) #Gather lables of the neighbouring nodes\n",
        "        s2.sort()\n",
        "        for i in range(len(s2)):\n",
        "            label += \"_\" + str(s2[i]) #Sequence of the specific node's lable together with that of its neighbours'\n",
        "        if not (label in labels):\n",
        "            labels[label] = newlabel\n",
        "            newlabel += 1\n",
        "            glabelsCountNew += 1\n",
        "        glabelsNew[node] = labels[label]\n",
        "    if glabelsCount == glabelsCountNew:\n",
        "        done = True\n",
        "    else:\n",
        "        glabelsCount = glabelsCountNew\n",
        "        glabels = glabelsNew.copy()\n",
        "print(glabels)"
      ]
    },
    {
      "cell_type": "code",
      "execution_count": 6,
      "metadata": {
        "colab": {
          "base_uri": "https://localhost:8080/"
        },
        "id": "dC4vxdKtL5IU",
        "outputId": "46374cbf-5ee8-483a-f0d4-049c49638f6f"
      },
      "outputs": [
        {
          "output_type": "stream",
          "name": "stdout",
          "text": [
            "Certificate 0: 8_8_9_10_10_\n",
            "Certificate 1: 11_11_12_12_13_\n",
            "Test yields: False\n"
          ]
        }
      ],
      "source": [
        "g0labels = []\n",
        "for i in range(n1):\n",
        "    g0labels.append(glabels[i])\n",
        "g0labels.sort()\n",
        "certificate0 = \"\"\n",
        "for i in range(n1):\n",
        "    certificate0 += str(g0labels[i]) + \"_\"\n",
        "g1labels = []\n",
        "for i in range(n2):\n",
        "    g1labels.append(glabels[i + n1])\n",
        "g1labels.sort()\n",
        "certificate1 = \"\"\n",
        "for i in range(n2):\n",
        "    certificate1 += str(g1labels[i]) + \"_\"\n",
        "\n",
        "if certificate0 == certificate1:\n",
        "    test = True\n",
        "else:\n",
        "    test = False\n",
        "print(\"Certificate 0:\", certificate0)\n",
        "print(\"Certificate 1:\", certificate1)\n",
        "print(\"Test yields:\", test)"
      ]
    },
    {
      "cell_type": "code",
      "source": [],
      "metadata": {
        "id": "WfDG9E8c6V1Q"
      },
      "execution_count": null,
      "outputs": []
    }
  ],
  "metadata": {
    "colab": {
      "provenance": [],
      "include_colab_link": true
    },
    "kernelspec": {
      "display_name": "Python 3",
      "name": "python3"
    },
    "language_info": {
      "codemirror_mode": {
        "name": "ipython",
        "version": 3
      },
      "file_extension": ".py",
      "mimetype": "text/x-python",
      "name": "python",
      "nbconvert_exporter": "python",
      "pygments_lexer": "ipython3",
      "version": "3.9.13"
    }
  },
  "nbformat": 4,
  "nbformat_minor": 0
}