{
  "cells": [
    {
      "cell_type": "markdown",
      "metadata": {
        "id": "view-in-github",
        "colab_type": "text"
      },
      "source": [
        "<a href=\"https://colab.research.google.com/github/Leomutz/NIDS1/blob/main/SACAIR2024_tutorial03.ipynb\" target=\"_parent\"><img src=\"https://colab.research.google.com/assets/colab-badge.svg\" alt=\"Open In Colab\"/></a>"
      ]
    },
    {
      "cell_type": "markdown",
      "id": "f3b08aeb",
      "metadata": {
        "id": "f3b08aeb"
      },
      "source": [
        "# What are Pulsars?"
      ]
    },
    {
      "cell_type": "markdown",
      "id": "e186b789",
      "metadata": {
        "id": "e186b789"
      },
      "source": [
        "* Pulsars are created when supermassive stars with mass between 10-20 M$_{\\odot}$ (1 M$_{\\odot}$$\\sim2\\times10^{30}$ kg) collapse under their own gravity.\n",
        "* These are violent explosions and the outer layers of the supermassive star a repelled into space leaving behind a dense core that is $\\sim$ 10 km in diameter.\n",
        "* This dense core is known as a pulsar.\n",
        "* And because of the conservation of angular momentum and magnetic flux these pulsars spin **VERY FAST** (1000 times per second) and they have **enormous** magnetic fields (trillion times stronger than that of Earth).\n",
        "* This beautiful combination of **spinnig very fast and high magnetic fields** give pulsar their unique characteristic: they produce pulsed emision from their poles!"
      ]
    },
    {
      "cell_type": "markdown",
      "id": "deb98b72",
      "metadata": {
        "id": "deb98b72"
      },
      "source": [
        "# Pretty picture of a Pulsar [Sadly, not real :( ]"
      ]
    },
    {
      "cell_type": "code",
      "execution_count": 1,
      "id": "7171948f",
      "metadata": {
        "colab": {
          "base_uri": "https://localhost:8080/",
          "height": 1000
        },
        "id": "7171948f",
        "outputId": "0592bb8d-f19b-4edd-aac3-ca6ad4153a86"
      },
      "outputs": [
        {
          "output_type": "display_data",
          "data": {
            "text/html": [
              "<img src=\"https://cdn.mos.cms.futurecdn.net/bXYyJ7KyHaJVTmEhvm4Din.jpg.webp\" width=\"900\" height=\"1000\"/>"
            ],
            "text/plain": [
              "<IPython.core.display.Image object>"
            ]
          },
          "metadata": {}
        }
      ],
      "source": [
        "from IPython.display import Image, display\n",
        "\n",
        "# Display an image from the local directory\n",
        "display(Image(url='https://cdn.mos.cms.futurecdn.net/bXYyJ7KyHaJVTmEhvm4Din.jpg.webp', height=1000, width=900))"
      ]
    },
    {
      "cell_type": "markdown",
      "id": "4ef9aacb",
      "metadata": {
        "id": "4ef9aacb"
      },
      "source": [
        "# Lighthouse Effect"
      ]
    },
    {
      "cell_type": "code",
      "execution_count": 2,
      "id": "2d2d7fb1",
      "metadata": {
        "colab": {
          "base_uri": "https://localhost:8080/",
          "height": 501
        },
        "id": "2d2d7fb1",
        "outputId": "5f7d70e6-db56-499d-f064-8cb98f8045b6"
      },
      "outputs": [
        {
          "output_type": "display_data",
          "data": {
            "text/html": [
              "<img src=\"https://upload.wikimedia.org/wikipedia/commons/4/4d/Lightsmall-optimised.gif\"/>"
            ],
            "text/plain": [
              "<IPython.core.display.Image object>"
            ]
          },
          "metadata": {}
        }
      ],
      "source": [
        "display(Image(url='https://upload.wikimedia.org/wikipedia/commons/4/4d/Lightsmall-optimised.gif'))"
      ]
    },
    {
      "cell_type": "markdown",
      "id": "e7bdb628",
      "metadata": {
        "id": "e7bdb628"
      },
      "source": [
        "# The Use of AI in Astrophysics"
      ]
    },
    {
      "cell_type": "markdown",
      "id": "cf47dc4d",
      "metadata": {
        "id": "cf47dc4d"
      },
      "source": [
        "* As telescopes observe the night sky, they gather a huge amount of data ($\\sim$ terabytes) trying to discover new pulsars.\n",
        "* This data must then be reduced to identify pulsar from non-pulsar data.\n",
        "* This becomes a very **TEDIOUS** task for mere mortals.\n",
        "* This is where AI comes in and saves the day.\n",
        "* Using deep learning and neural networks, astronomers can train models to look for pulsar feautures in these vast amount of data that is collected daily.\n",
        "* So that is what we are going to do today. We'll generate some synthetic pulsar and non-pulsar (noise) data and see if the model can identify and seperate the two data sets."
      ]
    },
    {
      "cell_type": "markdown",
      "id": "d0f4238b",
      "metadata": {
        "id": "d0f4238b"
      },
      "source": [
        " Importing necessary libraries"
      ]
    },
    {
      "cell_type": "code",
      "execution_count": 3,
      "id": "7005c605",
      "metadata": {
        "id": "7005c605"
      },
      "outputs": [],
      "source": [
        "import numpy as np\n",
        "import matplotlib.pyplot as plt\n",
        "from sklearn.model_selection import train_test_split\n",
        "from sklearn.ensemble import RandomForestClassifier\n",
        "from sklearn.metrics import classification_report, confusion_matrix\n",
        "from tensorflow.keras.models import Sequential\n",
        "from tensorflow.keras.layers import Dense, Dropout\n",
        "from tensorflow.keras.optimizers import Adam\n",
        "import pandas as pd"
      ]
    },
    {
      "cell_type": "markdown",
      "id": "5040df5e",
      "metadata": {
        "id": "5040df5e"
      },
      "source": [
        "### Function to simulate a pulsar signal (sine wave)"
      ]
    },
    {
      "cell_type": "code",
      "execution_count": 4,
      "id": "8cedee9e",
      "metadata": {
        "id": "8cedee9e"
      },
      "outputs": [],
      "source": [
        "def generate_pulsar_signal(length=100, frequency=0.1, amplitude=1):\n",
        "    t = np.linspace(0, length, length)\n",
        "    return amplitude * np.sin(2 * np.pi * frequency * t)"
      ]
    },
    {
      "cell_type": "markdown",
      "id": "6b3094be",
      "metadata": {
        "id": "6b3094be"
      },
      "source": [
        "### Function to simulate non-pulsar signal (random noise)"
      ]
    },
    {
      "cell_type": "code",
      "execution_count": 5,
      "id": "753b9cb7",
      "metadata": {
        "id": "753b9cb7"
      },
      "outputs": [],
      "source": [
        "def generate_non_pulsar_signal(length=100):\n",
        "    return np.random.normal(0, 1, length)"
      ]
    },
    {
      "cell_type": "markdown",
      "id": "328d9d4b",
      "metadata": {
        "id": "328d9d4b"
      },
      "source": [
        "Simulating a dataset of pulsar and non-pulsar signals"
      ]
    },
    {
      "cell_type": "code",
      "execution_count": 6,
      "id": "c27820b1",
      "metadata": {
        "id": "c27820b1"
      },
      "outputs": [],
      "source": [
        "num_samples = 1000\n",
        "signal_length = 100"
      ]
    },
    {
      "cell_type": "markdown",
      "id": "1e091109",
      "metadata": {
        "id": "1e091109"
      },
      "source": [
        "Generate pulsar-like signals (periodic signals)"
      ]
    },
    {
      "cell_type": "code",
      "execution_count": 7,
      "id": "b783d6b3",
      "metadata": {
        "id": "b783d6b3"
      },
      "outputs": [],
      "source": [
        "pulsar_signals = np.array([generate_pulsar_signal(length=signal_length) for _ in range(num_samples // 2)])"
      ]
    },
    {
      "cell_type": "markdown",
      "id": "f6780208",
      "metadata": {
        "id": "f6780208"
      },
      "source": [
        "Generate non-pulsar-like signals (random noise)"
      ]
    },
    {
      "cell_type": "code",
      "execution_count": 8,
      "id": "5229a225",
      "metadata": {
        "id": "5229a225"
      },
      "outputs": [],
      "source": [
        "non_pulsar_signals = np.array([generate_non_pulsar_signal(length=signal_length) for _ in range(num_samples // 2)])"
      ]
    },
    {
      "cell_type": "markdown",
      "id": "2c10d216",
      "metadata": {
        "id": "2c10d216"
      },
      "source": [
        "### Label the data: 1 for pulsar, 0 for non-pulsar"
      ]
    },
    {
      "cell_type": "code",
      "execution_count": 9,
      "id": "56cf7ea8",
      "metadata": {
        "id": "56cf7ea8"
      },
      "outputs": [],
      "source": [
        "labels_pulsar = np.ones(num_samples // 2)\n",
        "labels_non_pulsar = np.zeros(num_samples // 2)"
      ]
    },
    {
      "cell_type": "markdown",
      "id": "133540c5",
      "metadata": {
        "id": "133540c5"
      },
      "source": [
        "Combine the signals and labels into a single dataset"
      ]
    },
    {
      "cell_type": "code",
      "execution_count": 10,
      "id": "3d9136e0",
      "metadata": {
        "id": "3d9136e0"
      },
      "outputs": [],
      "source": [
        "signals = np.vstack([pulsar_signals, non_pulsar_signals])\n",
        "labels = np.hstack([labels_pulsar, labels_non_pulsar])\n"
      ]
    },
    {
      "cell_type": "markdown",
      "id": "c653803e",
      "metadata": {
        "id": "c653803e"
      },
      "source": [
        "Shuffle the dataset"
      ]
    },
    {
      "cell_type": "code",
      "execution_count": 11,
      "id": "bc9e5ed8",
      "metadata": {
        "id": "bc9e5ed8"
      },
      "outputs": [],
      "source": [
        "indices = np.random.permutation(len(signals))\n",
        "signals = signals[indices]\n",
        "labels = labels[indices]"
      ]
    },
    {
      "cell_type": "markdown",
      "id": "82fbdd6a",
      "metadata": {
        "id": "82fbdd6a"
      },
      "source": [
        "Feature extraction function"
      ]
    },
    {
      "cell_type": "code",
      "execution_count": 12,
      "id": "157e2b5d",
      "metadata": {
        "id": "157e2b5d"
      },
      "outputs": [],
      "source": [
        "def extract_features(signals):\n",
        "    '''Calculates the statistics of the data for the model to use'''\n",
        "    features = []\n",
        "    for signal in signals:\n",
        "        mean = np.mean(signal)\n",
        "        variance = np.var(signal)\n",
        "        peak_to_peak = np.ptp(signal)  # Peak-to-peak value\n",
        "        features.append([mean, variance, peak_to_peak])\n",
        "    return np.array(features)"
      ]
    },
    {
      "cell_type": "markdown",
      "id": "20f2ae6b",
      "metadata": {
        "id": "20f2ae6b"
      },
      "source": [
        "Extract features from the signals"
      ]
    },
    {
      "cell_type": "code",
      "execution_count": 13,
      "id": "4a678291",
      "metadata": {
        "id": "4a678291"
      },
      "outputs": [],
      "source": [
        "features = extract_features(signals)"
      ]
    },
    {
      "cell_type": "markdown",
      "id": "98316b7e",
      "metadata": {
        "id": "98316b7e"
      },
      "source": [
        "### Split the dataset into training and testing sets"
      ]
    },
    {
      "cell_type": "code",
      "execution_count": 14,
      "id": "71ca79c6",
      "metadata": {
        "id": "71ca79c6"
      },
      "outputs": [],
      "source": [
        "X_train, X_test, y_train, y_test = train_test_split(features, labels,\n",
        "                                                    test_size=0.3, random_state=42)"
      ]
    },
    {
      "cell_type": "markdown",
      "id": "ea06856b",
      "metadata": {
        "id": "ea06856b"
      },
      "source": [
        "## Random Forest Classifier\n",
        "This is an ensemble technique that combines multiple decision trees in order to improve the classification accuracy and control overfitting to the training data.\n"
      ]
    },
    {
      "cell_type": "code",
      "execution_count": 15,
      "id": "7ef86975",
      "metadata": {
        "colab": {
          "base_uri": "https://localhost:8080/",
          "height": 80
        },
        "id": "7ef86975",
        "outputId": "b1e89c01-54a7-4c75-be43-6e547dec3151"
      },
      "outputs": [
        {
          "output_type": "execute_result",
          "data": {
            "text/plain": [
              "RandomForestClassifier(random_state=42)"
            ],
            "text/html": [
              "<style>#sk-container-id-1 {\n",
              "  /* Definition of color scheme common for light and dark mode */\n",
              "  --sklearn-color-text: black;\n",
              "  --sklearn-color-line: gray;\n",
              "  /* Definition of color scheme for unfitted estimators */\n",
              "  --sklearn-color-unfitted-level-0: #fff5e6;\n",
              "  --sklearn-color-unfitted-level-1: #f6e4d2;\n",
              "  --sklearn-color-unfitted-level-2: #ffe0b3;\n",
              "  --sklearn-color-unfitted-level-3: chocolate;\n",
              "  /* Definition of color scheme for fitted estimators */\n",
              "  --sklearn-color-fitted-level-0: #f0f8ff;\n",
              "  --sklearn-color-fitted-level-1: #d4ebff;\n",
              "  --sklearn-color-fitted-level-2: #b3dbfd;\n",
              "  --sklearn-color-fitted-level-3: cornflowerblue;\n",
              "\n",
              "  /* Specific color for light theme */\n",
              "  --sklearn-color-text-on-default-background: var(--sg-text-color, var(--theme-code-foreground, var(--jp-content-font-color1, black)));\n",
              "  --sklearn-color-background: var(--sg-background-color, var(--theme-background, var(--jp-layout-color0, white)));\n",
              "  --sklearn-color-border-box: var(--sg-text-color, var(--theme-code-foreground, var(--jp-content-font-color1, black)));\n",
              "  --sklearn-color-icon: #696969;\n",
              "\n",
              "  @media (prefers-color-scheme: dark) {\n",
              "    /* Redefinition of color scheme for dark theme */\n",
              "    --sklearn-color-text-on-default-background: var(--sg-text-color, var(--theme-code-foreground, var(--jp-content-font-color1, white)));\n",
              "    --sklearn-color-background: var(--sg-background-color, var(--theme-background, var(--jp-layout-color0, #111)));\n",
              "    --sklearn-color-border-box: var(--sg-text-color, var(--theme-code-foreground, var(--jp-content-font-color1, white)));\n",
              "    --sklearn-color-icon: #878787;\n",
              "  }\n",
              "}\n",
              "\n",
              "#sk-container-id-1 {\n",
              "  color: var(--sklearn-color-text);\n",
              "}\n",
              "\n",
              "#sk-container-id-1 pre {\n",
              "  padding: 0;\n",
              "}\n",
              "\n",
              "#sk-container-id-1 input.sk-hidden--visually {\n",
              "  border: 0;\n",
              "  clip: rect(1px 1px 1px 1px);\n",
              "  clip: rect(1px, 1px, 1px, 1px);\n",
              "  height: 1px;\n",
              "  margin: -1px;\n",
              "  overflow: hidden;\n",
              "  padding: 0;\n",
              "  position: absolute;\n",
              "  width: 1px;\n",
              "}\n",
              "\n",
              "#sk-container-id-1 div.sk-dashed-wrapped {\n",
              "  border: 1px dashed var(--sklearn-color-line);\n",
              "  margin: 0 0.4em 0.5em 0.4em;\n",
              "  box-sizing: border-box;\n",
              "  padding-bottom: 0.4em;\n",
              "  background-color: var(--sklearn-color-background);\n",
              "}\n",
              "\n",
              "#sk-container-id-1 div.sk-container {\n",
              "  /* jupyter's `normalize.less` sets `[hidden] { display: none; }`\n",
              "     but bootstrap.min.css set `[hidden] { display: none !important; }`\n",
              "     so we also need the `!important` here to be able to override the\n",
              "     default hidden behavior on the sphinx rendered scikit-learn.org.\n",
              "     See: https://github.com/scikit-learn/scikit-learn/issues/21755 */\n",
              "  display: inline-block !important;\n",
              "  position: relative;\n",
              "}\n",
              "\n",
              "#sk-container-id-1 div.sk-text-repr-fallback {\n",
              "  display: none;\n",
              "}\n",
              "\n",
              "div.sk-parallel-item,\n",
              "div.sk-serial,\n",
              "div.sk-item {\n",
              "  /* draw centered vertical line to link estimators */\n",
              "  background-image: linear-gradient(var(--sklearn-color-text-on-default-background), var(--sklearn-color-text-on-default-background));\n",
              "  background-size: 2px 100%;\n",
              "  background-repeat: no-repeat;\n",
              "  background-position: center center;\n",
              "}\n",
              "\n",
              "/* Parallel-specific style estimator block */\n",
              "\n",
              "#sk-container-id-1 div.sk-parallel-item::after {\n",
              "  content: \"\";\n",
              "  width: 100%;\n",
              "  border-bottom: 2px solid var(--sklearn-color-text-on-default-background);\n",
              "  flex-grow: 1;\n",
              "}\n",
              "\n",
              "#sk-container-id-1 div.sk-parallel {\n",
              "  display: flex;\n",
              "  align-items: stretch;\n",
              "  justify-content: center;\n",
              "  background-color: var(--sklearn-color-background);\n",
              "  position: relative;\n",
              "}\n",
              "\n",
              "#sk-container-id-1 div.sk-parallel-item {\n",
              "  display: flex;\n",
              "  flex-direction: column;\n",
              "}\n",
              "\n",
              "#sk-container-id-1 div.sk-parallel-item:first-child::after {\n",
              "  align-self: flex-end;\n",
              "  width: 50%;\n",
              "}\n",
              "\n",
              "#sk-container-id-1 div.sk-parallel-item:last-child::after {\n",
              "  align-self: flex-start;\n",
              "  width: 50%;\n",
              "}\n",
              "\n",
              "#sk-container-id-1 div.sk-parallel-item:only-child::after {\n",
              "  width: 0;\n",
              "}\n",
              "\n",
              "/* Serial-specific style estimator block */\n",
              "\n",
              "#sk-container-id-1 div.sk-serial {\n",
              "  display: flex;\n",
              "  flex-direction: column;\n",
              "  align-items: center;\n",
              "  background-color: var(--sklearn-color-background);\n",
              "  padding-right: 1em;\n",
              "  padding-left: 1em;\n",
              "}\n",
              "\n",
              "\n",
              "/* Toggleable style: style used for estimator/Pipeline/ColumnTransformer box that is\n",
              "clickable and can be expanded/collapsed.\n",
              "- Pipeline and ColumnTransformer use this feature and define the default style\n",
              "- Estimators will overwrite some part of the style using the `sk-estimator` class\n",
              "*/\n",
              "\n",
              "/* Pipeline and ColumnTransformer style (default) */\n",
              "\n",
              "#sk-container-id-1 div.sk-toggleable {\n",
              "  /* Default theme specific background. It is overwritten whether we have a\n",
              "  specific estimator or a Pipeline/ColumnTransformer */\n",
              "  background-color: var(--sklearn-color-background);\n",
              "}\n",
              "\n",
              "/* Toggleable label */\n",
              "#sk-container-id-1 label.sk-toggleable__label {\n",
              "  cursor: pointer;\n",
              "  display: block;\n",
              "  width: 100%;\n",
              "  margin-bottom: 0;\n",
              "  padding: 0.5em;\n",
              "  box-sizing: border-box;\n",
              "  text-align: center;\n",
              "}\n",
              "\n",
              "#sk-container-id-1 label.sk-toggleable__label-arrow:before {\n",
              "  /* Arrow on the left of the label */\n",
              "  content: \"▸\";\n",
              "  float: left;\n",
              "  margin-right: 0.25em;\n",
              "  color: var(--sklearn-color-icon);\n",
              "}\n",
              "\n",
              "#sk-container-id-1 label.sk-toggleable__label-arrow:hover:before {\n",
              "  color: var(--sklearn-color-text);\n",
              "}\n",
              "\n",
              "/* Toggleable content - dropdown */\n",
              "\n",
              "#sk-container-id-1 div.sk-toggleable__content {\n",
              "  max-height: 0;\n",
              "  max-width: 0;\n",
              "  overflow: hidden;\n",
              "  text-align: left;\n",
              "  /* unfitted */\n",
              "  background-color: var(--sklearn-color-unfitted-level-0);\n",
              "}\n",
              "\n",
              "#sk-container-id-1 div.sk-toggleable__content.fitted {\n",
              "  /* fitted */\n",
              "  background-color: var(--sklearn-color-fitted-level-0);\n",
              "}\n",
              "\n",
              "#sk-container-id-1 div.sk-toggleable__content pre {\n",
              "  margin: 0.2em;\n",
              "  border-radius: 0.25em;\n",
              "  color: var(--sklearn-color-text);\n",
              "  /* unfitted */\n",
              "  background-color: var(--sklearn-color-unfitted-level-0);\n",
              "}\n",
              "\n",
              "#sk-container-id-1 div.sk-toggleable__content.fitted pre {\n",
              "  /* unfitted */\n",
              "  background-color: var(--sklearn-color-fitted-level-0);\n",
              "}\n",
              "\n",
              "#sk-container-id-1 input.sk-toggleable__control:checked~div.sk-toggleable__content {\n",
              "  /* Expand drop-down */\n",
              "  max-height: 200px;\n",
              "  max-width: 100%;\n",
              "  overflow: auto;\n",
              "}\n",
              "\n",
              "#sk-container-id-1 input.sk-toggleable__control:checked~label.sk-toggleable__label-arrow:before {\n",
              "  content: \"▾\";\n",
              "}\n",
              "\n",
              "/* Pipeline/ColumnTransformer-specific style */\n",
              "\n",
              "#sk-container-id-1 div.sk-label input.sk-toggleable__control:checked~label.sk-toggleable__label {\n",
              "  color: var(--sklearn-color-text);\n",
              "  background-color: var(--sklearn-color-unfitted-level-2);\n",
              "}\n",
              "\n",
              "#sk-container-id-1 div.sk-label.fitted input.sk-toggleable__control:checked~label.sk-toggleable__label {\n",
              "  background-color: var(--sklearn-color-fitted-level-2);\n",
              "}\n",
              "\n",
              "/* Estimator-specific style */\n",
              "\n",
              "/* Colorize estimator box */\n",
              "#sk-container-id-1 div.sk-estimator input.sk-toggleable__control:checked~label.sk-toggleable__label {\n",
              "  /* unfitted */\n",
              "  background-color: var(--sklearn-color-unfitted-level-2);\n",
              "}\n",
              "\n",
              "#sk-container-id-1 div.sk-estimator.fitted input.sk-toggleable__control:checked~label.sk-toggleable__label {\n",
              "  /* fitted */\n",
              "  background-color: var(--sklearn-color-fitted-level-2);\n",
              "}\n",
              "\n",
              "#sk-container-id-1 div.sk-label label.sk-toggleable__label,\n",
              "#sk-container-id-1 div.sk-label label {\n",
              "  /* The background is the default theme color */\n",
              "  color: var(--sklearn-color-text-on-default-background);\n",
              "}\n",
              "\n",
              "/* On hover, darken the color of the background */\n",
              "#sk-container-id-1 div.sk-label:hover label.sk-toggleable__label {\n",
              "  color: var(--sklearn-color-text);\n",
              "  background-color: var(--sklearn-color-unfitted-level-2);\n",
              "}\n",
              "\n",
              "/* Label box, darken color on hover, fitted */\n",
              "#sk-container-id-1 div.sk-label.fitted:hover label.sk-toggleable__label.fitted {\n",
              "  color: var(--sklearn-color-text);\n",
              "  background-color: var(--sklearn-color-fitted-level-2);\n",
              "}\n",
              "\n",
              "/* Estimator label */\n",
              "\n",
              "#sk-container-id-1 div.sk-label label {\n",
              "  font-family: monospace;\n",
              "  font-weight: bold;\n",
              "  display: inline-block;\n",
              "  line-height: 1.2em;\n",
              "}\n",
              "\n",
              "#sk-container-id-1 div.sk-label-container {\n",
              "  text-align: center;\n",
              "}\n",
              "\n",
              "/* Estimator-specific */\n",
              "#sk-container-id-1 div.sk-estimator {\n",
              "  font-family: monospace;\n",
              "  border: 1px dotted var(--sklearn-color-border-box);\n",
              "  border-radius: 0.25em;\n",
              "  box-sizing: border-box;\n",
              "  margin-bottom: 0.5em;\n",
              "  /* unfitted */\n",
              "  background-color: var(--sklearn-color-unfitted-level-0);\n",
              "}\n",
              "\n",
              "#sk-container-id-1 div.sk-estimator.fitted {\n",
              "  /* fitted */\n",
              "  background-color: var(--sklearn-color-fitted-level-0);\n",
              "}\n",
              "\n",
              "/* on hover */\n",
              "#sk-container-id-1 div.sk-estimator:hover {\n",
              "  /* unfitted */\n",
              "  background-color: var(--sklearn-color-unfitted-level-2);\n",
              "}\n",
              "\n",
              "#sk-container-id-1 div.sk-estimator.fitted:hover {\n",
              "  /* fitted */\n",
              "  background-color: var(--sklearn-color-fitted-level-2);\n",
              "}\n",
              "\n",
              "/* Specification for estimator info (e.g. \"i\" and \"?\") */\n",
              "\n",
              "/* Common style for \"i\" and \"?\" */\n",
              "\n",
              ".sk-estimator-doc-link,\n",
              "a:link.sk-estimator-doc-link,\n",
              "a:visited.sk-estimator-doc-link {\n",
              "  float: right;\n",
              "  font-size: smaller;\n",
              "  line-height: 1em;\n",
              "  font-family: monospace;\n",
              "  background-color: var(--sklearn-color-background);\n",
              "  border-radius: 1em;\n",
              "  height: 1em;\n",
              "  width: 1em;\n",
              "  text-decoration: none !important;\n",
              "  margin-left: 1ex;\n",
              "  /* unfitted */\n",
              "  border: var(--sklearn-color-unfitted-level-1) 1pt solid;\n",
              "  color: var(--sklearn-color-unfitted-level-1);\n",
              "}\n",
              "\n",
              ".sk-estimator-doc-link.fitted,\n",
              "a:link.sk-estimator-doc-link.fitted,\n",
              "a:visited.sk-estimator-doc-link.fitted {\n",
              "  /* fitted */\n",
              "  border: var(--sklearn-color-fitted-level-1) 1pt solid;\n",
              "  color: var(--sklearn-color-fitted-level-1);\n",
              "}\n",
              "\n",
              "/* On hover */\n",
              "div.sk-estimator:hover .sk-estimator-doc-link:hover,\n",
              ".sk-estimator-doc-link:hover,\n",
              "div.sk-label-container:hover .sk-estimator-doc-link:hover,\n",
              ".sk-estimator-doc-link:hover {\n",
              "  /* unfitted */\n",
              "  background-color: var(--sklearn-color-unfitted-level-3);\n",
              "  color: var(--sklearn-color-background);\n",
              "  text-decoration: none;\n",
              "}\n",
              "\n",
              "div.sk-estimator.fitted:hover .sk-estimator-doc-link.fitted:hover,\n",
              ".sk-estimator-doc-link.fitted:hover,\n",
              "div.sk-label-container:hover .sk-estimator-doc-link.fitted:hover,\n",
              ".sk-estimator-doc-link.fitted:hover {\n",
              "  /* fitted */\n",
              "  background-color: var(--sklearn-color-fitted-level-3);\n",
              "  color: var(--sklearn-color-background);\n",
              "  text-decoration: none;\n",
              "}\n",
              "\n",
              "/* Span, style for the box shown on hovering the info icon */\n",
              ".sk-estimator-doc-link span {\n",
              "  display: none;\n",
              "  z-index: 9999;\n",
              "  position: relative;\n",
              "  font-weight: normal;\n",
              "  right: .2ex;\n",
              "  padding: .5ex;\n",
              "  margin: .5ex;\n",
              "  width: min-content;\n",
              "  min-width: 20ex;\n",
              "  max-width: 50ex;\n",
              "  color: var(--sklearn-color-text);\n",
              "  box-shadow: 2pt 2pt 4pt #999;\n",
              "  /* unfitted */\n",
              "  background: var(--sklearn-color-unfitted-level-0);\n",
              "  border: .5pt solid var(--sklearn-color-unfitted-level-3);\n",
              "}\n",
              "\n",
              ".sk-estimator-doc-link.fitted span {\n",
              "  /* fitted */\n",
              "  background: var(--sklearn-color-fitted-level-0);\n",
              "  border: var(--sklearn-color-fitted-level-3);\n",
              "}\n",
              "\n",
              ".sk-estimator-doc-link:hover span {\n",
              "  display: block;\n",
              "}\n",
              "\n",
              "/* \"?\"-specific style due to the `<a>` HTML tag */\n",
              "\n",
              "#sk-container-id-1 a.estimator_doc_link {\n",
              "  float: right;\n",
              "  font-size: 1rem;\n",
              "  line-height: 1em;\n",
              "  font-family: monospace;\n",
              "  background-color: var(--sklearn-color-background);\n",
              "  border-radius: 1rem;\n",
              "  height: 1rem;\n",
              "  width: 1rem;\n",
              "  text-decoration: none;\n",
              "  /* unfitted */\n",
              "  color: var(--sklearn-color-unfitted-level-1);\n",
              "  border: var(--sklearn-color-unfitted-level-1) 1pt solid;\n",
              "}\n",
              "\n",
              "#sk-container-id-1 a.estimator_doc_link.fitted {\n",
              "  /* fitted */\n",
              "  border: var(--sklearn-color-fitted-level-1) 1pt solid;\n",
              "  color: var(--sklearn-color-fitted-level-1);\n",
              "}\n",
              "\n",
              "/* On hover */\n",
              "#sk-container-id-1 a.estimator_doc_link:hover {\n",
              "  /* unfitted */\n",
              "  background-color: var(--sklearn-color-unfitted-level-3);\n",
              "  color: var(--sklearn-color-background);\n",
              "  text-decoration: none;\n",
              "}\n",
              "\n",
              "#sk-container-id-1 a.estimator_doc_link.fitted:hover {\n",
              "  /* fitted */\n",
              "  background-color: var(--sklearn-color-fitted-level-3);\n",
              "}\n",
              "</style><div id=\"sk-container-id-1\" class=\"sk-top-container\"><div class=\"sk-text-repr-fallback\"><pre>RandomForestClassifier(random_state=42)</pre><b>In a Jupyter environment, please rerun this cell to show the HTML representation or trust the notebook. <br />On GitHub, the HTML representation is unable to render, please try loading this page with nbviewer.org.</b></div><div class=\"sk-container\" hidden><div class=\"sk-item\"><div class=\"sk-estimator fitted sk-toggleable\"><input class=\"sk-toggleable__control sk-hidden--visually\" id=\"sk-estimator-id-1\" type=\"checkbox\" checked><label for=\"sk-estimator-id-1\" class=\"sk-toggleable__label fitted sk-toggleable__label-arrow fitted\">&nbsp;&nbsp;RandomForestClassifier<a class=\"sk-estimator-doc-link fitted\" rel=\"noreferrer\" target=\"_blank\" href=\"https://scikit-learn.org/1.5/modules/generated/sklearn.ensemble.RandomForestClassifier.html\">?<span>Documentation for RandomForestClassifier</span></a><span class=\"sk-estimator-doc-link fitted\">i<span>Fitted</span></span></label><div class=\"sk-toggleable__content fitted\"><pre>RandomForestClassifier(random_state=42)</pre></div> </div></div></div></div>"
            ]
          },
          "metadata": {},
          "execution_count": 15
        }
      ],
      "source": [
        "rf_model = RandomForestClassifier(n_estimators=100, random_state=42)\n",
        "\n",
        "#train the model\n",
        "rf_model.fit(X_train, y_train)"
      ]
    },
    {
      "cell_type": "markdown",
      "id": "9de07091",
      "metadata": {
        "id": "9de07091"
      },
      "source": [
        "Predicting on the test set"
      ]
    },
    {
      "cell_type": "code",
      "execution_count": 16,
      "id": "63d5a2c0",
      "metadata": {
        "id": "63d5a2c0"
      },
      "outputs": [],
      "source": [
        "y_pred = rf_model.predict(X_test)"
      ]
    },
    {
      "cell_type": "markdown",
      "id": "2429d190",
      "metadata": {
        "id": "2429d190"
      },
      "source": [
        "Evaluating the performance"
      ]
    },
    {
      "cell_type": "code",
      "execution_count": 17,
      "id": "91e3e15a",
      "metadata": {
        "colab": {
          "base_uri": "https://localhost:8080/"
        },
        "id": "91e3e15a",
        "outputId": "f0f00ca8-d7e7-4b43-c9cd-2be7ca53f390"
      },
      "outputs": [
        {
          "output_type": "stream",
          "name": "stdout",
          "text": [
            "Random Forest Classifier Performance:\n",
            "              precision    recall  f1-score   support\n",
            "\n",
            "         0.0       1.00      1.00      1.00       158\n",
            "         1.0       1.00      1.00      1.00       142\n",
            "\n",
            "    accuracy                           1.00       300\n",
            "   macro avg       1.00      1.00      1.00       300\n",
            "weighted avg       1.00      1.00      1.00       300\n",
            "\n"
          ]
        }
      ],
      "source": [
        "print(\"Random Forest Classifier Performance:\")\n",
        "print(classification_report(y_test, y_pred))\n",
        "# print(confusion_matrix(y_test, y_pred))"
      ]
    },
    {
      "cell_type": "markdown",
      "id": "de031d8b",
      "metadata": {
        "id": "de031d8b"
      },
      "source": [
        "Plot confusion matrix"
      ]
    },
    {
      "cell_type": "code",
      "execution_count": 18,
      "id": "d80f45cc",
      "metadata": {
        "colab": {
          "base_uri": "https://localhost:8080/",
          "height": 477
        },
        "id": "d80f45cc",
        "outputId": "7dea2ff8-d08a-45ea-e744-d890ceeafaf3"
      },
      "outputs": [
        {
          "output_type": "display_data",
          "data": {
            "text/plain": [
              "<Figure size 640x480 with 2 Axes>"
            ],
            "image/png": "[encoded data removed]"
          },
          "metadata": {}
        }
      ],
      "source": [
        "import seaborn as sns\n",
        "cm = confusion_matrix(y_test, y_pred)\n",
        "sns.heatmap(cm, annot=True, fmt='d', cmap='Blues', xticklabels=['Non-Pulsar', 'Pulsar'], yticklabels=['Non-Pulsar', 'Pulsar'])\n",
        "plt.title('Confusion Matrix - Random Forest')\n",
        "plt.gca().xaxis.set_label_position('top')\n",
        "plt.xlabel('Predicted')\n",
        "plt.gca().xaxis.tick_top()\n",
        "plt.ylabel('True')\n",
        "plt.show()"
      ]
    },
    {
      "cell_type": "markdown",
      "id": "8c68ac47",
      "metadata": {
        "id": "8c68ac47"
      },
      "source": [
        "### Building a simple neural network for classification"
      ]
    },
    {
      "cell_type": "code",
      "execution_count": 19,
      "id": "83f19483",
      "metadata": {
        "colab": {
          "base_uri": "https://localhost:8080/"
        },
        "id": "83f19483",
        "outputId": "174a76e5-7d43-45c0-ae8d-67840df90c11"
      },
      "outputs": [
        {
          "output_type": "stream",
          "name": "stderr",
          "text": [
            "/usr/local/lib/python3.10/dist-packages/keras/src/layers/core/dense.py:87: UserWarning: Do not pass an `input_shape`/`input_dim` argument to a layer. When using Sequential models, prefer using an `Input(shape)` object as the first layer in the model instead.\n",
            "  super().__init__(activity_regularizer=activity_regularizer, **kwargs)\n"
          ]
        }
      ],
      "source": [
        "model = Sequential() # linear stack of layers for building a NN\n",
        "model.add(Dense(64, input_dim=3, activation='relu'))  # First hidden layer with 64 neurons\n",
        "model.add(Dropout(0.5))  # Dropout to prevent overfitting\n",
        "model.add(Dense(32, activation='relu'))  # Second hidden layer\n",
        "model.add(Dense(1, activation='sigmoid'))  # Output layer (sigmoid for binary classification)"
      ]
    },
    {
      "cell_type": "markdown",
      "id": "88417e58",
      "metadata": {
        "id": "88417e58"
      },
      "source": [
        "Compile the model"
      ]
    },
    {
      "cell_type": "code",
      "execution_count": 20,
      "id": "15bbeb1e",
      "metadata": {
        "id": "15bbeb1e"
      },
      "outputs": [],
      "source": [
        "#Adam() optimizer is used for its adaptive learning rate properties\n",
        "# Configure the model for training\n",
        "model.compile(optimizer=Adam(), loss='binary_crossentropy', metrics=['accuracy'])"
      ]
    },
    {
      "cell_type": "markdown",
      "id": "9e8b9cf4",
      "metadata": {
        "id": "9e8b9cf4"
      },
      "source": [
        "Train the model"
      ]
    },
    {
      "cell_type": "code",
      "execution_count": 21,
      "id": "4ce1349f",
      "metadata": {
        "scrolled": true,
        "colab": {
          "base_uri": "https://localhost:8080/"
        },
        "id": "4ce1349f",
        "outputId": "0efc6aa2-0f41-4a7d-de87-5cacde742902"
      },
      "outputs": [
        {
          "output_type": "stream",
          "name": "stdout",
          "text": [
            "Epoch 1/20\n",
            "\u001b[1m22/22\u001b[0m \u001b[32m━━━━━━━━━━━━━━━━━━━━\u001b[0m\u001b[37m\u001b[0m \u001b[1m2s\u001b[0m 11ms/step - accuracy: 0.4950 - loss: 0.8131 - val_accuracy: 0.5267 - val_loss: 0.6148\n",
            "Epoch 2/20\n",
            "\u001b[1m22/22\u001b[0m \u001b[32m━━━━━━━━━━━━━━━━━━━━\u001b[0m\u001b[37m\u001b[0m \u001b[1m0s\u001b[0m 4ms/step - accuracy: 0.4929 - loss: 0.6392 - val_accuracy: 0.5267 - val_loss: 0.5744\n",
            "Epoch 3/20\n",
            "\u001b[1m22/22\u001b[0m \u001b[32m━━━━━━━━━━━━━━━━━━━━\u001b[0m\u001b[37m\u001b[0m \u001b[1m0s\u001b[0m 4ms/step - accuracy: 0.4976 - loss: 0.6194 - val_accuracy: 0.5267 - val_loss: 0.5428\n",
            "Epoch 4/20\n",
            "\u001b[1m22/22\u001b[0m \u001b[32m━━━━━━━━━━━━━━━━━━━━\u001b[0m\u001b[37m\u001b[0m \u001b[1m0s\u001b[0m 3ms/step - accuracy: 0.5592 - loss: 0.5677 - val_accuracy: 0.5267 - val_loss: 0.5037\n",
            "Epoch 5/20\n",
            "\u001b[1m22/22\u001b[0m \u001b[32m━━━━━━━━━━━━━━━━━━━━\u001b[0m\u001b[37m\u001b[0m \u001b[1m0s\u001b[0m 3ms/step - accuracy: 0.6171 - loss: 0.5346 - val_accuracy: 1.0000 - val_loss: 0.4410\n",
            "Epoch 6/20\n",
            "\u001b[1m22/22\u001b[0m \u001b[32m━━━━━━━━━━━━━━━━━━━━\u001b[0m\u001b[37m\u001b[0m \u001b[1m0s\u001b[0m 4ms/step - accuracy: 0.7637 - loss: 0.4784 - val_accuracy: 1.0000 - val_loss: 0.3668\n",
            "Epoch 7/20\n",
            "\u001b[1m22/22\u001b[0m \u001b[32m━━━━━━━━━━━━━━━━━━━━\u001b[0m\u001b[37m\u001b[0m \u001b[1m0s\u001b[0m 3ms/step - accuracy: 0.9134 - loss: 0.4251 - val_accuracy: 1.0000 - val_loss: 0.2827\n",
            "Epoch 8/20\n",
            "\u001b[1m22/22\u001b[0m \u001b[32m━━━━━━━━━━━━━━━━━━━━\u001b[0m\u001b[37m\u001b[0m \u001b[1m0s\u001b[0m 3ms/step - accuracy: 0.9552 - loss: 0.3425 - val_accuracy: 1.0000 - val_loss: 0.2110\n",
            "Epoch 9/20\n",
            "\u001b[1m22/22\u001b[0m \u001b[32m━━━━━━━━━━━━━━━━━━━━\u001b[0m\u001b[37m\u001b[0m \u001b[1m0s\u001b[0m 3ms/step - accuracy: 0.9822 - loss: 0.2795 - val_accuracy: 1.0000 - val_loss: 0.1525\n",
            "Epoch 10/20\n",
            "\u001b[1m22/22\u001b[0m \u001b[32m━━━━━━━━━━━━━━━━━━━━\u001b[0m\u001b[37m\u001b[0m \u001b[1m0s\u001b[0m 3ms/step - accuracy: 0.9948 - loss: 0.1974 - val_accuracy: 1.0000 - val_loss: 0.1101\n",
            "Epoch 11/20\n",
            "\u001b[1m22/22\u001b[0m \u001b[32m━━━━━━━━━━━━━━━━━━━━\u001b[0m\u001b[37m\u001b[0m \u001b[1m0s\u001b[0m 5ms/step - accuracy: 0.9913 - loss: 0.1476 - val_accuracy: 1.0000 - val_loss: 0.0763\n",
            "Epoch 12/20\n",
            "\u001b[1m22/22\u001b[0m \u001b[32m━━━━━━━━━━━━━━━━━━━━\u001b[0m\u001b[37m\u001b[0m \u001b[1m0s\u001b[0m 3ms/step - accuracy: 0.9978 - loss: 0.1146 - val_accuracy: 1.0000 - val_loss: 0.0532\n",
            "Epoch 13/20\n",
            "\u001b[1m22/22\u001b[0m \u001b[32m━━━━━━━━━━━━━━━━━━━━\u001b[0m\u001b[37m\u001b[0m \u001b[1m0s\u001b[0m 4ms/step - accuracy: 0.9955 - loss: 0.0807 - val_accuracy: 1.0000 - val_loss: 0.0393\n",
            "Epoch 14/20\n",
            "\u001b[1m22/22\u001b[0m \u001b[32m━━━━━━━━━━━━━━━━━━━━\u001b[0m\u001b[37m\u001b[0m \u001b[1m0s\u001b[0m 4ms/step - accuracy: 1.0000 - loss: 0.0694 - val_accuracy: 1.0000 - val_loss: 0.0285\n",
            "Epoch 15/20\n",
            "\u001b[1m22/22\u001b[0m \u001b[32m━━━━━━━━━━━━━━━━━━━━\u001b[0m\u001b[37m\u001b[0m \u001b[1m0s\u001b[0m 4ms/step - accuracy: 0.9988 - loss: 0.0512 - val_accuracy: 1.0000 - val_loss: 0.0211\n",
            "Epoch 16/20\n",
            "\u001b[1m22/22\u001b[0m \u001b[32m━━━━━━━━━━━━━━━━━━━━\u001b[0m\u001b[37m\u001b[0m \u001b[1m0s\u001b[0m 3ms/step - accuracy: 0.9983 - loss: 0.0434 - val_accuracy: 1.0000 - val_loss: 0.0169\n",
            "Epoch 17/20\n",
            "\u001b[1m22/22\u001b[0m \u001b[32m━━━━━━━━━━━━━━━━━━━━\u001b[0m\u001b[37m\u001b[0m \u001b[1m0s\u001b[0m 3ms/step - accuracy: 1.0000 - loss: 0.0375 - val_accuracy: 1.0000 - val_loss: 0.0130\n",
            "Epoch 18/20\n",
            "\u001b[1m22/22\u001b[0m \u001b[32m━━━━━━━━━━━━━━━━━━━━\u001b[0m\u001b[37m\u001b[0m \u001b[1m0s\u001b[0m 3ms/step - accuracy: 1.0000 - loss: 0.0291 - val_accuracy: 1.0000 - val_loss: 0.0106\n",
            "Epoch 19/20\n",
            "\u001b[1m22/22\u001b[0m \u001b[32m━━━━━━━━━━━━━━━━━━━━\u001b[0m\u001b[37m\u001b[0m \u001b[1m0s\u001b[0m 5ms/step - accuracy: 0.9987 - loss: 0.0242 - val_accuracy: 1.0000 - val_loss: 0.0091\n",
            "Epoch 20/20\n",
            "\u001b[1m22/22\u001b[0m \u001b[32m━━━━━━━━━━━━━━━━━━━━\u001b[0m\u001b[37m\u001b[0m \u001b[1m0s\u001b[0m 4ms/step - accuracy: 1.0000 - loss: 0.0201 - val_accuracy: 1.0000 - val_loss: 0.0075\n"
          ]
        }
      ],
      "source": [
        "# Goes through the entire data set 20 times\n",
        "history = model.fit(X_train, y_train,\n",
        "                    epochs=20, batch_size=32,\n",
        "                    validation_data=(X_test, y_test))"
      ]
    },
    {
      "cell_type": "markdown",
      "id": "a7ab2c4e",
      "metadata": {
        "id": "a7ab2c4e"
      },
      "source": [
        "Evaluate the model"
      ]
    },
    {
      "cell_type": "code",
      "execution_count": 22,
      "id": "ea98414a",
      "metadata": {
        "colab": {
          "base_uri": "https://localhost:8080/"
        },
        "id": "ea98414a",
        "outputId": "b7123b81-1bce-429b-cf0c-c7eaecc8cea5"
      },
      "outputs": [
        {
          "output_type": "stream",
          "name": "stdout",
          "text": [
            "Deep Learning Model Performance:\n",
            "\u001b[1m10/10\u001b[0m \u001b[32m━━━━━━━━━━━━━━━━━━━━\u001b[0m\u001b[37m\u001b[0m \u001b[1m0s\u001b[0m 2ms/step - accuracy: 1.0000 - loss: 0.0073 \n",
            "Loss: 0.0075, Accuracy: 1.0000\n"
          ]
        }
      ],
      "source": [
        "print(\"Deep Learning Model Performance:\")\n",
        "loss, accuracy = model.evaluate(X_test, y_test)\n",
        "print(f'Loss: {loss:.4f}, Accuracy: {accuracy:.4f}')"
      ]
    },
    {
      "cell_type": "markdown",
      "id": "112b3d8b",
      "metadata": {
        "id": "112b3d8b"
      },
      "source": [
        "### Plot training and validation accuracy over epochs"
      ]
    },
    {
      "cell_type": "code",
      "execution_count": 23,
      "id": "8f5b1597",
      "metadata": {
        "colab": {
          "base_uri": "https://localhost:8080/",
          "height": 472
        },
        "id": "8f5b1597",
        "outputId": "133024ac-0c55-424d-d429-bba41a1dab7c"
      },
      "outputs": [
        {
          "output_type": "display_data",
          "data": {
            "text/plain": [
              "<Figure size 640x480 with 1 Axes>"
            ],
            "image/png": "[encoded data removed]"
          },
          "metadata": {}
        }
      ],
      "source": [
        "plt.plot(history.history['accuracy'], label='Train Accuracy')\n",
        "plt.plot(history.history['val_accuracy'], label='Validation Accuracy')\n",
        "plt.title('Model Accuracy')\n",
        "plt.xlabel('Epochs')\n",
        "plt.ylabel('Accuracy')\n",
        "plt.legend()\n",
        "plt.show()"
      ]
    },
    {
      "cell_type": "markdown",
      "id": "e1b7f072",
      "metadata": {
        "id": "e1b7f072"
      },
      "source": [
        "Plotting some example pulsar and non-pulsar signals"
      ]
    },
    {
      "cell_type": "code",
      "execution_count": 24,
      "id": "76b5a720",
      "metadata": {
        "colab": {
          "base_uri": "https://localhost:8080/",
          "height": 507
        },
        "id": "76b5a720",
        "outputId": "0394447c-1e78-4d10-aacc-a226c5d0d73e"
      },
      "outputs": [
        {
          "output_type": "display_data",
          "data": {
            "text/plain": [
              "<Figure size 1000x500 with 2 Axes>"
            ],
            "image/png": "[encoded data removed]"
          },
          "metadata": {}
        }
      ],
      "source": [
        "plt.figure(figsize=(10, 5))\n",
        "\n",
        "# Plot a pulsar signal\n",
        "plt.subplot(1, 2, 1)\n",
        "plt.plot(pulsar_signals[3])\n",
        "plt.title('Pulsar Signal (Periodic)')\n",
        "plt.xlabel('Time')\n",
        "plt.ylabel('Amplitude')\n",
        "\n",
        "# Plot a non-pulsar signal (random noise)\n",
        "plt.subplot(1, 2, 2)\n",
        "plt.plot(non_pulsar_signals[3])\n",
        "plt.title('Non-Pulsar Signal (Noise)')\n",
        "plt.xlabel('Time')\n",
        "plt.ylabel('Amplitude')\n",
        "\n",
        "plt.tight_layout()\n",
        "plt.show()"
      ]
    },
    {
      "cell_type": "code",
      "execution_count": null,
      "id": "efee865e",
      "metadata": {
        "id": "efee865e",
        "outputId": "857c8481-f742-462c-da34-7a5d2b382663"
      },
      "outputs": [
        {
          "data": {
            "text/plain": [
              "'/home/ensci/Desktop/Lurgasho/FERMI_EUVE/Final_Analysis2/05_Nov_05_10GeV'"
            ]
          },
          "execution_count": 1,
          "metadata": {},
          "output_type": "execute_result"
        }
      ],
      "source": [
        "pwd"
      ]
    },
    {
      "cell_type": "code",
      "execution_count": null,
      "id": "cbbe6f53",
      "metadata": {
        "id": "cbbe6f53"
      },
      "outputs": [],
      "source": []
    },
    {
      "cell_type": "code",
      "execution_count": null,
      "id": "890ded9d",
      "metadata": {
        "scrolled": true,
        "id": "890ded9d"
      },
      "outputs": [],
      "source": []
    },
    {
      "cell_type": "code",
      "execution_count": null,
      "id": "fd2f18a2",
      "metadata": {
        "id": "fd2f18a2"
      },
      "outputs": [],
      "source": []
    }
  ],
  "metadata": {
    "kernelspec": {
      "display_name": "Python 3 (ipykernel)",
      "language": "python",
      "name": "python3"
    },
    "language_info": {
      "codemirror_mode": {
        "name": "ipython",
        "version": 3
      },
      "file_extension": ".py",
      "mimetype": "text/x-python",
      "name": "python",
      "nbconvert_exporter": "python",
      "pygments_lexer": "ipython3",
      "version": "3.11.3"
    },
    "colab": {
      "provenance": [],
      "include_colab_link": true
    }
  },
  "nbformat": 4,
  "nbformat_minor": 5
}