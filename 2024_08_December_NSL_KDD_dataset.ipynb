{
  "cells": [
    {
      "cell_type": "markdown",
      "metadata": {
        "id": "view-in-github",
        "colab_type": "text"
      },
      "source": [
        "<a href=\"https://colab.research.google.com/github/Leomutz/NIDS1/blob/main/2024_08_December_NSL_KDD_dataset.ipynb\" target=\"_parent\"><img src=\"https://colab.research.google.com/assets/colab-badge.svg\" alt=\"Open In Colab\"/></a>"
      ]
    },
    {
      "cell_type": "code",
      "execution_count": 1,
      "id": "f733e8eb-8c86-4a0a-8783-f8928f068d33",
      "metadata": {
        "id": "f733e8eb-8c86-4a0a-8783-f8928f068d33"
      },
      "outputs": [],
      "source": [
        "import numpy as np\n",
        "import pandas as pd\n",
        "import matplotlib.pyplot as plt\n",
        "import seaborn as sns"
      ]
    },
    {
      "cell_type": "code",
      "execution_count": 2,
      "id": "3f118451-4971-4950-a5cb-ed722cbd898f",
      "metadata": {
        "id": "3f118451-4971-4950-a5cb-ed722cbd898f"
      },
      "outputs": [],
      "source": [
        "#! pip install tab2img\n",
        "#!pip install tensorflow==2.12.0\n",
        "\n",
        "#!pip install prettytable\n",
        "#!pip install tensorrt"
      ]
    },
    {
      "cell_type": "code",
      "execution_count": 3,
      "id": "95a4ee12-e3da-427f-b792-c980525bab43",
      "metadata": {
        "id": "95a4ee12-e3da-427f-b792-c980525bab43"
      },
      "outputs": [],
      "source": [
        "import keras\n",
        "from keras.models import Sequential\n",
        "from keras.layers import Dense, Dropout\n",
        "from keras.layers import Conv1D, MaxPool1D, Flatten\n",
        "from keras.layers import Conv2D, MaxPool2D\n",
        "from keras.layers import BatchNormalization\n",
        "from tensorflow.keras.callbacks import EarlyStopping\n",
        "from sklearn.model_selection import train_test_split\n",
        "from sklearn.metrics import confusion_matrix, ConfusionMatrixDisplay\n",
        "from sklearn.metrics import classification_report\n",
        "from sklearn.preprocessing import LabelBinarizer, MinMaxScaler\n",
        "from tab2img.converter import Tab2Img\n",
        "from sklearn.preprocessing import OneHotEncoder\n",
        "from sklearn.model_selection import cross_validate\n",
        "from sklearn.model_selection import GridSearchCV\n",
        "from sklearn.model_selection import RandomizedSearchCV\n",
        "from tensorflow.keras.wrappers.scikit_learn import KerasClassifier\n",
        "from prettytable import PrettyTable\n",
        "from scipy.stats import loguniform, randint, uniform\n",
        "from pprint import pprint\n",
        "\n",
        "from keras.regularizers import l2\n",
        "#keras.utils.set_random_seed(812)\n",
        "\n",
        "from sklearn.model_selection import KFold"
      ]
    },
    {
      "cell_type": "code",
      "execution_count": 5,
      "id": "245c90e1-1b28-4786-8120-7b0118b75568",
      "metadata": {
        "id": "245c90e1-1b28-4786-8120-7b0118b75568"
      },
      "outputs": [],
      "source": [
        "# load the dataset\n",
        "df_train = pd.read_csv('KDDTrain+.txt', header=None)\n",
        "df_test = pd.read_csv('KDDTest+.txt', header=None)\n",
        "#df_train20 = pd.read_csv('KDDTrain+_20Percent.txt', header=None)"
      ]
    },
    {
      "cell_type": "code",
      "execution_count": 6,
      "id": "adc3529f-fd01-4ec3-9d15-8cabfbd831a8",
      "metadata": {
        "colab": {
          "base_uri": "https://localhost:8080/"
        },
        "id": "adc3529f-fd01-4ec3-9d15-8cabfbd831a8",
        "outputId": "e13b41ac-8085-421f-b490-c4025d0f8c2a"
      },
      "outputs": [
        {
          "output_type": "stream",
          "name": "stdout",
          "text": [
            "(125973, 43) (22544, 43)\n"
          ]
        }
      ],
      "source": [
        "# check the shape of the dataset\n",
        "print(df_train.shape, df_test.shape)"
      ]
    },
    {
      "cell_type": "code",
      "execution_count": 7,
      "id": "c421ff14-3419-4608-b01a-9cb30a1c8ad5",
      "metadata": {
        "id": "c421ff14-3419-4608-b01a-9cb30a1c8ad5"
      },
      "outputs": [],
      "source": [
        "# add columns in the train dataset\n",
        "df_train.columns = ['duration','protocol_type','service','flag','src_bytes','dst_byte','land','wrong_fragment',\n",
        "                    'urgent','hot','num_failed_logins','logged_in','num_compromised','root_shell','su_attempted',\n",
        "                    'num_root','num_file_creations','num_shells','num_access_files','num_outbound_cmds','is_host_logins',\n",
        "                    'is_guest_login','count','srv_count','serror_rate','srv_serror_rate','rerror_rate','srv_rerror_rate','same_srv_rate','diff_srv_rate',\n",
        "                    'srv_diff_host_rate','dst_host_count','dst_host_srv_count','dst_host_same_srv_rate','dst_host_diff_srv_rate',\n",
        "            'dst_host_same_srv_port_rate','dst_host_srv_diff_host_rate','dst_host_serror_rate','dst_host_srv_serror_rate',\n",
        "        'dst_host_rerror_rate','dst_host_srv_rerror_rate','class','difficulty_level']\n",
        "\n",
        "# add columns in the test dataset\n",
        "df_test.columns = ['duration','protocol_type','service','flag','src_bytes','dst_byte','land','wrong_fragment',\n",
        "                    'urgent','hot','num_failed_logins','logged_in','num_compromised','root_shell','su_attempted',\n",
        "                    'num_root','num_file_creations','num_shells','num_access_files','num_outbound_cmds','is_host_logins',\n",
        "                    'is_guest_login','count','srv_count','serror_rate','srv_serror_rate','rerror_rate','srv_rerror_rate','same_srv_rate','diff_srv_rate',\n",
        "                    'srv_diff_host_rate','dst_host_count','dst_host_srv_count','dst_host_same_srv_rate','dst_host_diff_srv_rate',\n",
        "            'dst_host_same_srv_port_rate','dst_host_srv_diff_host_rate','dst_host_serror_rate','dst_host_srv_serror_rate',\n",
        "        'dst_host_rerror_rate','dst_host_srv_rerror_rate','class','difficulty_level']"
      ]
    },
    {
      "cell_type": "code",
      "execution_count": 8,
      "id": "2ff2e6dd-4e7a-46d1-b0b7-d8154984140f",
      "metadata": {
        "colab": {
          "base_uri": "https://localhost:8080/"
        },
        "id": "2ff2e6dd-4e7a-46d1-b0b7-d8154984140f",
        "outputId": "ed908d47-7e00-428a-e79a-9457a99a42fd"
      },
      "outputs": [
        {
          "output_type": "execute_result",
          "data": {
            "text/plain": [
              "(False, False)"
            ]
          },
          "metadata": {},
          "execution_count": 8
        }
      ],
      "source": [
        "# identify the missing values\n",
        "df_train.isnull().values.any(), df_test.isnull().values.any()"
      ]
    },
    {
      "cell_type": "code",
      "execution_count": 9,
      "id": "673a2d18-0040-4588-984e-f1dbad1bb7e5",
      "metadata": {
        "colab": {
          "base_uri": "https://localhost:8080/"
        },
        "id": "673a2d18-0040-4588-984e-f1dbad1bb7e5",
        "outputId": "213bb26c-bc48-4e03-e536-4e84432443f2"
      },
      "outputs": [
        {
          "output_type": "stream",
          "name": "stdout",
          "text": [
            "Binary columns in:\n",
            " Training dataset are: 6\n",
            " Test dataset are: 6\n"
          ]
        }
      ],
      "source": [
        "#get binary columns\n",
        "binary_train = [col for col in df_train if (len(df_train[col].value_counts()) > 0) & all(df_train[col].value_counts().index.isin([0, 1]))]\n",
        "binary_test = [col for col in df_test if (len(df_test[col].value_counts()) > 0) & all(df_test[col].value_counts().index.isin([0, 1]))]\n",
        "\n",
        "print(f'Binary columns in:\\n Training dataset are: {len(binary_train)}\\n Test dataset are: {len(binary_test)}')"
      ]
    },
    {
      "cell_type": "code",
      "execution_count": 10,
      "id": "584e1098-798b-4f25-b82a-3f5dc3074949",
      "metadata": {
        "colab": {
          "base_uri": "https://localhost:8080/"
        },
        "id": "584e1098-798b-4f25-b82a-3f5dc3074949",
        "outputId": "3fd6f810-9cc2-42e3-83e7-37693c0765e1"
      },
      "outputs": [
        {
          "output_type": "stream",
          "name": "stdout",
          "text": [
            "Dicrete data 24\n",
            "Continuous data 15\n"
          ]
        }
      ],
      "source": [
        "discrete_train = df_train.select_dtypes(include=['int']).columns.tolist()\n",
        "continuous_train = df_train.select_dtypes(include=['float']).columns.tolist()\n",
        "\n",
        "print('Dicrete data', len(discrete_train))\n",
        "print('Continuous data',len(continuous_train))"
      ]
    },
    {
      "cell_type": "code",
      "execution_count": 11,
      "id": "ac5690ab-0b8f-4783-9fa3-a7f6bec0b78f",
      "metadata": {
        "colab": {
          "base_uri": "https://localhost:8080/"
        },
        "id": "ac5690ab-0b8f-4783-9fa3-a7f6bec0b78f",
        "outputId": "5feeca5f-b42e-4d42-c19e-2f83aac340af"
      },
      "outputs": [
        {
          "output_type": "stream",
          "name": "stdout",
          "text": [
            "Categorical columns in:\n",
            " Training dataset are: 4\n",
            " Test dataset are: 4\n"
          ]
        }
      ],
      "source": [
        "#get categorical columns\n",
        "cat_train = df_train.select_dtypes(include=['object']).columns.tolist()\n",
        "cat_test = df_test.select_dtypes(include=['object']).columns.tolist()\n",
        "print(f'Categorical columns in:\\n Training dataset are: {len(cat_train)}\\n Test dataset are: {len(cat_test)}')"
      ]
    },
    {
      "cell_type": "code",
      "execution_count": 12,
      "id": "9d71e252-1f53-4ae0-a24b-6c7c414e5c32",
      "metadata": {
        "colab": {
          "base_uri": "https://localhost:8080/"
        },
        "id": "9d71e252-1f53-4ae0-a24b-6c7c414e5c32",
        "outputId": "f60246a8-0510-45c2-abc3-da73efecbd58"
      },
      "outputs": [
        {
          "output_type": "execute_result",
          "data": {
            "text/plain": [
              "['protocol_type', 'service', 'flag', 'class']"
            ]
          },
          "metadata": {},
          "execution_count": 12
        }
      ],
      "source": [
        "# categorical columns\n",
        "cat_train"
      ]
    },
    {
      "cell_type": "code",
      "execution_count": 13,
      "id": "45109c78-be98-450a-95b0-b8b526851a62",
      "metadata": {
        "id": "45109c78-be98-450a-95b0-b8b526851a62"
      },
      "outputs": [],
      "source": [
        "oh= OneHotEncoder(sparse_output=False).set_output(transform=\"pandas\")\n",
        "# train dataset\n",
        "one_hot_encoded_train=oh.fit_transform(df_train[['protocol_type', 'service', 'flag']])\n",
        "df_train_ohe = pd.concat([df_train,one_hot_encoded_train],axis=1).drop(columns=['protocol_type', 'service', 'flag'])\n",
        "# test dataset only Transform (without fit)\n",
        "one_hot_encoded_test=oh.transform(df_test[['protocol_type', 'service', 'flag']])\n",
        "df_test_ohe = pd.concat([df_test,one_hot_encoded_test],axis=1).drop(columns=['protocol_type', 'service', 'flag'])"
      ]
    },
    {
      "cell_type": "code",
      "execution_count": 14,
      "id": "1ae5a6ce-c69b-44c2-bdd9-59ecb3b0bf22",
      "metadata": {
        "colab": {
          "base_uri": "https://localhost:8080/"
        },
        "id": "1ae5a6ce-c69b-44c2-bdd9-59ecb3b0bf22",
        "outputId": "7d791385-1d88-4638-b9e7-fbcbcab017a9"
      },
      "outputs": [
        {
          "output_type": "execute_result",
          "data": {
            "text/plain": [
              "((125973, 124), (22544, 124))"
            ]
          },
          "metadata": {},
          "execution_count": 14
        }
      ],
      "source": [
        "df_train_ohe.shape, df_test_ohe.shape"
      ]
    },
    {
      "cell_type": "code",
      "execution_count": 15,
      "id": "857cd8e3-5d9d-4454-99e8-775124f90cbe",
      "metadata": {
        "colab": {
          "base_uri": "https://localhost:8080/"
        },
        "id": "857cd8e3-5d9d-4454-99e8-775124f90cbe",
        "outputId": "cde3274a-4153-4be7-d5fc-e63fd9779332"
      },
      "outputs": [
        {
          "output_type": "stream",
          "name": "stdout",
          "text": [
            "True\n"
          ]
        }
      ],
      "source": [
        "# verify the columns in train and test sets are the same\n",
        "print(all(x == y for x, y in zip(df_test_ohe.columns, df_train_ohe.columns)))  # Output: True"
      ]
    },
    {
      "cell_type": "code",
      "execution_count": 16,
      "id": "d8302381-08a4-4d3c-9b07-b601760b439e",
      "metadata": {
        "colab": {
          "base_uri": "https://localhost:8080/"
        },
        "id": "d8302381-08a4-4d3c-9b07-b601760b439e",
        "outputId": "9f9588c0-0e8b-4e59-a56a-78a2697da0ce"
      },
      "outputs": [
        {
          "output_type": "execute_result",
          "data": {
            "text/plain": [
              "((125973, 124), (22544, 124))"
            ]
          },
          "metadata": {},
          "execution_count": 16
        }
      ],
      "source": [
        "#copy data from the original\n",
        "df_data_train = df_train_ohe.copy()\n",
        "df_data_test = df_test_ohe.copy()\n",
        "df_data_train.shape, df_data_test.shape"
      ]
    },
    {
      "cell_type": "code",
      "execution_count": 17,
      "id": "07816882-e61a-4365-bbb2-1be7b89e8215",
      "metadata": {
        "colab": {
          "base_uri": "https://localhost:8080/"
        },
        "id": "07816882-e61a-4365-bbb2-1be7b89e8215",
        "outputId": "c55c44f6-f48c-4933-ac10-d61e1123483b"
      },
      "outputs": [
        {
          "output_type": "execute_result",
          "data": {
            "text/plain": [
              "array(['normal', 'neptune', 'warezclient', 'ipsweep', 'portsweep',\n",
              "       'teardrop', 'nmap', 'satan', 'smurf', 'pod', 'back',\n",
              "       'guess_passwd', 'ftp_write', 'multihop', 'rootkit',\n",
              "       'buffer_overflow', 'imap', 'warezmaster', 'phf', 'land',\n",
              "       'loadmodule', 'spy', 'perl'], dtype=object)"
            ]
          },
          "metadata": {},
          "execution_count": 17
        }
      ],
      "source": [
        "df_data_train['class'].unique()"
      ]
    },
    {
      "cell_type": "code",
      "execution_count": 18,
      "id": "d60502a8-98d7-49de-b30f-85e4dbabe804",
      "metadata": {
        "colab": {
          "base_uri": "https://localhost:8080/"
        },
        "id": "d60502a8-98d7-49de-b30f-85e4dbabe804",
        "outputId": "d531237b-db1e-4825-cf27-ee1842d0c121"
      },
      "outputs": [
        {
          "output_type": "stream",
          "name": "stdout",
          "text": [
            "Number of attacks in groups (Training dataset):\n",
            "\n",
            "DoS:45927, Probe:11656, U2R:52, R2L:995, Normal:67343\n"
          ]
        }
      ],
      "source": [
        "#fixing labels on the training column 'class'\n",
        "classlist_train = []\n",
        "#attack1 = (\"apache2\",\"back\",\"land\",\"neptune\",\"mailbomb\",\"pod\",\"processtable\",\"smurf\",\"teardrop\",\"udpstorm\",\"worm\")\n",
        "attack1 = ('back', 'land', 'neptune', 'pod', 'smurf', 'teardrop')\n",
        "#attack2 = (\"ipsweep\",\"mscan\",\"nmap\",\"portsweep\",\"saint\",\"satan\")\n",
        "attack2 = ('ipsweep', 'nmap', 'portsweep', 'satan')\n",
        "#attack3 = (\"buffer_overflow\",\"loadmodule\",\"perl\",\"ps\",\"rootkit\",\"sqlattack\",\"xterm\")\n",
        "attack3 = ('buffer_overflow', 'loadmodule', 'perl', 'rootkit')\n",
        "#attack4 = (\"ftp_write\",\"guess_passwd\",\"httptunnel\",\"imap\",\"multihop\",\"named\",\"phf\",\"sendmail\",\"Snmpgetattack\",\"spy\",\"snmpguess\",\"warezclient\",\"warezmaster\",\"xlock\",\"xsnoop\")\n",
        "attack4 = ('ftp_write', 'guess_passwd', 'imap', 'multihop', 'phf', 'spy', 'warezclient', 'warezmaster')\n",
        "\n",
        "\n",
        "# initialize the count of each attack category\n",
        "DoS = 0;Probe = 0;U2R = 0;R2L = 0;Normal = 0\n",
        "\n",
        "for i in df_data_train['class']:\n",
        "  if i in attack1:\n",
        "    classlist_train.append('DoS')\n",
        "    DoS += 1\n",
        "  elif i in attack2:\n",
        "    classlist_train.append('Probe')\n",
        "    Probe += 1\n",
        "  elif i in attack3:\n",
        "    classlist_train.append('U2R')\n",
        "    U2R += 1\n",
        "  elif i in attack4:\n",
        "    classlist_train.append('R2L')\n",
        "    R2L += 1\n",
        "  else:\n",
        "    classlist_train.append('Normal')\n",
        "    Normal += 1\n",
        "print('Number of attacks in groups (Training dataset):\\n')\n",
        "print('DoS:{}, Probe:{}, U2R:{}, R2L:{}, Normal:{}'.format(DoS, Probe, U2R, R2L, Normal))"
      ]
    },
    {
      "cell_type": "code",
      "execution_count": 19,
      "id": "dc869d88-812a-4593-b75b-143b2a24a3c6",
      "metadata": {
        "colab": {
          "base_uri": "https://localhost:8080/"
        },
        "id": "dc869d88-812a-4593-b75b-143b2a24a3c6",
        "outputId": "d943112d-1d47-44da-ef79-13658efb00cc"
      },
      "outputs": [
        {
          "output_type": "execute_result",
          "data": {
            "text/plain": [
              "array(['neptune', 'normal', 'saint', 'mscan', 'guess_passwd', 'smurf',\n",
              "       'apache2', 'satan', 'buffer_overflow', 'back', 'warezmaster',\n",
              "       'snmpgetattack', 'processtable', 'pod', 'httptunnel', 'nmap', 'ps',\n",
              "       'snmpguess', 'ipsweep', 'mailbomb', 'portsweep', 'multihop',\n",
              "       'named', 'sendmail', 'loadmodule', 'xterm', 'worm', 'teardrop',\n",
              "       'rootkit', 'xlock', 'perl', 'land', 'xsnoop', 'sqlattack',\n",
              "       'ftp_write', 'imap', 'udpstorm', 'phf'], dtype=object)"
            ]
          },
          "metadata": {},
          "execution_count": 19
        }
      ],
      "source": [
        "df_data_test['class'].unique()"
      ]
    },
    {
      "cell_type": "code",
      "execution_count": 20,
      "id": "73160279-40e4-4a68-b42d-e220a3d2edb1",
      "metadata": {
        "colab": {
          "base_uri": "https://localhost:8080/"
        },
        "id": "73160279-40e4-4a68-b42d-e220a3d2edb1",
        "outputId": "d918568e-c705-434f-c552-22a97b8a5980"
      },
      "outputs": [
        {
          "output_type": "stream",
          "name": "stdout",
          "text": [
            "Number of attacks in groups (Test dataset):\n",
            "\n",
            "DoS:7458, Probe:2421, U2R:200, R2L:2754, Normal:9711\n"
          ]
        }
      ],
      "source": [
        "#fixing labels on the testing column 'class'\n",
        "\n",
        "classlist_test = []\n",
        "\n",
        "#attack1 = ('apache2','arppoison','back','crashiis','desnuke','land','mailbomb','neptune','pod','processtable','selfping','smurf','syslogd','teardrop','tepreset','ucpstorm','udpstorm')\n",
        "attack1 = ('apache2','back','mailbomb','neptune','pod','processtable','smurf','teardrop','udpstorm','land')\n",
        "#attack2 = ('illegal-sniffer','ipsweep','lsdomain','mscan','msscan','nmap','ntinfoscan','portsweep','queso','saint','satan')\n",
        "attack2 = ('ipsweep','mscan','nmap','portsweep','saint','satan')\n",
        "#attack3 = (\"buffer_overflow\",\"loadmodule\",\"perl\",\"ps\",\"rootkit\",\"sqlattack\",'worm',\"xterm\")\n",
        "#attack3 = (\"buffer_overflow\",\"loadmodule\",\"perl\",\"ps\",\"rootkit\",\"sqlattack\",\"xterm\")\n",
        "attack3 = ('buffer_overflow','httptunnel','loadmodule','perl','ps','rootkit','sqlattack','xterm')\n",
        "\n",
        "#attack4 = ('ftp_write','ftpwrite','guess_passwd','guest', 'httptunnel','imap','multihop','named','ncftp','netbus','netcat','ppmacro','sendmail','spy','snmpguess','snmpgetattack','phf','warezclient','warezmaster','xlock','xsnoop')\n",
        "#attack4 = ('ftp_write','guess_passwd','httptunnel','imap','multihop','named','sendmail','snmpguess','snmpgetattack','phf','warezmaster','xlock','xsnoop')\n",
        "attack4 = ('ftp_write','guess_passwd','imap','multihop','named','sendmail','snmpguess','snmpgetattack','phf','warezmaster','xlock','xsnoop','worm')\n",
        "\n",
        "# initialize the count of each attack category\n",
        "DoS = 0;Probe = 0;U2R = 0;R2L = 0;Normal = 0\n",
        "\n",
        "for i in df_data_test['class']:\n",
        "  if i == 'normal':\n",
        "    classlist_test.append('Normal')\n",
        "    Normal += 1\n",
        "\n",
        "  elif i in attack2:\n",
        "    classlist_test.append('Probe')\n",
        "    Probe += 1\n",
        "\n",
        "  elif i in attack1:\n",
        "    classlist_test.append('DoS')\n",
        "    DoS += 1\n",
        "  elif i in attack4:\n",
        "    classlist_test.append('R2L')\n",
        "    R2L += 1\n",
        "\n",
        "  elif i in attack3:\n",
        "    classlist_test.append('U2R')\n",
        "    U2R += 1\n",
        "\n",
        "\n",
        "####\n",
        "\n",
        "print('Number of attacks in groups (Test dataset):\\n')\n",
        "print('DoS:{}, Probe:{}, U2R:{}, R2L:{}, Normal:{}'.format(DoS, Probe, U2R, R2L, Normal))"
      ]
    },
    {
      "cell_type": "code",
      "execution_count": 21,
      "id": "894f91b0-73c1-4dbc-8a06-67a87cf74cf1",
      "metadata": {
        "colab": {
          "base_uri": "https://localhost:8080/"
        },
        "id": "894f91b0-73c1-4dbc-8a06-67a87cf74cf1",
        "outputId": "caed3b10-4179-478b-8035-c1a43ad5cb63"
      },
      "outputs": [
        {
          "output_type": "execute_result",
          "data": {
            "text/plain": [
              "(['Normal', 'Normal', 'DoS', 'Normal', 'Normal'],\n",
              " ['DoS', 'DoS', 'Normal', 'Probe', 'Probe'])"
            ]
          },
          "metadata": {},
          "execution_count": 21
        }
      ],
      "source": [
        "#view the class list\n",
        "classlist_train[:5], classlist_test[:5]"
      ]
    },
    {
      "cell_type": "code",
      "execution_count": 22,
      "id": "751f3a49-f5ca-487e-928a-5b15cbf9234c",
      "metadata": {
        "id": "751f3a49-f5ca-487e-928a-5b15cbf9234c"
      },
      "outputs": [],
      "source": [
        "# now append the class column to the dataFrames\n",
        "df_data_train['class'] = classlist_train\n",
        "df_data_test['class'] = classlist_test"
      ]
    },
    {
      "cell_type": "code",
      "execution_count": 23,
      "id": "5047d6bf-879f-442a-948e-5e24910d283e",
      "metadata": {
        "colab": {
          "base_uri": "https://localhost:8080/",
          "height": 206
        },
        "id": "5047d6bf-879f-442a-948e-5e24910d283e",
        "outputId": "56947f85-4028-4ea0-e55f-e8bc98e24328"
      },
      "outputs": [
        {
          "output_type": "execute_result",
          "data": {
            "text/plain": [
              "    class\n",
              "0  Normal\n",
              "1  Normal\n",
              "2     DoS\n",
              "3  Normal\n",
              "4  Normal"
            ],
            "text/html": [
              "\n",
              "  <div id=\"df-106e409c-a332-4fde-a5ab-ffc1b43003af\" class=\"colab-df-container\">\n",
              "    <div>\n",
              "<style scoped>\n",
              "    .dataframe tbody tr th:only-of-type {\n",
              "        vertical-align: middle;\n",
              "    }\n",
              "\n",
              "    .dataframe tbody tr th {\n",
              "        vertical-align: top;\n",
              "    }\n",
              "\n",
              "    .dataframe thead th {\n",
              "        text-align: right;\n",
              "    }\n",
              "</style>\n",
              "<table border=\"1\" class=\"dataframe\">\n",
              "  <thead>\n",
              "    <tr style=\"text-align: right;\">\n",
              "      <th></th>\n",
              "      <th>class</th>\n",
              "    </tr>\n",
              "  </thead>\n",
              "  <tbody>\n",
              "    <tr>\n",
              "      <th>0</th>\n",
              "      <td>Normal</td>\n",
              "    </tr>\n",
              "    <tr>\n",
              "      <th>1</th>\n",
              "      <td>Normal</td>\n",
              "    </tr>\n",
              "    <tr>\n",
              "      <th>2</th>\n",
              "      <td>DoS</td>\n",
              "    </tr>\n",
              "    <tr>\n",
              "      <th>3</th>\n",
              "      <td>Normal</td>\n",
              "    </tr>\n",
              "    <tr>\n",
              "      <th>4</th>\n",
              "      <td>Normal</td>\n",
              "    </tr>\n",
              "  </tbody>\n",
              "</table>\n",
              "</div>\n",
              "    <div class=\"colab-df-buttons\">\n",
              "\n",
              "  <div class=\"colab-df-container\">\n",
              "    <button class=\"colab-df-convert\" onclick=\"convertToInteractive('df-106e409c-a332-4fde-a5ab-ffc1b43003af')\"\n",
              "            title=\"Convert this dataframe to an interactive table.\"\n",
              "            style=\"display:none;\">\n",
              "\n",
              "  <svg xmlns=\"http://www.w3.org/2000/svg\" height=\"24px\" viewBox=\"0 -960 960 960\">\n",
              "    <path d=\"M120-120v-720h720v720H120Zm60-500h600v-160H180v160Zm220 220h160v-160H400v160Zm0 220h160v-160H400v160ZM180-400h160v-160H180v160Zm440 0h160v-160H620v160ZM180-180h160v-160H180v160Zm440 0h160v-160H620v160Z\"/>\n",
              "  </svg>\n",
              "    </button>\n",
              "\n",
              "  <style>\n",
              "    .colab-df-container {\n",
              "      display:flex;\n",
              "      gap: 12px;\n",
              "    }\n",
              "\n",
              "    .colab-df-convert {\n",
              "      background-color: #E8F0FE;\n",
              "      border: none;\n",
              "      border-radius: 50%;\n",
              "      cursor: pointer;\n",
              "      display: none;\n",
              "      fill: #1967D2;\n",
              "      height: 32px;\n",
              "      padding: 0 0 0 0;\n",
              "      width: 32px;\n",
              "    }\n",
              "\n",
              "    .colab-df-convert:hover {\n",
              "      background-color: #E2EBFA;\n",
              "      box-shadow: 0px 1px 2px rgba(60, 64, 67, 0.3), 0px 1px 3px 1px rgba(60, 64, 67, 0.15);\n",
              "      fill: #174EA6;\n",
              "    }\n",
              "\n",
              "    .colab-df-buttons div {\n",
              "      margin-bottom: 4px;\n",
              "    }\n",
              "\n",
              "    [theme=dark] .colab-df-convert {\n",
              "      background-color: #3B4455;\n",
              "      fill: #D2E3FC;\n",
              "    }\n",
              "\n",
              "    [theme=dark] .colab-df-convert:hover {\n",
              "      background-color: #434B5C;\n",
              "      box-shadow: 0px 1px 3px 1px rgba(0, 0, 0, 0.15);\n",
              "      filter: drop-shadow(0px 1px 2px rgba(0, 0, 0, 0.3));\n",
              "      fill: #FFFFFF;\n",
              "    }\n",
              "  </style>\n",
              "\n",
              "    <script>\n",
              "      const buttonEl =\n",
              "        document.querySelector('#df-106e409c-a332-4fde-a5ab-ffc1b43003af button.colab-df-convert');\n",
              "      buttonEl.style.display =\n",
              "        google.colab.kernel.accessAllowed ? 'block' : 'none';\n",
              "\n",
              "      async function convertToInteractive(key) {\n",
              "        const element = document.querySelector('#df-106e409c-a332-4fde-a5ab-ffc1b43003af');\n",
              "        const dataTable =\n",
              "          await google.colab.kernel.invokeFunction('convertToInteractive',\n",
              "                                                    [key], {});\n",
              "        if (!dataTable) return;\n",
              "\n",
              "        const docLinkHtml = 'Like what you see? Visit the ' +\n",
              "          '<a target=\"_blank\" href=https://colab.research.google.com/notebooks/data_table.ipynb>data table notebook</a>'\n",
              "          + ' to learn more about interactive tables.';\n",
              "        element.innerHTML = '';\n",
              "        dataTable['output_type'] = 'display_data';\n",
              "        await google.colab.output.renderOutput(dataTable, element);\n",
              "        const docLink = document.createElement('div');\n",
              "        docLink.innerHTML = docLinkHtml;\n",
              "        element.appendChild(docLink);\n",
              "      }\n",
              "    </script>\n",
              "  </div>\n",
              "\n",
              "\n",
              "<div id=\"df-c6942c20-7f17-4513-8838-5a94bbf18589\">\n",
              "  <button class=\"colab-df-quickchart\" onclick=\"quickchart('df-c6942c20-7f17-4513-8838-5a94bbf18589')\"\n",
              "            title=\"Suggest charts\"\n",
              "            style=\"display:none;\">\n",
              "\n",
              "<svg xmlns=\"http://www.w3.org/2000/svg\" height=\"24px\"viewBox=\"0 0 24 24\"\n",
              "     width=\"24px\">\n",
              "    <g>\n",
              "        <path d=\"M19 3H5c-1.1 0-2 .9-2 2v14c0 1.1.9 2 2 2h14c1.1 0 2-.9 2-2V5c0-1.1-.9-2-2-2zM9 17H7v-7h2v7zm4 0h-2V7h2v10zm4 0h-2v-4h2v4z\"/>\n",
              "    </g>\n",
              "</svg>\n",
              "  </button>\n",
              "\n",
              "<style>\n",
              "  .colab-df-quickchart {\n",
              "      --bg-color: #E8F0FE;\n",
              "      --fill-color: #1967D2;\n",
              "      --hover-bg-color: #E2EBFA;\n",
              "      --hover-fill-color: #174EA6;\n",
              "      --disabled-fill-color: #AAA;\n",
              "      --disabled-bg-color: #DDD;\n",
              "  }\n",
              "\n",
              "  [theme=dark] .colab-df-quickchart {\n",
              "      --bg-color: #3B4455;\n",
              "      --fill-color: #D2E3FC;\n",
              "      --hover-bg-color: #434B5C;\n",
              "      --hover-fill-color: #FFFFFF;\n",
              "      --disabled-bg-color: #3B4455;\n",
              "      --disabled-fill-color: #666;\n",
              "  }\n",
              "\n",
              "  .colab-df-quickchart {\n",
              "    background-color: var(--bg-color);\n",
              "    border: none;\n",
              "    border-radius: 50%;\n",
              "    cursor: pointer;\n",
              "    display: none;\n",
              "    fill: var(--fill-color);\n",
              "    height: 32px;\n",
              "    padding: 0;\n",
              "    width: 32px;\n",
              "  }\n",
              "\n",
              "  .colab-df-quickchart:hover {\n",
              "    background-color: var(--hover-bg-color);\n",
              "    box-shadow: 0 1px 2px rgba(60, 64, 67, 0.3), 0 1px 3px 1px rgba(60, 64, 67, 0.15);\n",
              "    fill: var(--button-hover-fill-color);\n",
              "  }\n",
              "\n",
              "  .colab-df-quickchart-complete:disabled,\n",
              "  .colab-df-quickchart-complete:disabled:hover {\n",
              "    background-color: var(--disabled-bg-color);\n",
              "    fill: var(--disabled-fill-color);\n",
              "    box-shadow: none;\n",
              "  }\n",
              "\n",
              "  .colab-df-spinner {\n",
              "    border: 2px solid var(--fill-color);\n",
              "    border-color: transparent;\n",
              "    border-bottom-color: var(--fill-color);\n",
              "    animation:\n",
              "      spin 1s steps(1) infinite;\n",
              "  }\n",
              "\n",
              "  @keyframes spin {\n",
              "    0% {\n",
              "      border-color: transparent;\n",
              "      border-bottom-color: var(--fill-color);\n",
              "      border-left-color: var(--fill-color);\n",
              "    }\n",
              "    20% {\n",
              "      border-color: transparent;\n",
              "      border-left-color: var(--fill-color);\n",
              "      border-top-color: var(--fill-color);\n",
              "    }\n",
              "    30% {\n",
              "      border-color: transparent;\n",
              "      border-left-color: var(--fill-color);\n",
              "      border-top-color: var(--fill-color);\n",
              "      border-right-color: var(--fill-color);\n",
              "    }\n",
              "    40% {\n",
              "      border-color: transparent;\n",
              "      border-right-color: var(--fill-color);\n",
              "      border-top-color: var(--fill-color);\n",
              "    }\n",
              "    60% {\n",
              "      border-color: transparent;\n",
              "      border-right-color: var(--fill-color);\n",
              "    }\n",
              "    80% {\n",
              "      border-color: transparent;\n",
              "      border-right-color: var(--fill-color);\n",
              "      border-bottom-color: var(--fill-color);\n",
              "    }\n",
              "    90% {\n",
              "      border-color: transparent;\n",
              "      border-bottom-color: var(--fill-color);\n",
              "    }\n",
              "  }\n",
              "</style>\n",
              "\n",
              "  <script>\n",
              "    async function quickchart(key) {\n",
              "      const quickchartButtonEl =\n",
              "        document.querySelector('#' + key + ' button');\n",
              "      quickchartButtonEl.disabled = true;  // To prevent multiple clicks.\n",
              "      quickchartButtonEl.classList.add('colab-df-spinner');\n",
              "      try {\n",
              "        const charts = await google.colab.kernel.invokeFunction(\n",
              "            'suggestCharts', [key], {});\n",
              "      } catch (error) {\n",
              "        console.error('Error during call to suggestCharts:', error);\n",
              "      }\n",
              "      quickchartButtonEl.classList.remove('colab-df-spinner');\n",
              "      quickchartButtonEl.classList.add('colab-df-quickchart-complete');\n",
              "    }\n",
              "    (() => {\n",
              "      let quickchartButtonEl =\n",
              "        document.querySelector('#df-c6942c20-7f17-4513-8838-5a94bbf18589 button');\n",
              "      quickchartButtonEl.style.display =\n",
              "        google.colab.kernel.accessAllowed ? 'block' : 'none';\n",
              "    })();\n",
              "  </script>\n",
              "</div>\n",
              "\n",
              "    </div>\n",
              "  </div>\n"
            ],
            "application/vnd.google.colaboratory.intrinsic+json": {
              "type": "dataframe",
              "summary": "{\n  \"name\": \"df_data_train\",\n  \"rows\": 5,\n  \"fields\": [\n    {\n      \"column\": \"class\",\n      \"properties\": {\n        \"dtype\": \"category\",\n        \"num_unique_values\": 2,\n        \"samples\": [\n          \"DoS\",\n          \"Normal\"\n        ],\n        \"semantic_type\": \"\",\n        \"description\": \"\"\n      }\n    }\n  ]\n}"
            }
          },
          "metadata": {},
          "execution_count": 23
        }
      ],
      "source": [
        "#verify categorical variables\n",
        "#only the label class\n",
        "df_data_train.select_dtypes('object').head()"
      ]
    },
    {
      "cell_type": "code",
      "execution_count": 24,
      "id": "c0d4c48a-c5c4-4c67-9c6f-50476c3ab0ac",
      "metadata": {
        "colab": {
          "base_uri": "https://localhost:8080/",
          "height": 206
        },
        "id": "c0d4c48a-c5c4-4c67-9c6f-50476c3ab0ac",
        "outputId": "2d5ca79a-f92f-4f38-8465-77a1d961b671"
      },
      "outputs": [
        {
          "output_type": "execute_result",
          "data": {
            "text/plain": [
              "    class\n",
              "0     DoS\n",
              "1     DoS\n",
              "2  Normal\n",
              "3   Probe\n",
              "4   Probe"
            ],
            "text/html": [
              "\n",
              "  <div id=\"df-ad00108c-7151-46db-b6ad-b9a188b2bd16\" class=\"colab-df-container\">\n",
              "    <div>\n",
              "<style scoped>\n",
              "    .dataframe tbody tr th:only-of-type {\n",
              "        vertical-align: middle;\n",
              "    }\n",
              "\n",
              "    .dataframe tbody tr th {\n",
              "        vertical-align: top;\n",
              "    }\n",
              "\n",
              "    .dataframe thead th {\n",
              "        text-align: right;\n",
              "    }\n",
              "</style>\n",
              "<table border=\"1\" class=\"dataframe\">\n",
              "  <thead>\n",
              "    <tr style=\"text-align: right;\">\n",
              "      <th></th>\n",
              "      <th>class</th>\n",
              "    </tr>\n",
              "  </thead>\n",
              "  <tbody>\n",
              "    <tr>\n",
              "      <th>0</th>\n",
              "      <td>DoS</td>\n",
              "    </tr>\n",
              "    <tr>\n",
              "      <th>1</th>\n",
              "      <td>DoS</td>\n",
              "    </tr>\n",
              "    <tr>\n",
              "      <th>2</th>\n",
              "      <td>Normal</td>\n",
              "    </tr>\n",
              "    <tr>\n",
              "      <th>3</th>\n",
              "      <td>Probe</td>\n",
              "    </tr>\n",
              "    <tr>\n",
              "      <th>4</th>\n",
              "      <td>Probe</td>\n",
              "    </tr>\n",
              "  </tbody>\n",
              "</table>\n",
              "</div>\n",
              "    <div class=\"colab-df-buttons\">\n",
              "\n",
              "  <div class=\"colab-df-container\">\n",
              "    <button class=\"colab-df-convert\" onclick=\"convertToInteractive('df-ad00108c-7151-46db-b6ad-b9a188b2bd16')\"\n",
              "            title=\"Convert this dataframe to an interactive table.\"\n",
              "            style=\"display:none;\">\n",
              "\n",
              "  <svg xmlns=\"http://www.w3.org/2000/svg\" height=\"24px\" viewBox=\"0 -960 960 960\">\n",
              "    <path d=\"M120-120v-720h720v720H120Zm60-500h600v-160H180v160Zm220 220h160v-160H400v160Zm0 220h160v-160H400v160ZM180-400h160v-160H180v160Zm440 0h160v-160H620v160ZM180-180h160v-160H180v160Zm440 0h160v-160H620v160Z\"/>\n",
              "  </svg>\n",
              "    </button>\n",
              "\n",
              "  <style>\n",
              "    .colab-df-container {\n",
              "      display:flex;\n",
              "      gap: 12px;\n",
              "    }\n",
              "\n",
              "    .colab-df-convert {\n",
              "      background-color: #E8F0FE;\n",
              "      border: none;\n",
              "      border-radius: 50%;\n",
              "      cursor: pointer;\n",
              "      display: none;\n",
              "      fill: #1967D2;\n",
              "      height: 32px;\n",
              "      padding: 0 0 0 0;\n",
              "      width: 32px;\n",
              "    }\n",
              "\n",
              "    .colab-df-convert:hover {\n",
              "      background-color: #E2EBFA;\n",
              "      box-shadow: 0px 1px 2px rgba(60, 64, 67, 0.3), 0px 1px 3px 1px rgba(60, 64, 67, 0.15);\n",
              "      fill: #174EA6;\n",
              "    }\n",
              "\n",
              "    .colab-df-buttons div {\n",
              "      margin-bottom: 4px;\n",
              "    }\n",
              "\n",
              "    [theme=dark] .colab-df-convert {\n",
              "      background-color: #3B4455;\n",
              "      fill: #D2E3FC;\n",
              "    }\n",
              "\n",
              "    [theme=dark] .colab-df-convert:hover {\n",
              "      background-color: #434B5C;\n",
              "      box-shadow: 0px 1px 3px 1px rgba(0, 0, 0, 0.15);\n",
              "      filter: drop-shadow(0px 1px 2px rgba(0, 0, 0, 0.3));\n",
              "      fill: #FFFFFF;\n",
              "    }\n",
              "  </style>\n",
              "\n",
              "    <script>\n",
              "      const buttonEl =\n",
              "        document.querySelector('#df-ad00108c-7151-46db-b6ad-b9a188b2bd16 button.colab-df-convert');\n",
              "      buttonEl.style.display =\n",
              "        google.colab.kernel.accessAllowed ? 'block' : 'none';\n",
              "\n",
              "      async function convertToInteractive(key) {\n",
              "        const element = document.querySelector('#df-ad00108c-7151-46db-b6ad-b9a188b2bd16');\n",
              "        const dataTable =\n",
              "          await google.colab.kernel.invokeFunction('convertToInteractive',\n",
              "                                                    [key], {});\n",
              "        if (!dataTable) return;\n",
              "\n",
              "        const docLinkHtml = 'Like what you see? Visit the ' +\n",
              "          '<a target=\"_blank\" href=https://colab.research.google.com/notebooks/data_table.ipynb>data table notebook</a>'\n",
              "          + ' to learn more about interactive tables.';\n",
              "        element.innerHTML = '';\n",
              "        dataTable['output_type'] = 'display_data';\n",
              "        await google.colab.output.renderOutput(dataTable, element);\n",
              "        const docLink = document.createElement('div');\n",
              "        docLink.innerHTML = docLinkHtml;\n",
              "        element.appendChild(docLink);\n",
              "      }\n",
              "    </script>\n",
              "  </div>\n",
              "\n",
              "\n",
              "<div id=\"df-99a043d8-c3d3-4c6c-86aa-531216a9f9d4\">\n",
              "  <button class=\"colab-df-quickchart\" onclick=\"quickchart('df-99a043d8-c3d3-4c6c-86aa-531216a9f9d4')\"\n",
              "            title=\"Suggest charts\"\n",
              "            style=\"display:none;\">\n",
              "\n",
              "<svg xmlns=\"http://www.w3.org/2000/svg\" height=\"24px\"viewBox=\"0 0 24 24\"\n",
              "     width=\"24px\">\n",
              "    <g>\n",
              "        <path d=\"M19 3H5c-1.1 0-2 .9-2 2v14c0 1.1.9 2 2 2h14c1.1 0 2-.9 2-2V5c0-1.1-.9-2-2-2zM9 17H7v-7h2v7zm4 0h-2V7h2v10zm4 0h-2v-4h2v4z\"/>\n",
              "    </g>\n",
              "</svg>\n",
              "  </button>\n",
              "\n",
              "<style>\n",
              "  .colab-df-quickchart {\n",
              "      --bg-color: #E8F0FE;\n",
              "      --fill-color: #1967D2;\n",
              "      --hover-bg-color: #E2EBFA;\n",
              "      --hover-fill-color: #174EA6;\n",
              "      --disabled-fill-color: #AAA;\n",
              "      --disabled-bg-color: #DDD;\n",
              "  }\n",
              "\n",
              "  [theme=dark] .colab-df-quickchart {\n",
              "      --bg-color: #3B4455;\n",
              "      --fill-color: #D2E3FC;\n",
              "      --hover-bg-color: #434B5C;\n",
              "      --hover-fill-color: #FFFFFF;\n",
              "      --disabled-bg-color: #3B4455;\n",
              "      --disabled-fill-color: #666;\n",
              "  }\n",
              "\n",
              "  .colab-df-quickchart {\n",
              "    background-color: var(--bg-color);\n",
              "    border: none;\n",
              "    border-radius: 50%;\n",
              "    cursor: pointer;\n",
              "    display: none;\n",
              "    fill: var(--fill-color);\n",
              "    height: 32px;\n",
              "    padding: 0;\n",
              "    width: 32px;\n",
              "  }\n",
              "\n",
              "  .colab-df-quickchart:hover {\n",
              "    background-color: var(--hover-bg-color);\n",
              "    box-shadow: 0 1px 2px rgba(60, 64, 67, 0.3), 0 1px 3px 1px rgba(60, 64, 67, 0.15);\n",
              "    fill: var(--button-hover-fill-color);\n",
              "  }\n",
              "\n",
              "  .colab-df-quickchart-complete:disabled,\n",
              "  .colab-df-quickchart-complete:disabled:hover {\n",
              "    background-color: var(--disabled-bg-color);\n",
              "    fill: var(--disabled-fill-color);\n",
              "    box-shadow: none;\n",
              "  }\n",
              "\n",
              "  .colab-df-spinner {\n",
              "    border: 2px solid var(--fill-color);\n",
              "    border-color: transparent;\n",
              "    border-bottom-color: var(--fill-color);\n",
              "    animation:\n",
              "      spin 1s steps(1) infinite;\n",
              "  }\n",
              "\n",
              "  @keyframes spin {\n",
              "    0% {\n",
              "      border-color: transparent;\n",
              "      border-bottom-color: var(--fill-color);\n",
              "      border-left-color: var(--fill-color);\n",
              "    }\n",
              "    20% {\n",
              "      border-color: transparent;\n",
              "      border-left-color: var(--fill-color);\n",
              "      border-top-color: var(--fill-color);\n",
              "    }\n",
              "    30% {\n",
              "      border-color: transparent;\n",
              "      border-left-color: var(--fill-color);\n",
              "      border-top-color: var(--fill-color);\n",
              "      border-right-color: var(--fill-color);\n",
              "    }\n",
              "    40% {\n",
              "      border-color: transparent;\n",
              "      border-right-color: var(--fill-color);\n",
              "      border-top-color: var(--fill-color);\n",
              "    }\n",
              "    60% {\n",
              "      border-color: transparent;\n",
              "      border-right-color: var(--fill-color);\n",
              "    }\n",
              "    80% {\n",
              "      border-color: transparent;\n",
              "      border-right-color: var(--fill-color);\n",
              "      border-bottom-color: var(--fill-color);\n",
              "    }\n",
              "    90% {\n",
              "      border-color: transparent;\n",
              "      border-bottom-color: var(--fill-color);\n",
              "    }\n",
              "  }\n",
              "</style>\n",
              "\n",
              "  <script>\n",
              "    async function quickchart(key) {\n",
              "      const quickchartButtonEl =\n",
              "        document.querySelector('#' + key + ' button');\n",
              "      quickchartButtonEl.disabled = true;  // To prevent multiple clicks.\n",
              "      quickchartButtonEl.classList.add('colab-df-spinner');\n",
              "      try {\n",
              "        const charts = await google.colab.kernel.invokeFunction(\n",
              "            'suggestCharts', [key], {});\n",
              "      } catch (error) {\n",
              "        console.error('Error during call to suggestCharts:', error);\n",
              "      }\n",
              "      quickchartButtonEl.classList.remove('colab-df-spinner');\n",
              "      quickchartButtonEl.classList.add('colab-df-quickchart-complete');\n",
              "    }\n",
              "    (() => {\n",
              "      let quickchartButtonEl =\n",
              "        document.querySelector('#df-99a043d8-c3d3-4c6c-86aa-531216a9f9d4 button');\n",
              "      quickchartButtonEl.style.display =\n",
              "        google.colab.kernel.accessAllowed ? 'block' : 'none';\n",
              "    })();\n",
              "  </script>\n",
              "</div>\n",
              "\n",
              "    </div>\n",
              "  </div>\n"
            ],
            "application/vnd.google.colaboratory.intrinsic+json": {
              "type": "dataframe",
              "summary": "{\n  \"name\": \"df_data_test\",\n  \"rows\": 5,\n  \"fields\": [\n    {\n      \"column\": \"class\",\n      \"properties\": {\n        \"dtype\": \"string\",\n        \"num_unique_values\": 3,\n        \"samples\": [\n          \"DoS\",\n          \"Normal\",\n          \"Probe\"\n        ],\n        \"semantic_type\": \"\",\n        \"description\": \"\"\n      }\n    }\n  ]\n}"
            }
          },
          "metadata": {},
          "execution_count": 24
        }
      ],
      "source": [
        "#verify categorical variables\n",
        "#only the label class\n",
        "df_data_test.select_dtypes('object').head()"
      ]
    },
    {
      "cell_type": "code",
      "execution_count": 25,
      "id": "10935613-5ffc-46be-84ae-c622f3b3d087",
      "metadata": {
        "colab": {
          "base_uri": "https://localhost:8080/"
        },
        "id": "10935613-5ffc-46be-84ae-c622f3b3d087",
        "outputId": "c7798cdd-4376-4d2e-f5d5-25680695449a"
      },
      "outputs": [
        {
          "output_type": "stream",
          "name": "stdout",
          "text": [
            "(125973, 123) (125973,)\n"
          ]
        }
      ],
      "source": [
        "#separate labels from the dataset\n",
        "y_train = df_data_train.pop('class')\n",
        "\n",
        "# the remaining data will be X\n",
        "X_train = df_data_train\n",
        "print(X_train.shape, y_train.shape)"
      ]
    },
    {
      "cell_type": "code",
      "execution_count": 26,
      "id": "40e70b54-8dda-4865-926f-f1b275e4ec2a",
      "metadata": {
        "colab": {
          "base_uri": "https://localhost:8080/"
        },
        "id": "40e70b54-8dda-4865-926f-f1b275e4ec2a",
        "outputId": "888643f9-fbf9-4376-9660-4075243b0ed5"
      },
      "outputs": [
        {
          "output_type": "stream",
          "name": "stdout",
          "text": [
            "(22544, 123) (22544,)\n"
          ]
        }
      ],
      "source": [
        "#separate labels from the dataset\n",
        "y_test = df_data_test.pop('class')\n",
        "\n",
        "# the remaining data will be X\n",
        "X_test = df_data_test\n",
        "print(X_test.shape, y_test.shape)"
      ]
    },
    {
      "cell_type": "code",
      "execution_count": 27,
      "id": "a1cd0dd3-ba67-4d7c-a3a2-9607a2456a95",
      "metadata": {
        "id": "a1cd0dd3-ba67-4d7c-a3a2-9607a2456a95"
      },
      "outputs": [],
      "source": [
        "# encoding labels function\n",
        "\n",
        "# binary classification (0 for normal and 1 for attack)\n",
        "def attack_encode_bin(attack):\n",
        "  if attack == 'Normal':\n",
        "    return 0\n",
        "  else:\n",
        "    return 1\n",
        "\n",
        "# multi-class classification\n",
        "\n",
        "# multi-labels (0,1,2,3,4)\n",
        "def attack_encode_mult(attack):\n",
        "  if attack == 'Normal':\n",
        "    return 0\n",
        "  elif attack == 'DoS':\n",
        "    return 1\n",
        "  elif attack == 'Probe':\n",
        "    return 2\n",
        "  elif attack == 'U2R':\n",
        "    return 3\n",
        "  else:\n",
        "    return 4"
      ]
    },
    {
      "cell_type": "code",
      "execution_count": 29,
      "id": "feca9c65-129e-4358-b475-38c270db81fd",
      "metadata": {
        "colab": {
          "base_uri": "https://localhost:8080/"
        },
        "id": "feca9c65-129e-4358-b475-38c270db81fd",
        "outputId": "b73d1c23-2804-45b3-dd83-17fc18d1fbe7"
      },
      "outputs": [
        {
          "output_type": "stream",
          "name": "stdout",
          "text": [
            "[0 1]\n"
          ]
        }
      ],
      "source": [
        "# binary classification labels\n",
        "y_train_bin = y_train.apply(attack_encode_bin)\n",
        "print(y_train_bin.unique())"
      ]
    },
    {
      "cell_type": "code",
      "execution_count": 30,
      "id": "931d65a4-3806-456a-9e9c-95cf6e588f6c",
      "metadata": {
        "colab": {
          "base_uri": "https://localhost:8080/"
        },
        "id": "931d65a4-3806-456a-9e9c-95cf6e588f6c",
        "outputId": "846e301b-c6fb-42da-d41f-aba5fc6804ae"
      },
      "outputs": [
        {
          "output_type": "stream",
          "name": "stdout",
          "text": [
            "[1 0]\n"
          ]
        }
      ],
      "source": [
        "# binary classification labels\n",
        "y_test_bin = y_test.apply(attack_encode_bin)\n",
        "print(y_test_bin.unique())"
      ]
    },
    {
      "cell_type": "code",
      "execution_count": 31,
      "id": "611481d4-1233-4ce6-9e92-1f7e8eb91835",
      "metadata": {
        "colab": {
          "base_uri": "https://localhost:8080/"
        },
        "id": "611481d4-1233-4ce6-9e92-1f7e8eb91835",
        "outputId": "75b55321-e389-46bb-fba9-3d06553951cc"
      },
      "outputs": [
        {
          "output_type": "stream",
          "name": "stdout",
          "text": [
            "[0 1 4 2 3]\n"
          ]
        }
      ],
      "source": [
        "# multi-class classification labels\n",
        "y_train_mult = y_train.apply(attack_encode_mult)\n",
        "print(y_train_mult.unique())"
      ]
    },
    {
      "cell_type": "code",
      "execution_count": 32,
      "id": "a39491b1-0229-4a0e-ba9b-1657d74b5938",
      "metadata": {
        "colab": {
          "base_uri": "https://localhost:8080/"
        },
        "id": "a39491b1-0229-4a0e-ba9b-1657d74b5938",
        "outputId": "4f161365-366b-404b-e6b7-8caaf257adf6"
      },
      "outputs": [
        {
          "output_type": "stream",
          "name": "stdout",
          "text": [
            "[1 0 2 4 3]\n"
          ]
        }
      ],
      "source": [
        "# multi-class classification labels\n",
        "y_test_mult = y_test.apply(attack_encode_mult)\n",
        "print(y_test_mult.unique())"
      ]
    },
    {
      "cell_type": "code",
      "execution_count": 33,
      "id": "d9fdb6d0-18be-4d44-800d-7f3393be39f1",
      "metadata": {
        "colab": {
          "base_uri": "https://localhost:8080/"
        },
        "id": "d9fdb6d0-18be-4d44-800d-7f3393be39f1",
        "outputId": "27899b05-da4c-4a39-ffb9-e6e0983b8b94"
      },
      "outputs": [
        {
          "output_type": "stream",
          "name": "stdout",
          "text": [
            "[[1 0 0 0 0]\n",
            " [1 0 0 0 0]\n",
            " [0 1 0 0 0]]\n"
          ]
        }
      ],
      "source": [
        "# binarize labels for multi-class\n",
        "y_train_mult_b = LabelBinarizer().fit_transform(y_train_mult)\n",
        "print(y_train_mult_b[:3])"
      ]
    },
    {
      "cell_type": "code",
      "execution_count": 34,
      "id": "4a818aa1-6668-4e0d-beb8-77143b7d0b18",
      "metadata": {
        "colab": {
          "base_uri": "https://localhost:8080/"
        },
        "id": "4a818aa1-6668-4e0d-beb8-77143b7d0b18",
        "outputId": "68acef88-6a73-4375-cafe-475fb4cd0021"
      },
      "outputs": [
        {
          "output_type": "stream",
          "name": "stdout",
          "text": [
            "[[0 1 0 0 0]\n",
            " [0 1 0 0 0]\n",
            " [1 0 0 0 0]]\n"
          ]
        }
      ],
      "source": [
        "# binarize labels for multi-class\n",
        "y_test_mult_b = LabelBinarizer().fit_transform(y_test_mult)\n",
        "print(y_test_mult_b[:3])"
      ]
    },
    {
      "cell_type": "code",
      "execution_count": 35,
      "id": "20852795-ebea-4e26-ac8f-ac0016083cab",
      "metadata": {
        "colab": {
          "base_uri": "https://localhost:8080/"
        },
        "id": "20852795-ebea-4e26-ac8f-ac0016083cab",
        "outputId": "0d083c69-34a6-4847-f8e1-b35cc36e60ad"
      },
      "outputs": [
        {
          "output_type": "execute_result",
          "data": {
            "text/plain": [
              "(numpy.ndarray, numpy.ndarray, pandas.core.series.Series, numpy.ndarray)"
            ]
          },
          "metadata": {},
          "execution_count": 35
        }
      ],
      "source": [
        "type(y_train_mult_b),type(y_test_mult_b), type(y_test_mult), type(y_test_mult.values)"
      ]
    },
    {
      "cell_type": "code",
      "execution_count": 36,
      "id": "9cf7aa19-1827-494d-8055-6ba4476f1016",
      "metadata": {
        "colab": {
          "base_uri": "https://localhost:8080/"
        },
        "id": "9cf7aa19-1827-494d-8055-6ba4476f1016",
        "outputId": "f1166b76-3a20-40b2-fcb1-c85f10630fef"
      },
      "outputs": [
        {
          "output_type": "execute_result",
          "data": {
            "text/plain": [
              "((125973, 123), (22544, 123))"
            ]
          },
          "metadata": {},
          "execution_count": 36
        }
      ],
      "source": [
        "X_train.shape, X_test.shape"
      ]
    },
    {
      "cell_type": "code",
      "execution_count": 37,
      "id": "91dcec50-44c6-4b99-bff2-2489debfb7a0",
      "metadata": {
        "colab": {
          "base_uri": "https://localhost:8080/",
          "height": 444
        },
        "id": "91dcec50-44c6-4b99-bff2-2489debfb7a0",
        "outputId": "8d2751d7-3c46-44e8-f7de-bc511577e2df"
      },
      "outputs": [
        {
          "output_type": "execute_result",
          "data": {
            "text/plain": [
              "        duration  src_bytes  dst_byte  land  wrong_fragment  urgent  hot  \\\n",
              "0              0        491         0     0               0       0    0   \n",
              "1              0        146         0     0               0       0    0   \n",
              "2              0          0         0     0               0       0    0   \n",
              "3              0        232      8153     0               0       0    0   \n",
              "4              0        199       420     0               0       0    0   \n",
              "...          ...        ...       ...   ...             ...     ...  ...   \n",
              "125968         0          0         0     0               0       0    0   \n",
              "125969         8        105       145     0               0       0    0   \n",
              "125970         0       2231       384     0               0       0    0   \n",
              "125971         0          0         0     0               0       0    0   \n",
              "125972         0        151         0     0               0       0    0   \n",
              "\n",
              "        num_failed_logins  logged_in  num_compromised  ...  flag_REJ  \\\n",
              "0                       0          0                0  ...       0.0   \n",
              "1                       0          0                0  ...       0.0   \n",
              "2                       0          0                0  ...       0.0   \n",
              "3                       0          1                0  ...       0.0   \n",
              "4                       0          1                0  ...       0.0   \n",
              "...                   ...        ...              ...  ...       ...   \n",
              "125968                  0          0                0  ...       0.0   \n",
              "125969                  0          0                0  ...       0.0   \n",
              "125970                  0          1                0  ...       0.0   \n",
              "125971                  0          0                0  ...       0.0   \n",
              "125972                  0          1                0  ...       0.0   \n",
              "\n",
              "        flag_RSTO  flag_RSTOS0  flag_RSTR  flag_S0  flag_S1  flag_S2  flag_S3  \\\n",
              "0             0.0          0.0        0.0      0.0      0.0      0.0      0.0   \n",
              "1             0.0          0.0        0.0      0.0      0.0      0.0      0.0   \n",
              "2             0.0          0.0        0.0      1.0      0.0      0.0      0.0   \n",
              "3             0.0          0.0        0.0      0.0      0.0      0.0      0.0   \n",
              "4             0.0          0.0        0.0      0.0      0.0      0.0      0.0   \n",
              "...           ...          ...        ...      ...      ...      ...      ...   \n",
              "125968        0.0          0.0        0.0      1.0      0.0      0.0      0.0   \n",
              "125969        0.0          0.0        0.0      0.0      0.0      0.0      0.0   \n",
              "125970        0.0          0.0        0.0      0.0      0.0      0.0      0.0   \n",
              "125971        0.0          0.0        0.0      1.0      0.0      0.0      0.0   \n",
              "125972        0.0          0.0        0.0      0.0      0.0      0.0      0.0   \n",
              "\n",
              "        flag_SF  flag_SH  \n",
              "0           1.0      0.0  \n",
              "1           1.0      0.0  \n",
              "2           0.0      0.0  \n",
              "3           1.0      0.0  \n",
              "4           1.0      0.0  \n",
              "...         ...      ...  \n",
              "125968      0.0      0.0  \n",
              "125969      1.0      0.0  \n",
              "125970      1.0      0.0  \n",
              "125971      0.0      0.0  \n",
              "125972      1.0      0.0  \n",
              "\n",
              "[125973 rows x 123 columns]"
            ],
            "text/html": [
              "\n",
              "  <div id=\"df-f80cfa7e-9fa0-492d-b611-d58645935591\" class=\"colab-df-container\">\n",
              "    <div>\n",
              "<style scoped>\n",
              "    .dataframe tbody tr th:only-of-type {\n",
              "        vertical-align: middle;\n",
              "    }\n",
              "\n",
              "    .dataframe tbody tr th {\n",
              "        vertical-align: top;\n",
              "    }\n",
              "\n",
              "    .dataframe thead th {\n",
              "        text-align: right;\n",
              "    }\n",
              "</style>\n",
              "<table border=\"1\" class=\"dataframe\">\n",
              "  <thead>\n",
              "    <tr style=\"text-align: right;\">\n",
              "      <th></th>\n",
              "      <th>duration</th>\n",
              "      <th>src_bytes</th>\n",
              "      <th>dst_byte</th>\n",
              "      <th>land</th>\n",
              "      <th>wrong_fragment</th>\n",
              "      <th>urgent</th>\n",
              "      <th>hot</th>\n",
              "      <th>num_failed_logins</th>\n",
              "      <th>logged_in</th>\n",
              "      <th>num_compromised</th>\n",
              "      <th>...</th>\n",
              "      <th>flag_REJ</th>\n",
              "      <th>flag_RSTO</th>\n",
              "      <th>flag_RSTOS0</th>\n",
              "      <th>flag_RSTR</th>\n",
              "      <th>flag_S0</th>\n",
              "      <th>flag_S1</th>\n",
              "      <th>flag_S2</th>\n",
              "      <th>flag_S3</th>\n",
              "      <th>flag_SF</th>\n",
              "      <th>flag_SH</th>\n",
              "    </tr>\n",
              "  </thead>\n",
              "  <tbody>\n",
              "    <tr>\n",
              "      <th>0</th>\n",
              "      <td>0</td>\n",
              "      <td>491</td>\n",
              "      <td>0</td>\n",
              "      <td>0</td>\n",
              "      <td>0</td>\n",
              "      <td>0</td>\n",
              "      <td>0</td>\n",
              "      <td>0</td>\n",
              "      <td>0</td>\n",
              "      <td>0</td>\n",
              "      <td>...</td>\n",
              "      <td>0.0</td>\n",
              "      <td>0.0</td>\n",
              "      <td>0.0</td>\n",
              "      <td>0.0</td>\n",
              "      <td>0.0</td>\n",
              "      <td>0.0</td>\n",
              "      <td>0.0</td>\n",
              "      <td>0.0</td>\n",
              "      <td>1.0</td>\n",
              "      <td>0.0</td>\n",
              "    </tr>\n",
              "    <tr>\n",
              "      <th>1</th>\n",
              "      <td>0</td>\n",
              "      <td>146</td>\n",
              "      <td>0</td>\n",
              "      <td>0</td>\n",
              "      <td>0</td>\n",
              "      <td>0</td>\n",
              "      <td>0</td>\n",
              "      <td>0</td>\n",
              "      <td>0</td>\n",
              "      <td>0</td>\n",
              "      <td>...</td>\n",
              "      <td>0.0</td>\n",
              "      <td>0.0</td>\n",
              "      <td>0.0</td>\n",
              "      <td>0.0</td>\n",
              "      <td>0.0</td>\n",
              "      <td>0.0</td>\n",
              "      <td>0.0</td>\n",
              "      <td>0.0</td>\n",
              "      <td>1.0</td>\n",
              "      <td>0.0</td>\n",
              "    </tr>\n",
              "    <tr>\n",
              "      <th>2</th>\n",
              "      <td>0</td>\n",
              "      <td>0</td>\n",
              "      <td>0</td>\n",
              "      <td>0</td>\n",
              "      <td>0</td>\n",
              "      <td>0</td>\n",
              "      <td>0</td>\n",
              "      <td>0</td>\n",
              "      <td>0</td>\n",
              "      <td>0</td>\n",
              "      <td>...</td>\n",
              "      <td>0.0</td>\n",
              "      <td>0.0</td>\n",
              "      <td>0.0</td>\n",
              "      <td>0.0</td>\n",
              "      <td>1.0</td>\n",
              "      <td>0.0</td>\n",
              "      <td>0.0</td>\n",
              "      <td>0.0</td>\n",
              "      <td>0.0</td>\n",
              "      <td>0.0</td>\n",
              "    </tr>\n",
              "    <tr>\n",
              "      <th>3</th>\n",
              "      <td>0</td>\n",
              "      <td>232</td>\n",
              "      <td>8153</td>\n",
              "      <td>0</td>\n",
              "      <td>0</td>\n",
              "      <td>0</td>\n",
              "      <td>0</td>\n",
              "      <td>0</td>\n",
              "      <td>1</td>\n",
              "      <td>0</td>\n",
              "      <td>...</td>\n",
              "      <td>0.0</td>\n",
              "      <td>0.0</td>\n",
              "      <td>0.0</td>\n",
              "      <td>0.0</td>\n",
              "      <td>0.0</td>\n",
              "      <td>0.0</td>\n",
              "      <td>0.0</td>\n",
              "      <td>0.0</td>\n",
              "      <td>1.0</td>\n",
              "      <td>0.0</td>\n",
              "    </tr>\n",
              "    <tr>\n",
              "      <th>4</th>\n",
              "      <td>0</td>\n",
              "      <td>199</td>\n",
              "      <td>420</td>\n",
              "      <td>0</td>\n",
              "      <td>0</td>\n",
              "      <td>0</td>\n",
              "      <td>0</td>\n",
              "      <td>0</td>\n",
              "      <td>1</td>\n",
              "      <td>0</td>\n",
              "      <td>...</td>\n",
              "      <td>0.0</td>\n",
              "      <td>0.0</td>\n",
              "      <td>0.0</td>\n",
              "      <td>0.0</td>\n",
              "      <td>0.0</td>\n",
              "      <td>0.0</td>\n",
              "      <td>0.0</td>\n",
              "      <td>0.0</td>\n",
              "      <td>1.0</td>\n",
              "      <td>0.0</td>\n",
              "    </tr>\n",
              "    <tr>\n",
              "      <th>...</th>\n",
              "      <td>...</td>\n",
              "      <td>...</td>\n",
              "      <td>...</td>\n",
              "      <td>...</td>\n",
              "      <td>...</td>\n",
              "      <td>...</td>\n",
              "      <td>...</td>\n",
              "      <td>...</td>\n",
              "      <td>...</td>\n",
              "      <td>...</td>\n",
              "      <td>...</td>\n",
              "      <td>...</td>\n",
              "      <td>...</td>\n",
              "      <td>...</td>\n",
              "      <td>...</td>\n",
              "      <td>...</td>\n",
              "      <td>...</td>\n",
              "      <td>...</td>\n",
              "      <td>...</td>\n",
              "      <td>...</td>\n",
              "      <td>...</td>\n",
              "    </tr>\n",
              "    <tr>\n",
              "      <th>125968</th>\n",
              "      <td>0</td>\n",
              "      <td>0</td>\n",
              "      <td>0</td>\n",
              "      <td>0</td>\n",
              "      <td>0</td>\n",
              "      <td>0</td>\n",
              "      <td>0</td>\n",
              "      <td>0</td>\n",
              "      <td>0</td>\n",
              "      <td>0</td>\n",
              "      <td>...</td>\n",
              "      <td>0.0</td>\n",
              "      <td>0.0</td>\n",
              "      <td>0.0</td>\n",
              "      <td>0.0</td>\n",
              "      <td>1.0</td>\n",
              "      <td>0.0</td>\n",
              "      <td>0.0</td>\n",
              "      <td>0.0</td>\n",
              "      <td>0.0</td>\n",
              "      <td>0.0</td>\n",
              "    </tr>\n",
              "    <tr>\n",
              "      <th>125969</th>\n",
              "      <td>8</td>\n",
              "      <td>105</td>\n",
              "      <td>145</td>\n",
              "      <td>0</td>\n",
              "      <td>0</td>\n",
              "      <td>0</td>\n",
              "      <td>0</td>\n",
              "      <td>0</td>\n",
              "      <td>0</td>\n",
              "      <td>0</td>\n",
              "      <td>...</td>\n",
              "      <td>0.0</td>\n",
              "      <td>0.0</td>\n",
              "      <td>0.0</td>\n",
              "      <td>0.0</td>\n",
              "      <td>0.0</td>\n",
              "      <td>0.0</td>\n",
              "      <td>0.0</td>\n",
              "      <td>0.0</td>\n",
              "      <td>1.0</td>\n",
              "      <td>0.0</td>\n",
              "    </tr>\n",
              "    <tr>\n",
              "      <th>125970</th>\n",
              "      <td>0</td>\n",
              "      <td>2231</td>\n",
              "      <td>384</td>\n",
              "      <td>0</td>\n",
              "      <td>0</td>\n",
              "      <td>0</td>\n",
              "      <td>0</td>\n",
              "      <td>0</td>\n",
              "      <td>1</td>\n",
              "      <td>0</td>\n",
              "      <td>...</td>\n",
              "      <td>0.0</td>\n",
              "      <td>0.0</td>\n",
              "      <td>0.0</td>\n",
              "      <td>0.0</td>\n",
              "      <td>0.0</td>\n",
              "      <td>0.0</td>\n",
              "      <td>0.0</td>\n",
              "      <td>0.0</td>\n",
              "      <td>1.0</td>\n",
              "      <td>0.0</td>\n",
              "    </tr>\n",
              "    <tr>\n",
              "      <th>125971</th>\n",
              "      <td>0</td>\n",
              "      <td>0</td>\n",
              "      <td>0</td>\n",
              "      <td>0</td>\n",
              "      <td>0</td>\n",
              "      <td>0</td>\n",
              "      <td>0</td>\n",
              "      <td>0</td>\n",
              "      <td>0</td>\n",
              "      <td>0</td>\n",
              "      <td>...</td>\n",
              "      <td>0.0</td>\n",
              "      <td>0.0</td>\n",
              "      <td>0.0</td>\n",
              "      <td>0.0</td>\n",
              "      <td>1.0</td>\n",
              "      <td>0.0</td>\n",
              "      <td>0.0</td>\n",
              "      <td>0.0</td>\n",
              "      <td>0.0</td>\n",
              "      <td>0.0</td>\n",
              "    </tr>\n",
              "    <tr>\n",
              "      <th>125972</th>\n",
              "      <td>0</td>\n",
              "      <td>151</td>\n",
              "      <td>0</td>\n",
              "      <td>0</td>\n",
              "      <td>0</td>\n",
              "      <td>0</td>\n",
              "      <td>0</td>\n",
              "      <td>0</td>\n",
              "      <td>1</td>\n",
              "      <td>0</td>\n",
              "      <td>...</td>\n",
              "      <td>0.0</td>\n",
              "      <td>0.0</td>\n",
              "      <td>0.0</td>\n",
              "      <td>0.0</td>\n",
              "      <td>0.0</td>\n",
              "      <td>0.0</td>\n",
              "      <td>0.0</td>\n",
              "      <td>0.0</td>\n",
              "      <td>1.0</td>\n",
              "      <td>0.0</td>\n",
              "    </tr>\n",
              "  </tbody>\n",
              "</table>\n",
              "<p>125973 rows × 123 columns</p>\n",
              "</div>\n",
              "    <div class=\"colab-df-buttons\">\n",
              "\n",
              "  <div class=\"colab-df-container\">\n",
              "    <button class=\"colab-df-convert\" onclick=\"convertToInteractive('df-f80cfa7e-9fa0-492d-b611-d58645935591')\"\n",
              "            title=\"Convert this dataframe to an interactive table.\"\n",
              "            style=\"display:none;\">\n",
              "\n",
              "  <svg xmlns=\"http://www.w3.org/2000/svg\" height=\"24px\" viewBox=\"0 -960 960 960\">\n",
              "    <path d=\"M120-120v-720h720v720H120Zm60-500h600v-160H180v160Zm220 220h160v-160H400v160Zm0 220h160v-160H400v160ZM180-400h160v-160H180v160Zm440 0h160v-160H620v160ZM180-180h160v-160H180v160Zm440 0h160v-160H620v160Z\"/>\n",
              "  </svg>\n",
              "    </button>\n",
              "\n",
              "  <style>\n",
              "    .colab-df-container {\n",
              "      display:flex;\n",
              "      gap: 12px;\n",
              "    }\n",
              "\n",
              "    .colab-df-convert {\n",
              "      background-color: #E8F0FE;\n",
              "      border: none;\n",
              "      border-radius: 50%;\n",
              "      cursor: pointer;\n",
              "      display: none;\n",
              "      fill: #1967D2;\n",
              "      height: 32px;\n",
              "      padding: 0 0 0 0;\n",
              "      width: 32px;\n",
              "    }\n",
              "\n",
              "    .colab-df-convert:hover {\n",
              "      background-color: #E2EBFA;\n",
              "      box-shadow: 0px 1px 2px rgba(60, 64, 67, 0.3), 0px 1px 3px 1px rgba(60, 64, 67, 0.15);\n",
              "      fill: #174EA6;\n",
              "    }\n",
              "\n",
              "    .colab-df-buttons div {\n",
              "      margin-bottom: 4px;\n",
              "    }\n",
              "\n",
              "    [theme=dark] .colab-df-convert {\n",
              "      background-color: #3B4455;\n",
              "      fill: #D2E3FC;\n",
              "    }\n",
              "\n",
              "    [theme=dark] .colab-df-convert:hover {\n",
              "      background-color: #434B5C;\n",
              "      box-shadow: 0px 1px 3px 1px rgba(0, 0, 0, 0.15);\n",
              "      filter: drop-shadow(0px 1px 2px rgba(0, 0, 0, 0.3));\n",
              "      fill: #FFFFFF;\n",
              "    }\n",
              "  </style>\n",
              "\n",
              "    <script>\n",
              "      const buttonEl =\n",
              "        document.querySelector('#df-f80cfa7e-9fa0-492d-b611-d58645935591 button.colab-df-convert');\n",
              "      buttonEl.style.display =\n",
              "        google.colab.kernel.accessAllowed ? 'block' : 'none';\n",
              "\n",
              "      async function convertToInteractive(key) {\n",
              "        const element = document.querySelector('#df-f80cfa7e-9fa0-492d-b611-d58645935591');\n",
              "        const dataTable =\n",
              "          await google.colab.kernel.invokeFunction('convertToInteractive',\n",
              "                                                    [key], {});\n",
              "        if (!dataTable) return;\n",
              "\n",
              "        const docLinkHtml = 'Like what you see? Visit the ' +\n",
              "          '<a target=\"_blank\" href=https://colab.research.google.com/notebooks/data_table.ipynb>data table notebook</a>'\n",
              "          + ' to learn more about interactive tables.';\n",
              "        element.innerHTML = '';\n",
              "        dataTable['output_type'] = 'display_data';\n",
              "        await google.colab.output.renderOutput(dataTable, element);\n",
              "        const docLink = document.createElement('div');\n",
              "        docLink.innerHTML = docLinkHtml;\n",
              "        element.appendChild(docLink);\n",
              "      }\n",
              "    </script>\n",
              "  </div>\n",
              "\n",
              "\n",
              "<div id=\"df-1794dd84-3b67-4bb1-920e-f24d027f80e7\">\n",
              "  <button class=\"colab-df-quickchart\" onclick=\"quickchart('df-1794dd84-3b67-4bb1-920e-f24d027f80e7')\"\n",
              "            title=\"Suggest charts\"\n",
              "            style=\"display:none;\">\n",
              "\n",
              "<svg xmlns=\"http://www.w3.org/2000/svg\" height=\"24px\"viewBox=\"0 0 24 24\"\n",
              "     width=\"24px\">\n",
              "    <g>\n",
              "        <path d=\"M19 3H5c-1.1 0-2 .9-2 2v14c0 1.1.9 2 2 2h14c1.1 0 2-.9 2-2V5c0-1.1-.9-2-2-2zM9 17H7v-7h2v7zm4 0h-2V7h2v10zm4 0h-2v-4h2v4z\"/>\n",
              "    </g>\n",
              "</svg>\n",
              "  </button>\n",
              "\n",
              "<style>\n",
              "  .colab-df-quickchart {\n",
              "      --bg-color: #E8F0FE;\n",
              "      --fill-color: #1967D2;\n",
              "      --hover-bg-color: #E2EBFA;\n",
              "      --hover-fill-color: #174EA6;\n",
              "      --disabled-fill-color: #AAA;\n",
              "      --disabled-bg-color: #DDD;\n",
              "  }\n",
              "\n",
              "  [theme=dark] .colab-df-quickchart {\n",
              "      --bg-color: #3B4455;\n",
              "      --fill-color: #D2E3FC;\n",
              "      --hover-bg-color: #434B5C;\n",
              "      --hover-fill-color: #FFFFFF;\n",
              "      --disabled-bg-color: #3B4455;\n",
              "      --disabled-fill-color: #666;\n",
              "  }\n",
              "\n",
              "  .colab-df-quickchart {\n",
              "    background-color: var(--bg-color);\n",
              "    border: none;\n",
              "    border-radius: 50%;\n",
              "    cursor: pointer;\n",
              "    display: none;\n",
              "    fill: var(--fill-color);\n",
              "    height: 32px;\n",
              "    padding: 0;\n",
              "    width: 32px;\n",
              "  }\n",
              "\n",
              "  .colab-df-quickchart:hover {\n",
              "    background-color: var(--hover-bg-color);\n",
              "    box-shadow: 0 1px 2px rgba(60, 64, 67, 0.3), 0 1px 3px 1px rgba(60, 64, 67, 0.15);\n",
              "    fill: var(--button-hover-fill-color);\n",
              "  }\n",
              "\n",
              "  .colab-df-quickchart-complete:disabled,\n",
              "  .colab-df-quickchart-complete:disabled:hover {\n",
              "    background-color: var(--disabled-bg-color);\n",
              "    fill: var(--disabled-fill-color);\n",
              "    box-shadow: none;\n",
              "  }\n",
              "\n",
              "  .colab-df-spinner {\n",
              "    border: 2px solid var(--fill-color);\n",
              "    border-color: transparent;\n",
              "    border-bottom-color: var(--fill-color);\n",
              "    animation:\n",
              "      spin 1s steps(1) infinite;\n",
              "  }\n",
              "\n",
              "  @keyframes spin {\n",
              "    0% {\n",
              "      border-color: transparent;\n",
              "      border-bottom-color: var(--fill-color);\n",
              "      border-left-color: var(--fill-color);\n",
              "    }\n",
              "    20% {\n",
              "      border-color: transparent;\n",
              "      border-left-color: var(--fill-color);\n",
              "      border-top-color: var(--fill-color);\n",
              "    }\n",
              "    30% {\n",
              "      border-color: transparent;\n",
              "      border-left-color: var(--fill-color);\n",
              "      border-top-color: var(--fill-color);\n",
              "      border-right-color: var(--fill-color);\n",
              "    }\n",
              "    40% {\n",
              "      border-color: transparent;\n",
              "      border-right-color: var(--fill-color);\n",
              "      border-top-color: var(--fill-color);\n",
              "    }\n",
              "    60% {\n",
              "      border-color: transparent;\n",
              "      border-right-color: var(--fill-color);\n",
              "    }\n",
              "    80% {\n",
              "      border-color: transparent;\n",
              "      border-right-color: var(--fill-color);\n",
              "      border-bottom-color: var(--fill-color);\n",
              "    }\n",
              "    90% {\n",
              "      border-color: transparent;\n",
              "      border-bottom-color: var(--fill-color);\n",
              "    }\n",
              "  }\n",
              "</style>\n",
              "\n",
              "  <script>\n",
              "    async function quickchart(key) {\n",
              "      const quickchartButtonEl =\n",
              "        document.querySelector('#' + key + ' button');\n",
              "      quickchartButtonEl.disabled = true;  // To prevent multiple clicks.\n",
              "      quickchartButtonEl.classList.add('colab-df-spinner');\n",
              "      try {\n",
              "        const charts = await google.colab.kernel.invokeFunction(\n",
              "            'suggestCharts', [key], {});\n",
              "      } catch (error) {\n",
              "        console.error('Error during call to suggestCharts:', error);\n",
              "      }\n",
              "      quickchartButtonEl.classList.remove('colab-df-spinner');\n",
              "      quickchartButtonEl.classList.add('colab-df-quickchart-complete');\n",
              "    }\n",
              "    (() => {\n",
              "      let quickchartButtonEl =\n",
              "        document.querySelector('#df-1794dd84-3b67-4bb1-920e-f24d027f80e7 button');\n",
              "      quickchartButtonEl.style.display =\n",
              "        google.colab.kernel.accessAllowed ? 'block' : 'none';\n",
              "    })();\n",
              "  </script>\n",
              "</div>\n",
              "\n",
              "  <div id=\"id_9ec0ab2f-912a-4230-a2f0-8dcdaeabeb24\">\n",
              "    <style>\n",
              "      .colab-df-generate {\n",
              "        background-color: #E8F0FE;\n",
              "        border: none;\n",
              "        border-radius: 50%;\n",
              "        cursor: pointer;\n",
              "        display: none;\n",
              "        fill: #1967D2;\n",
              "        height: 32px;\n",
              "        padding: 0 0 0 0;\n",
              "        width: 32px;\n",
              "      }\n",
              "\n",
              "      .colab-df-generate:hover {\n",
              "        background-color: #E2EBFA;\n",
              "        box-shadow: 0px 1px 2px rgba(60, 64, 67, 0.3), 0px 1px 3px 1px rgba(60, 64, 67, 0.15);\n",
              "        fill: #174EA6;\n",
              "      }\n",
              "\n",
              "      [theme=dark] .colab-df-generate {\n",
              "        background-color: #3B4455;\n",
              "        fill: #D2E3FC;\n",
              "      }\n",
              "\n",
              "      [theme=dark] .colab-df-generate:hover {\n",
              "        background-color: #434B5C;\n",
              "        box-shadow: 0px 1px 3px 1px rgba(0, 0, 0, 0.15);\n",
              "        filter: drop-shadow(0px 1px 2px rgba(0, 0, 0, 0.3));\n",
              "        fill: #FFFFFF;\n",
              "      }\n",
              "    </style>\n",
              "    <button class=\"colab-df-generate\" onclick=\"generateWithVariable('df_data_train')\"\n",
              "            title=\"Generate code using this dataframe.\"\n",
              "            style=\"display:none;\">\n",
              "\n",
              "  <svg xmlns=\"http://www.w3.org/2000/svg\" height=\"24px\"viewBox=\"0 0 24 24\"\n",
              "       width=\"24px\">\n",
              "    <path d=\"M7,19H8.4L18.45,9,17,7.55,7,17.6ZM5,21V16.75L18.45,3.32a2,2,0,0,1,2.83,0l1.4,1.43a1.91,1.91,0,0,1,.58,1.4,1.91,1.91,0,0,1-.58,1.4L9.25,21ZM18.45,9,17,7.55Zm-12,3A5.31,5.31,0,0,0,4.9,8.1,5.31,5.31,0,0,0,1,6.5,5.31,5.31,0,0,0,4.9,4.9,5.31,5.31,0,0,0,6.5,1,5.31,5.31,0,0,0,8.1,4.9,5.31,5.31,0,0,0,12,6.5,5.46,5.46,0,0,0,6.5,12Z\"/>\n",
              "  </svg>\n",
              "    </button>\n",
              "    <script>\n",
              "      (() => {\n",
              "      const buttonEl =\n",
              "        document.querySelector('#id_9ec0ab2f-912a-4230-a2f0-8dcdaeabeb24 button.colab-df-generate');\n",
              "      buttonEl.style.display =\n",
              "        google.colab.kernel.accessAllowed ? 'block' : 'none';\n",
              "\n",
              "      buttonEl.onclick = () => {\n",
              "        google.colab.notebook.generateWithVariable('df_data_train');\n",
              "      }\n",
              "      })();\n",
              "    </script>\n",
              "  </div>\n",
              "\n",
              "    </div>\n",
              "  </div>\n"
            ],
            "application/vnd.google.colaboratory.intrinsic+json": {
              "type": "dataframe",
              "variable_name": "df_data_train"
            }
          },
          "metadata": {},
          "execution_count": 37
        }
      ],
      "source": [
        "X_train"
      ]
    },
    {
      "cell_type": "code",
      "execution_count": 38,
      "id": "1d7786a4-c6f2-494b-853a-188bf3009bd6",
      "metadata": {
        "id": "1d7786a4-c6f2-494b-853a-188bf3009bd6"
      },
      "outputs": [],
      "source": [
        "#scaler = MinMaxScaler(feature_range=(0,255))\n",
        "scaler = MinMaxScaler()\n",
        "X_train = scaler.fit_transform(X_train)\n",
        "X_test = scaler.transform(X_test)"
      ]
    },
    {
      "cell_type": "code",
      "execution_count": 39,
      "id": "18661e1c-afe5-4687-a1fb-8fc7d00a3ab4",
      "metadata": {
        "colab": {
          "base_uri": "https://localhost:8080/"
        },
        "id": "18661e1c-afe5-4687-a1fb-8fc7d00a3ab4",
        "outputId": "309f4665-e1d3-4440-b094-1ab68d76e6b6"
      },
      "outputs": [
        {
          "output_type": "execute_result",
          "data": {
            "text/plain": [
              "array([[0.00000000e+00, 3.55806412e-07, 0.00000000e+00, ...,\n",
              "        0.00000000e+00, 1.00000000e+00, 0.00000000e+00],\n",
              "       [0.00000000e+00, 1.05799870e-07, 0.00000000e+00, ...,\n",
              "        0.00000000e+00, 1.00000000e+00, 0.00000000e+00],\n",
              "       [0.00000000e+00, 0.00000000e+00, 0.00000000e+00, ...,\n",
              "        0.00000000e+00, 0.00000000e+00, 0.00000000e+00],\n",
              "       ...,\n",
              "       [0.00000000e+00, 1.61670897e-06, 2.93143779e-07, ...,\n",
              "        0.00000000e+00, 1.00000000e+00, 0.00000000e+00],\n",
              "       [0.00000000e+00, 0.00000000e+00, 0.00000000e+00, ...,\n",
              "        0.00000000e+00, 0.00000000e+00, 0.00000000e+00],\n",
              "       [0.00000000e+00, 1.09423153e-07, 0.00000000e+00, ...,\n",
              "        0.00000000e+00, 1.00000000e+00, 0.00000000e+00]])"
            ]
          },
          "metadata": {},
          "execution_count": 39
        }
      ],
      "source": [
        "X_train"
      ]
    },
    {
      "cell_type": "code",
      "execution_count": 40,
      "id": "82b2968b-cc44-4ead-9cc7-da1b016b4434",
      "metadata": {
        "colab": {
          "base_uri": "https://localhost:8080/"
        },
        "id": "82b2968b-cc44-4ead-9cc7-da1b016b4434",
        "outputId": "b58b162f-5f4f-451b-ca8a-5154692ace14"
      },
      "outputs": [
        {
          "output_type": "execute_result",
          "data": {
            "text/plain": [
              "array([1, 1, 0, ..., 1, 0, 2])"
            ]
          },
          "metadata": {},
          "execution_count": 40
        }
      ],
      "source": [
        "y_test_mult.values"
      ]
    },
    {
      "cell_type": "code",
      "execution_count": 41,
      "id": "26f92553-ea6b-4fb1-b9c0-fa867edac11b",
      "metadata": {
        "id": "26f92553-ea6b-4fb1-b9c0-fa867edac11b"
      },
      "outputs": [],
      "source": [
        "# convert dataset into images\n",
        "# training dataset\n",
        "model_nsl = Tab2Img()\n",
        "images_mult_train = model_nsl.fit_transform(X_train, y_train_mult.values)"
      ]
    },
    {
      "cell_type": "code",
      "execution_count": 42,
      "id": "6ce3ed81-2887-4dd6-bd0b-dfce29f3dd67",
      "metadata": {
        "id": "6ce3ed81-2887-4dd6-bd0b-dfce29f3dd67"
      },
      "outputs": [],
      "source": [
        "# convert dataset into images\n",
        "# test dataset\n",
        "images_mult_test = model_nsl.transform(X_test)"
      ]
    },
    {
      "cell_type": "code",
      "execution_count": 43,
      "id": "280a662c-bd4e-4ff4-bd22-779756e24796",
      "metadata": {
        "colab": {
          "base_uri": "https://localhost:8080/",
          "height": 386
        },
        "id": "280a662c-bd4e-4ff4-bd22-779756e24796",
        "outputId": "44c65c16-af34-4099-f97c-3ef7c534bf91"
      },
      "outputs": [
        {
          "output_type": "display_data",
          "data": {
            "text/plain": [
              "<Figure size 640x480 with 18 Axes>"
            ],
            "image/png": "[encoded data removed]"
          },
          "metadata": {}
        }
      ],
      "source": [
        "# Visualize the dataset\n",
        "for i in range(18):\n",
        "    plt.subplot(3, 6, i+1)\n",
        "    plt.tight_layout()\n",
        "    plt.imshow(images_mult_train[i], cmap='gray', interpolation='none')\n",
        "    plt.title('class: {}'.format(y_train_mult.values[i]))\n",
        "    plt.yticks([])\n",
        "    plt.xticks([])"
      ]
    },
    {
      "cell_type": "code",
      "execution_count": 44,
      "id": "3653f174-afa2-4171-88ef-17b66d21635c",
      "metadata": {
        "colab": {
          "base_uri": "https://localhost:8080/",
          "height": 386
        },
        "id": "3653f174-afa2-4171-88ef-17b66d21635c",
        "outputId": "bea4e0e3-e481-46c4-ed60-14b0c08841b8"
      },
      "outputs": [
        {
          "output_type": "display_data",
          "data": {
            "text/plain": [
              "<Figure size 640x480 with 18 Axes>"
            ],
            "image/png": "[encoded data removed]"
          },
          "metadata": {}
        }
      ],
      "source": [
        "for i in range(18):\n",
        "    plt.subplot(3, 6, i+1)\n",
        "    plt.tight_layout()\n",
        "    plt.imshow(images_mult_test[i], cmap='gray', interpolation='none')\n",
        "    plt.title('class: {}'.format(y_test_mult.values[i]))\n",
        "    plt.yticks([])\n",
        "    plt.xticks([])"
      ]
    },
    {
      "cell_type": "code",
      "execution_count": 45,
      "id": "81fdf58c-97b2-44b6-a287-0a558a68f6cb",
      "metadata": {
        "colab": {
          "base_uri": "https://localhost:8080/"
        },
        "id": "81fdf58c-97b2-44b6-a287-0a558a68f6cb",
        "outputId": "b9b4a81f-1aec-49b1-c788-fe213a6b6bf9"
      },
      "outputs": [
        {
          "output_type": "execute_result",
          "data": {
            "text/plain": [
              "((125973, 12, 12), (22544, 12, 12))"
            ]
          },
          "metadata": {},
          "execution_count": 45
        }
      ],
      "source": [
        "images_mult_train.shape, images_mult_test.shape"
      ]
    },
    {
      "cell_type": "code",
      "execution_count": 46,
      "id": "979ff592-b9da-4ab7-a4ba-7c14cea55cf0",
      "metadata": {
        "id": "979ff592-b9da-4ab7-a4ba-7c14cea55cf0"
      },
      "outputs": [],
      "source": [
        "# reshaping\n",
        "X_train_f = images_mult_train.reshape(images_mult_train.shape[0], images_mult_train.shape[1],images_mult_train.shape[2], 1)\n",
        "X_test_f = images_mult_test.reshape(images_mult_test.shape[0],images_mult_test.shape[1],images_mult_test.shape[2], 1)"
      ]
    },
    {
      "cell_type": "code",
      "execution_count": 47,
      "id": "81cdf73b-ca80-4398-8226-e5316c4c82dc",
      "metadata": {
        "colab": {
          "base_uri": "https://localhost:8080/"
        },
        "id": "81cdf73b-ca80-4398-8226-e5316c4c82dc",
        "outputId": "9fc29f38-14f2-46b3-c716-28392731bb1c"
      },
      "outputs": [
        {
          "output_type": "execute_result",
          "data": {
            "text/plain": [
              "((125973, 12, 12, 1), (22544, 12, 12, 1))"
            ]
          },
          "metadata": {},
          "execution_count": 47
        }
      ],
      "source": [
        "X_train_f.shape, X_test_f.shape"
      ]
    },
    {
      "cell_type": "code",
      "execution_count": 48,
      "id": "1759021a-3d5e-42b4-998e-c81ce56edc49",
      "metadata": {
        "id": "1759021a-3d5e-42b4-998e-c81ce56edc49"
      },
      "outputs": [],
      "source": [
        "# scaling to [0,1]\n",
        "X_train_f = X_train_f/255\n",
        "X_test_f = X_test_f/255"
      ]
    },
    {
      "cell_type": "code",
      "execution_count": 49,
      "id": "84130452-c100-4fe3-9f7a-d45bf04962d3",
      "metadata": {
        "id": "84130452-c100-4fe3-9f7a-d45bf04962d3"
      },
      "outputs": [],
      "source": [
        "def get_cnn_model(dropout=0.45, learning_rate=0.01, decay=1e-6):\n",
        "  # multi-class classification\n",
        "\n",
        "  model_mult = Sequential()\n",
        "  model_mult.add(Conv2D(32,3,padding='same', input_shape=(12,12,1),activation='relu'))\n",
        "  model_mult.add(BatchNormalization())\n",
        "  model_mult.add(MaxPool2D((2,2)))\n",
        "\n",
        "  model_mult.add(Conv2D(64,3,padding='same',activation='relu'))\n",
        "  model_mult.add(BatchNormalization())\n",
        "  model_mult.add(MaxPool2D((2,2)))\n",
        "\n",
        "\n",
        "  model_mult.add(Conv2D(128,3,padding='same',activation='relu'))\n",
        "  model_mult.add(BatchNormalization())\n",
        "\n",
        "  model_mult.add(Flatten())\n",
        "  model_mult.add(Dense(1000, activation='relu'))\n",
        "  model_mult.add(Dropout(dropout))\n",
        "\n",
        "  model_mult.add(Dense(500, activation='relu'))\n",
        "  model_mult.add(Dropout(dropout))\n",
        "\n",
        "  model_mult.add(Dense(250, activation='relu'))\n",
        "  model_mult.add(Dropout(dropout))\n",
        "\n",
        "  model_mult.add(Dense(125, activation='relu'))\n",
        "  model_mult.add(Dropout(dropout))\n",
        "\n",
        "  model_mult.add(Dense(50, activation='relu'))\n",
        "  model_mult.add(Dropout(dropout))\n",
        "\n",
        "  model_mult.add(Dense(units=5, activation='softmax'))\n",
        "\n",
        "  optimizer = keras.optimizers.Adam(learning_rate=learning_rate, decay=decay)\n",
        "  model_mult.compile(loss='categorical_crossentropy', optimizer=optimizer,metrics=['accuracy'])\n",
        "\n",
        "  return model_mult"
      ]
    },
    {
      "cell_type": "code",
      "execution_count": 50,
      "id": "0be33bf4-1594-45c5-8a03-cf33478fa463",
      "metadata": {
        "id": "0be33bf4-1594-45c5-8a03-cf33478fa463"
      },
      "outputs": [],
      "source": [
        "# define early stopping\n",
        "early_stopping = EarlyStopping(monitor='val_loss', patience=9, restore_best_weights=True)"
      ]
    },
    {
      "cell_type": "code",
      "execution_count": 51,
      "id": "221f5c78-55df-4751-b85b-4bc60ec0de93",
      "metadata": {
        "id": "221f5c78-55df-4751-b85b-4bc60ec0de93"
      },
      "outputs": [],
      "source": [
        "'''\n",
        "batch_size = [32, 64, 128]\n",
        "dropout = [0.4, 0.45, 0.5]\n",
        "learning_rate = loguniform(1e-6, 1e-3)\n",
        "decay = loguniform(1e-7, 1e-4)\n",
        "epochs = 150\n",
        "'''\n",
        "\n",
        "'''\n",
        "param_dist = {\n",
        "    'learning_rate': uniform(0.001, 0.1),\n",
        "    'batch_size': randint(16, 256),\n",
        "    #'decay': loguniform(1e-6, 0.1),\n",
        "    'dropout': uniform(0.3, 0.5)\n",
        "}\n",
        "'''\n",
        "param_dist = {\n",
        "    'learning_rate': loguniform(1e-7, 1e-3),\n",
        "    'batch_size': [32, 64, 128, 256],\n",
        "    'decay': loguniform(1e-8, 1e-4),\n",
        "    'dropout': [0.4, 0.45, 0.5]\n",
        "}"
      ]
    },
    {
      "cell_type": "code",
      "execution_count": 52,
      "id": "a873d988-8cb7-4224-bc41-b3949a2a3c7f",
      "metadata": {
        "colab": {
          "base_uri": "https://localhost:8080/"
        },
        "id": "a873d988-8cb7-4224-bc41-b3949a2a3c7f",
        "outputId": "bbc8528a-9fc9-4d8f-d414-e98c5a4763f2"
      },
      "outputs": [
        {
          "output_type": "stream",
          "name": "stdout",
          "text": [
            "[INFO] initializing model...\n"
          ]
        },
        {
          "output_type": "stream",
          "name": "stderr",
          "text": [
            "<ipython-input-52-8b2144d2bb86>:3: DeprecationWarning: KerasClassifier is deprecated, use Sci-Keras (https://github.com/adriangb/scikeras) instead. See https://www.adriangb.com/scikeras/stable/migration.html for help migrating.\n",
            "  model = KerasClassifier(build_fn=get_cnn_model, verbose=1, epochs=100)\n"
          ]
        }
      ],
      "source": [
        "# tuning hyperparameters\n",
        "print('[INFO] initializing model...')\n",
        "model = KerasClassifier(build_fn=get_cnn_model, verbose=1, epochs=100)\n"
      ]
    },
    {
      "cell_type": "code",
      "execution_count": null,
      "id": "42c2d9f7-f511-48ad-940e-5fb719764a90",
      "metadata": {
        "colab": {
          "base_uri": "https://localhost:8080/"
        },
        "id": "42c2d9f7-f511-48ad-940e-5fb719764a90",
        "outputId": "5986bd2d-4ebf-4fe7-8533-a11336c0075a"
      },
      "outputs": [
        {
          "output_type": "stream",
          "name": "stdout",
          "text": [
            "[INFO] performing random search...\n"
          ]
        }
      ],
      "source": [
        "# random search with k-fold cross-validation\n",
        "print('[INFO] performing random search...')\n",
        "rand_search = RandomizedSearchCV(estimator=model, n_jobs=-1, cv=3,\n",
        "                                 param_distributions=param_dist,\n",
        "                                 scoring='accuracy')\n",
        "rand_results = rand_search.fit(X_train_f, y_train_mult_b)"
      ]
    },
    {
      "cell_type": "code",
      "execution_count": 1,
      "id": "213968d9-a0c9-47c8-b91f-2fb48d7ca4dd",
      "metadata": {
        "colab": {
          "base_uri": "https://localhost:8080/"
        },
        "id": "213968d9-a0c9-47c8-b91f-2fb48d7ca4dd",
        "outputId": "975ca57a-03f0-4b8a-ec66-57a71af50baa"
      },
      "outputs": [
        {
          "output_type": "stream",
          "name": "stdout",
          "text": [
            "Pretty printing has been turned OFF\n"
          ]
        }
      ],
      "source": [
        "pprint(rand_results.best_estimator_.get_params())"
      ]
    },
    {
      "cell_type": "code",
      "execution_count": null,
      "id": "66d46218-a850-4c7d-a36f-2bfe876191ad",
      "metadata": {
        "id": "66d46218-a850-4c7d-a36f-2bfe876191ad",
        "outputId": "2959c757-b907-4dff-c118-723c0bd5e818"
      },
      "outputs": [
        {
          "data": {
            "text/plain": [
              "{'batch_size': 32,\n",
              " 'decay': 5.061193489414997e-07,\n",
              " 'dropout': 0.5,\n",
              " 'learning_rate': 6.448231721948543e-05}"
            ]
          },
          "execution_count": 70,
          "metadata": {},
          "output_type": "execute_result"
        }
      ],
      "source": [
        "rand_results.best_params_"
      ]
    },
    {
      "cell_type": "code",
      "execution_count": null,
      "id": "678c3640-854a-4dbe-8d24-ccbccdcacc04",
      "metadata": {
        "id": "678c3640-854a-4dbe-8d24-ccbccdcacc04"
      },
      "outputs": [],
      "source": [
        "# run with the best parameters\n",
        "def get_cnn_model(dropout=0.5, learning_rate=6.448231721948543e-05, decay=5.061193489414997e-07):\n",
        "  # multi-class classification\n",
        "\n",
        "  model_mult = Sequential()\n",
        "  model_mult.add(Conv2D(32,3,padding='same', input_shape=(12,12,1),activation='relu'))\n",
        "  model_mult.add(BatchNormalization())\n",
        "  model_mult.add(MaxPool2D((2,2)))\n",
        "\n",
        "  model_mult.add(Conv2D(64,3,padding='same',activation='relu'))\n",
        "  model_mult.add(BatchNormalization())\n",
        "  model_mult.add(MaxPool2D((2,2)))\n",
        "\n",
        "\n",
        "  model_mult.add(Conv2D(128,3,padding='same',activation='relu'))\n",
        "  model_mult.add(BatchNormalization())\n",
        "\n",
        "  model_mult.add(Flatten())\n",
        "  model_mult.add(Dense(1000, activation='relu'))\n",
        "  model_mult.add(Dropout(dropout))\n",
        "\n",
        "  model_mult.add(Dense(500, activation='relu'))\n",
        "  model_mult.add(Dropout(dropout))\n",
        "\n",
        "  model_mult.add(Dense(250, activation='relu'))\n",
        "  model_mult.add(Dropout(dropout))\n",
        "\n",
        "  model_mult.add(Dense(125, activation='relu'))\n",
        "  model_mult.add(Dropout(dropout))\n",
        "\n",
        "  model_mult.add(Dense(50, activation='relu'))\n",
        "  model_mult.add(Dropout(dropout))\n",
        "\n",
        "  model_mult.add(Dense(units=5, activation='softmax'))\n",
        "\n",
        "  optimizer = keras.optimizers.Adam(learning_rate=learning_rate, decay=decay)\n",
        "  model_mult.compile(loss='categorical_crossentropy', optimizer=optimizer,metrics=['accuracy'])\n",
        "\n",
        "  return model_mult\n",
        "\n",
        "model_final = get_cnn_model()"
      ]
    },
    {
      "cell_type": "code",
      "execution_count": null,
      "id": "1879285d-83b7-4425-af3b-795744a892be",
      "metadata": {
        "id": "1879285d-83b7-4425-af3b-795744a892be",
        "outputId": "34c1bc91-7a84-4472-ffe7-502adba75613"
      },
      "outputs": [
        {
          "name": "stdout",
          "output_type": "stream",
          "text": [
            "Epoch 1/150\n",
            "3150/3150 [==============================] - 31s 10ms/step - loss: 0.0125 - accuracy: 0.9965 - val_loss: 0.0107 - val_accuracy: 0.9972\n",
            "Epoch 2/150\n",
            "3150/3150 [==============================] - 33s 10ms/step - loss: 0.0120 - accuracy: 0.9968 - val_loss: 0.0970 - val_accuracy: 0.9875\n",
            "Epoch 3/150\n",
            "3150/3150 [==============================] - 38s 12ms/step - loss: 0.0123 - accuracy: 0.9965 - val_loss: 0.5326 - val_accuracy: 0.9770\n",
            "Epoch 4/150\n",
            "3150/3150 [==============================] - 34s 11ms/step - loss: 0.0118 - accuracy: 0.9969 - val_loss: 14.2443 - val_accuracy: 0.8970\n",
            "Epoch 5/150\n",
            "3150/3150 [==============================] - 32s 10ms/step - loss: 0.0107 - accuracy: 0.9970 - val_loss: 0.1467 - val_accuracy: 0.9889\n",
            "Epoch 6/150\n",
            "3150/3150 [==============================] - 33s 11ms/step - loss: 0.0091 - accuracy: 0.9972 - val_loss: 2.5127 - val_accuracy: 0.9208\n",
            "Epoch 7/150\n",
            "3150/3150 [==============================] - 32s 10ms/step - loss: 0.0104 - accuracy: 0.9971 - val_loss: 83.1394 - val_accuracy: 0.6741\n",
            "Epoch 8/150\n",
            "3150/3150 [==============================] - 34s 11ms/step - loss: 0.0099 - accuracy: 0.9973 - val_loss: 2.9598 - val_accuracy: 0.9214\n",
            "Epoch 9/150\n",
            "3150/3150 [==============================] - 33s 11ms/step - loss: 0.0097 - accuracy: 0.9973 - val_loss: 0.4150 - val_accuracy: 0.9814\n",
            "Epoch 10/150\n",
            "3150/3150 [==============================] - 33s 11ms/step - loss: 0.0107 - accuracy: 0.9973 - val_loss: 0.1279 - val_accuracy: 0.9902\n"
          ]
        }
      ],
      "source": [
        "# change patience from 10 to 9\n",
        "# define early stopping\n",
        "early_stopping = EarlyStopping(monitor='val_loss', patience=9, restore_best_weights=True)\n",
        "\n",
        "# training the model with the best parameters\n",
        "history = model_final.fit(X_train_f, y_train_mult_b, epochs=150, batch_size=32,validation_split=0.2, shuffle=True, callbacks=[early_stopping])"
      ]
    },
    {
      "cell_type": "code",
      "execution_count": null,
      "id": "1b04fa4f-bebf-4db1-b9a3-56da8f844983",
      "metadata": {
        "id": "1b04fa4f-bebf-4db1-b9a3-56da8f844983",
        "outputId": "60c024d6-cc16-45dd-d452-12154fbb77f2"
      },
      "outputs": [
        {
          "name": "stdout",
          "output_type": "stream",
          "text": [
            "705/705 [==============================] - 2s 3ms/step - loss: 3.2785 - accuracy: 0.8160\n",
            "Test results\n",
            " Loss: 3.2785141468048096\n",
            " Accuracy: 81.59599304199219%\n"
          ]
        }
      ],
      "source": [
        "# predicting target on test data\n",
        "test_pred = model_final.evaluate(X_test_f, y_test_mult_b, verbose=1)\n",
        "print(f'Test results\\n Loss: {test_pred[0]}\\n Accuracy: {test_pred[1]*100}%')"
      ]
    },
    {
      "cell_type": "code",
      "execution_count": null,
      "id": "cd922578-9334-4eba-a96a-06585b04aa66",
      "metadata": {
        "id": "cd922578-9334-4eba-a96a-06585b04aa66",
        "outputId": "600daf20-aff5-48e4-fcbd-cec2fdee246c"
      },
      "outputs": [
        {
          "name": "stdout",
          "output_type": "stream",
          "text": [
            "705/705 [==============================] - 2s 3ms/step\n"
          ]
        }
      ],
      "source": [
        "# on test dataset\n",
        "y_pred = model_final.predict(X_test_f)"
      ]
    },
    {
      "cell_type": "code",
      "execution_count": null,
      "id": "0187f3fe-7325-4ea2-8520-52a5fbb8abd4",
      "metadata": {
        "id": "0187f3fe-7325-4ea2-8520-52a5fbb8abd4",
        "outputId": "12a6b9d8-adbf-4a33-e73a-e13ccfabd6c1"
      },
      "outputs": [
        {
          "name": "stdout",
          "output_type": "stream",
          "text": [
            "Classification Report on Test data\n",
            "               precision    recall  f1-score   support\n",
            "\n",
            "      Normal       0.77      0.92      0.84      9711\n",
            "         DoS       0.97      0.83      0.89      7458\n",
            "       Probe       0.64      0.74      0.68      2421\n",
            "         U2R       0.00      0.00      0.00       247\n",
            "         R2L       0.83      0.43      0.57      2707\n",
            "\n",
            "   micro avg       0.81      0.80      0.81     22544\n",
            "   macro avg       0.64      0.58      0.60     22544\n",
            "weighted avg       0.82      0.80      0.80     22544\n",
            " samples avg       0.80      0.80      0.80     22544\n",
            "\n"
          ]
        },
        {
          "name": "stderr",
          "output_type": "stream",
          "text": [
            "/home/lm/anaconda3/lib/python3.11/site-packages/sklearn/metrics/_classification.py:1469: UndefinedMetricWarning: Precision and F-score are ill-defined and being set to 0.0 in labels with no predicted samples. Use `zero_division` parameter to control this behavior.\n",
            "  _warn_prf(average, modifier, msg_start, len(result))\n",
            "/home/lm/anaconda3/lib/python3.11/site-packages/sklearn/metrics/_classification.py:1469: UndefinedMetricWarning: Precision and F-score are ill-defined and being set to 0.0 in samples with no predicted labels. Use `zero_division` parameter to control this behavior.\n",
            "  _warn_prf(average, modifier, msg_start, len(result))\n"
          ]
        }
      ],
      "source": [
        "# print the classification report on the test data\n",
        "\n",
        "class_names = ['Normal', 'DoS','Probe','U2R','R2L']\n",
        "y_rounded_pred = np.round(y_pred)\n",
        "print(\"Classification Report on Test data\\n\",\n",
        "     classification_report(y_test_mult_b, y_rounded_pred, target_names=class_names))"
      ]
    },
    {
      "cell_type": "code",
      "execution_count": null,
      "id": "e930b910-9f62-479f-870b-a44f38d987cc",
      "metadata": {
        "id": "e930b910-9f62-479f-870b-a44f38d987cc",
        "outputId": "de2661f7-b052-48bd-9566-c82bd5738a62"
      },
      "outputs": [
        {
          "data": {
            "image/png": "[encoded data removed]",
            "text/plain": [
              "<Figure size 640x480 with 2 Axes>"
            ]
          },
          "metadata": {},
          "output_type": "display_data"
        }
      ],
      "source": [
        "# view the confusion matrix for multi-class classification\n",
        "\n",
        "cm = confusion_matrix(y_test_mult_b.argmax(axis=1), y_rounded_pred.argmax(axis=1))\n",
        "cm_fig = ConfusionMatrixDisplay(confusion_matrix=cm, display_labels=class_names)\n",
        "cm_fig.plot(cmap=plt.cm.Blues)\n",
        "plt.title('Confusion Matrix for Multi-class')\n",
        "plt.savefig('confusion_matrix_multi-class_rs_100epochs_10patience.eps')\n",
        "plt.show()"
      ]
    },
    {
      "cell_type": "code",
      "execution_count": null,
      "id": "a1c8bc75-e544-479b-a349-7c6e2cd0f535",
      "metadata": {
        "id": "a1c8bc75-e544-479b-a349-7c6e2cd0f535"
      },
      "outputs": [],
      "source": []
    }
  ],
  "metadata": {
    "kernelspec": {
      "display_name": "Python 3",
      "name": "python3"
    },
    "language_info": {
      "codemirror_mode": {
        "name": "ipython",
        "version": 3
      },
      "file_extension": ".py",
      "mimetype": "text/x-python",
      "name": "python",
      "nbconvert_exporter": "python",
      "pygments_lexer": "ipython3",
      "version": "3.11.5"
    },
    "colab": {
      "provenance": [],
      "gpuType": "T4",
      "include_colab_link": true
    },
    "accelerator": "GPU"
  },
  "nbformat": 4,
  "nbformat_minor": 5
}