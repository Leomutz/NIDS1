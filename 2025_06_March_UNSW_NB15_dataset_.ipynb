{
  "cells": [
    {
      "cell_type": "markdown",
      "metadata": {
        "id": "view-in-github",
        "colab_type": "text"
      },
      "source": [
        "<a href=\"https://colab.research.google.com/github/Leomutz/NIDS1/blob/main/2025_06_March_UNSW_NB15_dataset_.ipynb\" target=\"_parent\"><img src=\"https://colab.research.google.com/assets/colab-badge.svg\" alt=\"Open In Colab\"/></a>"
      ]
    },
    {
      "cell_type": "code",
      "source": [
        "# Comet with Keras\n",
        "## install dependencies\n",
        "%pip install -U \"comet_ml>=3.44.0\""
      ],
      "metadata": {
        "colab": {
          "base_uri": "https://localhost:8080/"
        },
        "id": "jbqOY8627Mah",
        "outputId": "f66e15de-acbe-4b49-edc8-1d321c4685b2"
      },
      "id": "jbqOY8627Mah",
      "execution_count": null,
      "outputs": [
        {
          "output_type": "stream",
          "name": "stdout",
          "text": [
            "Collecting comet_ml>=3.44.0\n",
            "  Downloading comet_ml-3.49.4-py3-none-any.whl.metadata (4.1 kB)\n",
            "Collecting dulwich!=0.20.33,>=0.20.6 (from comet_ml>=3.44.0)\n",
            "  Downloading dulwich-0.22.8-cp311-cp311-manylinux_2_17_x86_64.manylinux2014_x86_64.whl.metadata (4.9 kB)\n",
            "Collecting everett<3.2.0,>=1.0.1 (from everett[ini]<3.2.0,>=1.0.1->comet_ml>=3.44.0)\n",
            "  Downloading everett-3.1.0-py2.py3-none-any.whl.metadata (17 kB)\n",
            "Requirement already satisfied: jsonschema!=3.1.0,>=2.6.0 in /usr/local/lib/python3.11/dist-packages (from comet_ml>=3.44.0) (4.23.0)\n",
            "Requirement already satisfied: psutil>=5.6.3 in /usr/local/lib/python3.11/dist-packages (from comet_ml>=3.44.0) (5.9.5)\n",
            "Collecting python-box<7.0.0 (from comet_ml>=3.44.0)\n",
            "  Downloading python_box-6.1.0-cp311-cp311-manylinux_2_17_x86_64.manylinux2014_x86_64.whl.metadata (7.8 kB)\n",
            "Requirement already satisfied: requests-toolbelt>=0.8.0 in /usr/local/lib/python3.11/dist-packages (from comet_ml>=3.44.0) (1.0.0)\n",
            "Requirement already satisfied: requests>=2.18.4 in /usr/local/lib/python3.11/dist-packages (from comet_ml>=3.44.0) (2.32.3)\n",
            "Requirement already satisfied: rich>=13.3.2 in /usr/local/lib/python3.11/dist-packages (from comet_ml>=3.44.0) (13.9.4)\n",
            "Collecting semantic-version>=2.8.0 (from comet_ml>=3.44.0)\n",
            "  Downloading semantic_version-2.10.0-py2.py3-none-any.whl.metadata (9.7 kB)\n",
            "Requirement already satisfied: sentry-sdk>=1.1.0 in /usr/local/lib/python3.11/dist-packages (from comet_ml>=3.44.0) (2.22.0)\n",
            "Collecting simplejson (from comet_ml>=3.44.0)\n",
            "  Downloading simplejson-3.20.1-cp311-cp311-manylinux_2_5_x86_64.manylinux1_x86_64.manylinux_2_17_x86_64.manylinux2014_x86_64.whl.metadata (3.2 kB)\n",
            "Requirement already satisfied: urllib3>=1.21.1 in /usr/local/lib/python3.11/dist-packages (from comet_ml>=3.44.0) (2.3.0)\n",
            "Requirement already satisfied: wrapt>=1.11.2 in /usr/local/lib/python3.11/dist-packages (from comet_ml>=3.44.0) (1.14.1)\n",
            "Collecting wurlitzer>=1.0.2 (from comet_ml>=3.44.0)\n",
            "  Downloading wurlitzer-3.1.1-py3-none-any.whl.metadata (2.5 kB)\n",
            "Collecting configobj (from everett[ini]<3.2.0,>=1.0.1->comet_ml>=3.44.0)\n",
            "  Downloading configobj-5.0.9-py2.py3-none-any.whl.metadata (3.2 kB)\n",
            "Requirement already satisfied: attrs>=22.2.0 in /usr/local/lib/python3.11/dist-packages (from jsonschema!=3.1.0,>=2.6.0->comet_ml>=3.44.0) (25.1.0)\n",
            "Requirement already satisfied: jsonschema-specifications>=2023.03.6 in /usr/local/lib/python3.11/dist-packages (from jsonschema!=3.1.0,>=2.6.0->comet_ml>=3.44.0) (2024.10.1)\n",
            "Requirement already satisfied: referencing>=0.28.4 in /usr/local/lib/python3.11/dist-packages (from jsonschema!=3.1.0,>=2.6.0->comet_ml>=3.44.0) (0.36.2)\n",
            "Requirement already satisfied: rpds-py>=0.7.1 in /usr/local/lib/python3.11/dist-packages (from jsonschema!=3.1.0,>=2.6.0->comet_ml>=3.44.0) (0.23.1)\n",
            "Requirement already satisfied: charset-normalizer<4,>=2 in /usr/local/lib/python3.11/dist-packages (from requests>=2.18.4->comet_ml>=3.44.0) (3.4.1)\n",
            "Requirement already satisfied: idna<4,>=2.5 in /usr/local/lib/python3.11/dist-packages (from requests>=2.18.4->comet_ml>=3.44.0) (3.10)\n",
            "Requirement already satisfied: certifi>=2017.4.17 in /usr/local/lib/python3.11/dist-packages (from requests>=2.18.4->comet_ml>=3.44.0) (2025.1.31)\n",
            "Requirement already satisfied: markdown-it-py>=2.2.0 in /usr/local/lib/python3.11/dist-packages (from rich>=13.3.2->comet_ml>=3.44.0) (3.0.0)\n",
            "Requirement already satisfied: pygments<3.0.0,>=2.13.0 in /usr/local/lib/python3.11/dist-packages (from rich>=13.3.2->comet_ml>=3.44.0) (2.18.0)\n",
            "Requirement already satisfied: mdurl~=0.1 in /usr/local/lib/python3.11/dist-packages (from markdown-it-py>=2.2.0->rich>=13.3.2->comet_ml>=3.44.0) (0.1.2)\n",
            "Requirement already satisfied: typing-extensions>=4.4.0 in /usr/local/lib/python3.11/dist-packages (from referencing>=0.28.4->jsonschema!=3.1.0,>=2.6.0->comet_ml>=3.44.0) (4.12.2)\n",
            "Downloading comet_ml-3.49.4-py3-none-any.whl (723 kB)\n",
            "\u001b[2K   \u001b[90m━━━━━━━━━━━━━━━━━━━━━━━━━━━━━━━━━━━━━━━━\u001b[0m \u001b[32m723.1/723.1 kB\u001b[0m \u001b[31m41.2 MB/s\u001b[0m eta \u001b[36m0:00:00\u001b[0m\n",
            "\u001b[?25hDownloading dulwich-0.22.8-cp311-cp311-manylinux_2_17_x86_64.manylinux2014_x86_64.whl (1.0 MB)\n",
            "\u001b[2K   \u001b[90m━━━━━━━━━━━━━━━━━━━━━━━━━━━━━━━━━━━━━━━━\u001b[0m \u001b[32m1.0/1.0 MB\u001b[0m \u001b[31m56.8 MB/s\u001b[0m eta \u001b[36m0:00:00\u001b[0m\n",
            "\u001b[?25hDownloading everett-3.1.0-py2.py3-none-any.whl (35 kB)\n",
            "Downloading python_box-6.1.0-cp311-cp311-manylinux_2_17_x86_64.manylinux2014_x86_64.whl (3.5 MB)\n",
            "\u001b[2K   \u001b[90m━━━━━━━━━━━━━━━━━━━━━━━━━━━━━━━━━━━━━━━━\u001b[0m \u001b[32m3.5/3.5 MB\u001b[0m \u001b[31m91.5 MB/s\u001b[0m eta \u001b[36m0:00:00\u001b[0m\n",
            "\u001b[?25hDownloading semantic_version-2.10.0-py2.py3-none-any.whl (15 kB)\n",
            "Downloading wurlitzer-3.1.1-py3-none-any.whl (8.6 kB)\n",
            "Downloading simplejson-3.20.1-cp311-cp311-manylinux_2_5_x86_64.manylinux1_x86_64.manylinux_2_17_x86_64.manylinux2014_x86_64.whl (144 kB)\n",
            "\u001b[2K   \u001b[90m━━━━━━━━━━━━━━━━━━━━━━━━━━━━━━━━━━━━━━━━\u001b[0m \u001b[32m144.8/144.8 kB\u001b[0m \u001b[31m14.8 MB/s\u001b[0m eta \u001b[36m0:00:00\u001b[0m\n",
            "\u001b[?25hDownloading configobj-5.0.9-py2.py3-none-any.whl (35 kB)\n",
            "Installing collected packages: everett, wurlitzer, simplejson, semantic-version, python-box, dulwich, configobj, comet_ml\n",
            "  Attempting uninstall: python-box\n",
            "    Found existing installation: python-box 7.3.2\n",
            "    Uninstalling python-box-7.3.2:\n",
            "      Successfully uninstalled python-box-7.3.2\n",
            "Successfully installed comet_ml-3.49.4 configobj-5.0.9 dulwich-0.22.8 everett-3.1.0 python-box-6.1.0 semantic-version-2.10.0 simplejson-3.20.1 wurlitzer-3.1.1\n"
          ]
        }
      ]
    },
    {
      "cell_type": "code",
      "source": [
        "# Comet login\n",
        "import comet_ml\n",
        "\n",
        "comet_ml.login()"
      ],
      "metadata": {
        "colab": {
          "base_uri": "https://localhost:8080/"
        },
        "id": "pfi0rpb-7QPm",
        "outputId": "c7defc14-cfe6-402a-e9a6-1dec4586d5d6"
      },
      "id": "pfi0rpb-7QPm",
      "execution_count": null,
      "outputs": [
        {
          "name": "stdout",
          "output_type": "stream",
          "text": [
            "Please paste your Comet API key from https://www.comet.com/api/my/settings/\n",
            "(api key may not show as you type)\n",
            "Comet API key: ··········\n"
          ]
        },
        {
          "output_type": "stream",
          "name": "stderr",
          "text": [
            "\u001b[1;38;5;39mCOMET INFO:\u001b[0m Valid Comet API Key saved in /root/.comet.config (set COMET_CONFIG to change where it is saved).\n"
          ]
        }
      ]
    },
    {
      "cell_type": "code",
      "source": [
        "# Comet experiment\n",
        "experiment = comet_ml.start(\n",
        "    project_name = \"comet-Alexnet-notebook\",\n",
        "    experiment_config = comet_ml.ExperimentConfig(\n",
        "        auto_histogram_activation_logging=True,\n",
        "        auto_histogram_weight_logging=True,\n",
        "        auto_param_logging=True,\n",
        "        auto_histogram_gradient_logging=True,\n",
        "    )\n",
        ")"
      ],
      "metadata": {
        "colab": {
          "base_uri": "https://localhost:8080/"
        },
        "id": "VveJ0ZDN7Um7",
        "outputId": "6d90f012-5da6-4985-e554-336df0511565"
      },
      "id": "VveJ0ZDN7Um7",
      "execution_count": null,
      "outputs": [
        {
          "output_type": "stream",
          "name": "stderr",
          "text": [
            "\u001b[1;38;5;214mCOMET WARNING:\u001b[0m To get all data logged automatically, import comet_ml before the following modules: keras, tensorboard, tensorflow, sklearn.\n",
            "\u001b[1;38;5;214mCOMET WARNING:\u001b[0m As you are running in a Jupyter environment, you will need to call `experiment.end()` when finished to ensure all metrics and code are logged before exiting.\n",
            "\u001b[1;38;5;39mCOMET INFO:\u001b[0m Experiment is live on comet.com https://www.comet.com/aimldl20234-gmail-com/comet-alexnet-notebook/20600166f8654664877556e079dde365\n",
            "\n"
          ]
        }
      ]
    },
    {
      "cell_type": "code",
      "execution_count": null,
      "id": "f733e8eb-8c86-4a0a-8783-f8928f068d33",
      "metadata": {
        "id": "f733e8eb-8c86-4a0a-8783-f8928f068d33"
      },
      "outputs": [],
      "source": [
        "import numpy as np\n",
        "import pandas as pd\n",
        "import matplotlib.pyplot as plt\n",
        "import seaborn as sns"
      ]
    },
    {
      "cell_type": "code",
      "execution_count": null,
      "id": "3f118451-4971-4950-a5cb-ed722cbd898f",
      "metadata": {
        "colab": {
          "base_uri": "https://localhost:8080/"
        },
        "id": "3f118451-4971-4950-a5cb-ed722cbd898f",
        "outputId": "b5e59cce-5999-4d8a-d187-73453504b78a"
      },
      "outputs": [
        {
          "output_type": "stream",
          "name": "stdout",
          "text": [
            "Requirement already satisfied: tab2img in /usr/local/lib/python3.11/dist-packages (0.0.2)\n",
            "Requirement already satisfied: tensorflow==2.12.0 in /usr/local/lib/python3.11/dist-packages (2.12.0)\n",
            "Requirement already satisfied: absl-py>=1.0.0 in /usr/local/lib/python3.11/dist-packages (from tensorflow==2.12.0) (1.4.0)\n",
            "Requirement already satisfied: astunparse>=1.6.0 in /usr/local/lib/python3.11/dist-packages (from tensorflow==2.12.0) (1.6.3)\n",
            "Requirement already satisfied: flatbuffers>=2.0 in /usr/local/lib/python3.11/dist-packages (from tensorflow==2.12.0) (25.2.10)\n",
            "Requirement already satisfied: gast<=0.4.0,>=0.2.1 in /usr/local/lib/python3.11/dist-packages (from tensorflow==2.12.0) (0.4.0)\n",
            "Requirement already satisfied: google-pasta>=0.1.1 in /usr/local/lib/python3.11/dist-packages (from tensorflow==2.12.0) (0.2.0)\n",
            "Requirement already satisfied: grpcio<2.0,>=1.24.3 in /usr/local/lib/python3.11/dist-packages (from tensorflow==2.12.0) (1.70.0)\n",
            "Requirement already satisfied: h5py>=2.9.0 in /usr/local/lib/python3.11/dist-packages (from tensorflow==2.12.0) (3.12.1)\n",
            "Requirement already satisfied: jax>=0.3.15 in /usr/local/lib/python3.11/dist-packages (from tensorflow==2.12.0) (0.4.30)\n",
            "Requirement already satisfied: keras<2.13,>=2.12.0 in /usr/local/lib/python3.11/dist-packages (from tensorflow==2.12.0) (2.12.0)\n",
            "Requirement already satisfied: libclang>=13.0.0 in /usr/local/lib/python3.11/dist-packages (from tensorflow==2.12.0) (18.1.1)\n",
            "Requirement already satisfied: numpy<1.24,>=1.22 in /usr/local/lib/python3.11/dist-packages (from tensorflow==2.12.0) (1.23.5)\n",
            "Requirement already satisfied: opt-einsum>=2.3.2 in /usr/local/lib/python3.11/dist-packages (from tensorflow==2.12.0) (3.4.0)\n",
            "Requirement already satisfied: packaging in /usr/local/lib/python3.11/dist-packages (from tensorflow==2.12.0) (24.2)\n",
            "Requirement already satisfied: protobuf!=4.21.0,!=4.21.1,!=4.21.2,!=4.21.3,!=4.21.4,!=4.21.5,<5.0.0dev,>=3.20.3 in /usr/local/lib/python3.11/dist-packages (from tensorflow==2.12.0) (4.25.6)\n",
            "Requirement already satisfied: setuptools in /usr/local/lib/python3.11/dist-packages (from tensorflow==2.12.0) (75.1.0)\n",
            "Requirement already satisfied: six>=1.12.0 in /usr/local/lib/python3.11/dist-packages (from tensorflow==2.12.0) (1.17.0)\n",
            "Requirement already satisfied: tensorboard<2.13,>=2.12 in /usr/local/lib/python3.11/dist-packages (from tensorflow==2.12.0) (2.12.3)\n",
            "Requirement already satisfied: tensorflow-estimator<2.13,>=2.12.0 in /usr/local/lib/python3.11/dist-packages (from tensorflow==2.12.0) (2.12.0)\n",
            "Requirement already satisfied: termcolor>=1.1.0 in /usr/local/lib/python3.11/dist-packages (from tensorflow==2.12.0) (2.5.0)\n",
            "Requirement already satisfied: typing-extensions>=3.6.6 in /usr/local/lib/python3.11/dist-packages (from tensorflow==2.12.0) (4.12.2)\n",
            "Requirement already satisfied: wrapt<1.15,>=1.11.0 in /usr/local/lib/python3.11/dist-packages (from tensorflow==2.12.0) (1.14.1)\n",
            "Requirement already satisfied: tensorflow-io-gcs-filesystem>=0.23.1 in /usr/local/lib/python3.11/dist-packages (from tensorflow==2.12.0) (0.37.1)\n",
            "Requirement already satisfied: wheel<1.0,>=0.23.0 in /usr/local/lib/python3.11/dist-packages (from astunparse>=1.6.0->tensorflow==2.12.0) (0.45.1)\n",
            "Requirement already satisfied: jaxlib<=0.4.30,>=0.4.27 in /usr/local/lib/python3.11/dist-packages (from jax>=0.3.15->tensorflow==2.12.0) (0.4.30)\n",
            "Requirement already satisfied: ml-dtypes>=0.2.0 in /usr/local/lib/python3.11/dist-packages (from jax>=0.3.15->tensorflow==2.12.0) (0.4.1)\n",
            "Requirement already satisfied: scipy>=1.9 in /usr/local/lib/python3.11/dist-packages (from jax>=0.3.15->tensorflow==2.12.0) (1.13.1)\n",
            "Requirement already satisfied: google-auth<3,>=1.6.3 in /usr/local/lib/python3.11/dist-packages (from tensorboard<2.13,>=2.12->tensorflow==2.12.0) (2.38.0)\n",
            "Requirement already satisfied: google-auth-oauthlib<1.1,>=0.5 in /usr/local/lib/python3.11/dist-packages (from tensorboard<2.13,>=2.12->tensorflow==2.12.0) (1.0.0)\n",
            "Requirement already satisfied: markdown>=2.6.8 in /usr/local/lib/python3.11/dist-packages (from tensorboard<2.13,>=2.12->tensorflow==2.12.0) (3.7)\n",
            "Requirement already satisfied: requests<3,>=2.21.0 in /usr/local/lib/python3.11/dist-packages (from tensorboard<2.13,>=2.12->tensorflow==2.12.0) (2.32.3)\n",
            "Requirement already satisfied: tensorboard-data-server<0.8.0,>=0.7.0 in /usr/local/lib/python3.11/dist-packages (from tensorboard<2.13,>=2.12->tensorflow==2.12.0) (0.7.2)\n",
            "Requirement already satisfied: werkzeug>=1.0.1 in /usr/local/lib/python3.11/dist-packages (from tensorboard<2.13,>=2.12->tensorflow==2.12.0) (3.1.3)\n",
            "Requirement already satisfied: cachetools<6.0,>=2.0.0 in /usr/local/lib/python3.11/dist-packages (from google-auth<3,>=1.6.3->tensorboard<2.13,>=2.12->tensorflow==2.12.0) (5.5.2)\n",
            "Requirement already satisfied: pyasn1-modules>=0.2.1 in /usr/local/lib/python3.11/dist-packages (from google-auth<3,>=1.6.3->tensorboard<2.13,>=2.12->tensorflow==2.12.0) (0.4.1)\n",
            "Requirement already satisfied: rsa<5,>=3.1.4 in /usr/local/lib/python3.11/dist-packages (from google-auth<3,>=1.6.3->tensorboard<2.13,>=2.12->tensorflow==2.12.0) (4.9)\n",
            "Requirement already satisfied: requests-oauthlib>=0.7.0 in /usr/local/lib/python3.11/dist-packages (from google-auth-oauthlib<1.1,>=0.5->tensorboard<2.13,>=2.12->tensorflow==2.12.0) (2.0.0)\n",
            "Requirement already satisfied: charset-normalizer<4,>=2 in /usr/local/lib/python3.11/dist-packages (from requests<3,>=2.21.0->tensorboard<2.13,>=2.12->tensorflow==2.12.0) (3.4.1)\n",
            "Requirement already satisfied: idna<4,>=2.5 in /usr/local/lib/python3.11/dist-packages (from requests<3,>=2.21.0->tensorboard<2.13,>=2.12->tensorflow==2.12.0) (3.10)\n",
            "Requirement already satisfied: urllib3<3,>=1.21.1 in /usr/local/lib/python3.11/dist-packages (from requests<3,>=2.21.0->tensorboard<2.13,>=2.12->tensorflow==2.12.0) (2.3.0)\n",
            "Requirement already satisfied: certifi>=2017.4.17 in /usr/local/lib/python3.11/dist-packages (from requests<3,>=2.21.0->tensorboard<2.13,>=2.12->tensorflow==2.12.0) (2025.1.31)\n",
            "Requirement already satisfied: MarkupSafe>=2.1.1 in /usr/local/lib/python3.11/dist-packages (from werkzeug>=1.0.1->tensorboard<2.13,>=2.12->tensorflow==2.12.0) (3.0.2)\n",
            "Requirement already satisfied: pyasn1<0.7.0,>=0.4.6 in /usr/local/lib/python3.11/dist-packages (from pyasn1-modules>=0.2.1->google-auth<3,>=1.6.3->tensorboard<2.13,>=2.12->tensorflow==2.12.0) (0.6.1)\n",
            "Requirement already satisfied: oauthlib>=3.0.0 in /usr/local/lib/python3.11/dist-packages (from requests-oauthlib>=0.7.0->google-auth-oauthlib<1.1,>=0.5->tensorboard<2.13,>=2.12->tensorflow==2.12.0) (3.2.2)\n",
            "Collecting tensorrt\n",
            "  Using cached tensorrt-10.9.0.34.tar.gz (40 kB)\n",
            "  Preparing metadata (setup.py) ... \u001b[?25l\u001b[?25hdone\n",
            "Collecting tensorrt_cu12==10.9.0.34 (from tensorrt)\n",
            "  Using cached tensorrt_cu12-10.9.0.34.tar.gz (18 kB)\n",
            "  Preparing metadata (setup.py) ... \u001b[?25l\u001b[?25hdone\n",
            "Collecting tensorrt_cu12_libs==10.9.0.34 (from tensorrt_cu12==10.9.0.34->tensorrt)\n",
            "  Using cached tensorrt_cu12_libs-10.9.0.34.tar.gz (704 bytes)\n",
            "  Installing build dependencies ... \u001b[?25l\u001b[?25hdone\n",
            "  Getting requirements to build wheel ... \u001b[?25l\u001b[?25hdone\n",
            "  Preparing metadata (pyproject.toml) ... \u001b[?25l\u001b[?25hdone\n",
            "Collecting tensorrt_cu12_bindings==10.9.0.34 (from tensorrt_cu12==10.9.0.34->tensorrt)\n",
            "  Downloading tensorrt_cu12_bindings-10.9.0.34-cp311-none-manylinux_2_28_x86_64.whl.metadata (606 bytes)\n",
            "Requirement already satisfied: nvidia-cuda-runtime-cu12 in /usr/local/lib/python3.11/dist-packages (from tensorrt_cu12_libs==10.9.0.34->tensorrt_cu12==10.9.0.34->tensorrt) (12.5.82)\n",
            "Downloading tensorrt_cu12_bindings-10.9.0.34-cp311-none-manylinux_2_28_x86_64.whl (1.2 MB)\n",
            "\u001b[2K   \u001b[90m━━━━━━━━━━━━━━━━━━━━━━━━━━━━━━━━━━━━━━━━\u001b[0m \u001b[32m1.2/1.2 MB\u001b[0m \u001b[31m54.3 MB/s\u001b[0m eta \u001b[36m0:00:00\u001b[0m\n",
            "\u001b[?25hBuilding wheels for collected packages: tensorrt, tensorrt_cu12, tensorrt_cu12_libs\n",
            "  Building wheel for tensorrt (setup.py) ... \u001b[?25l\u001b[?25hdone\n",
            "  Created wheel for tensorrt: filename=tensorrt-10.9.0.34-py2.py3-none-any.whl size=46629 sha256=fef91b341e38a594e23473b7e9d540aeecca1c5b61c30dc272723a3ddcb6b954\n",
            "  Stored in directory: /root/.cache/pip/wheels/3a/4d/72/f28cb367f1435d026243047d4f60fde8f1c9cbb06a204f842f\n",
            "  Building wheel for tensorrt_cu12 (setup.py) ... \u001b[?25l\u001b[?25hdone\n",
            "  Created wheel for tensorrt_cu12: filename=tensorrt_cu12-10.9.0.34-py2.py3-none-any.whl size=17465 sha256=989c44a26b60e2fb2b75a142ad6b64ef096654ed6dd40b919dcf722905cc45e3\n",
            "  Stored in directory: /root/.cache/pip/wheels/75/09/76/6b405075fe4c04097f5713ec0a688df7892aaee823bc141952\n",
            "  Building wheel for tensorrt_cu12_libs (pyproject.toml) ... \u001b[?25l\u001b[?25hdone\n",
            "  Created wheel for tensorrt_cu12_libs: filename=tensorrt_cu12_libs-10.9.0.34-py2.py3-none-manylinux_2_28_x86_64.whl size=3103291777 sha256=4a82f0bda2874596f202f6edc8dae99b86a3c4ec2fa142a9c847c4d3a57864a0\n",
            "  Stored in directory: /root/.cache/pip/wheels/33/d0/06/35d7b3006eead25828debb658da848328ebfd38962a2bcd096\n",
            "Successfully built tensorrt tensorrt_cu12 tensorrt_cu12_libs\n",
            "Installing collected packages: tensorrt_cu12_bindings, tensorrt_cu12_libs, tensorrt_cu12, tensorrt\n",
            "Successfully installed tensorrt-10.9.0.34 tensorrt_cu12-10.9.0.34 tensorrt_cu12_bindings-10.9.0.34 tensorrt_cu12_libs-10.9.0.34\n"
          ]
        }
      ],
      "source": [
        "!pip install tab2img\n",
        "!pip install tensorflow==2.12.0\n",
        "#!pip install prettytable\n",
        "!pip install tensorrt"
      ]
    },
    {
      "cell_type": "code",
      "execution_count": null,
      "id": "95a4ee12-e3da-427f-b792-c980525bab43",
      "metadata": {
        "id": "95a4ee12-e3da-427f-b792-c980525bab43"
      },
      "outputs": [],
      "source": [
        "import time\n",
        "import json\n",
        "import keras\n",
        "from keras.models import Sequential\n",
        "from keras.layers import Dense, Dropout\n",
        "from keras.layers import Conv1D, MaxPool1D, Flatten\n",
        "from keras.layers import Conv2D, MaxPool2D\n",
        "from keras.layers import BatchNormalization\n",
        "from tensorflow.keras.callbacks import EarlyStopping\n",
        "from sklearn.model_selection import train_test_split\n",
        "from sklearn.metrics import confusion_matrix, ConfusionMatrixDisplay\n",
        "from sklearn.metrics import classification_report\n",
        "from sklearn.preprocessing import LabelBinarizer, MinMaxScaler\n",
        "from tab2img.converter import Tab2Img\n",
        "from sklearn.preprocessing import OneHotEncoder\n",
        "from sklearn.model_selection import cross_validate\n",
        "from sklearn.model_selection import GridSearchCV\n",
        "from sklearn.model_selection import RandomizedSearchCV\n",
        "from tensorflow.keras.wrappers.scikit_learn import KerasClassifier\n",
        "from prettytable import PrettyTable\n",
        "from scipy.stats import loguniform, randint, uniform\n",
        "from pprint import pprint\n",
        "\n",
        "from keras.regularizers import l2\n",
        "#keras.utils.set_random_seed(812)\n",
        "\n",
        "from sklearn.model_selection import KFold"
      ]
    },
    {
      "cell_type": "code",
      "execution_count": null,
      "id": "245c90e1-1b28-4786-8120-7b0118b75568",
      "metadata": {
        "colab": {
          "base_uri": "https://localhost:8080/"
        },
        "id": "245c90e1-1b28-4786-8120-7b0118b75568",
        "outputId": "afc2c0a0-2af5-4d41-cb98-980360c7c5b3"
      },
      "outputs": [
        {
          "output_type": "execute_result",
          "data": {
            "text/plain": [
              "((175341, 45), (82332, 45))"
            ]
          },
          "metadata": {},
          "execution_count": 67
        }
      ],
      "source": [
        "# load the dataset\n",
        "df_train = pd.read_csv(\"UNSW_NB15_training-set.csv\")\n",
        "df_test = pd.read_csv(\"UNSW_NB15_testing-set.csv\")\n",
        "\n",
        "df_train.shape, df_test.shape"
      ]
    },
    {
      "cell_type": "code",
      "execution_count": null,
      "id": "adc3529f-fd01-4ec3-9d15-8cabfbd831a8",
      "metadata": {
        "id": "adc3529f-fd01-4ec3-9d15-8cabfbd831a8"
      },
      "outputs": [],
      "source": [
        "# irrelevant features need to be removed\n",
        "# 'id' is to be removed and 'attact_cat' is to be removed b'se it is represented by 'label'\n",
        "column_drop = ['id', 'attack_cat']\n",
        "df_train.drop(column_drop, axis=1, inplace=True)\n",
        "df_test.drop(column_drop, axis=1, inplace=True)"
      ]
    },
    {
      "cell_type": "code",
      "execution_count": null,
      "id": "5ce9d6a9-3057-41d3-9232-bbc79c1dd33d",
      "metadata": {
        "colab": {
          "base_uri": "https://localhost:8080/"
        },
        "id": "5ce9d6a9-3057-41d3-9232-bbc79c1dd33d",
        "outputId": "251ed898-6a2b-416f-b9e4-a49598571665"
      },
      "outputs": [
        {
          "output_type": "execute_result",
          "data": {
            "text/plain": [
              "((175341, 43), (82332, 43))"
            ]
          },
          "metadata": {},
          "execution_count": 69
        }
      ],
      "source": [
        "#df_train.describe(include='all')\n",
        "df_train.shape, df_test.shape"
      ]
    },
    {
      "cell_type": "code",
      "execution_count": null,
      "id": "35f148db-2615-47f4-abb2-36626cf15fe5",
      "metadata": {
        "colab": {
          "base_uri": "https://localhost:8080/"
        },
        "id": "35f148db-2615-47f4-abb2-36626cf15fe5",
        "outputId": "3d330039-f8ef-4e69-e5ae-148870c98c9d"
      },
      "outputs": [
        {
          "output_type": "execute_result",
          "data": {
            "text/plain": [
              "(False, False)"
            ]
          },
          "metadata": {},
          "execution_count": 70
        }
      ],
      "source": [
        "# identify the missing values\n",
        "df_train.isnull().values.any(), df_test.isnull().values.any()"
      ]
    },
    {
      "cell_type": "code",
      "execution_count": null,
      "id": "673a2d18-0040-4588-984e-f1dbad1bb7e5",
      "metadata": {
        "id": "673a2d18-0040-4588-984e-f1dbad1bb7e5"
      },
      "outputs": [],
      "source": [
        "#get binary columns\n",
        "#binary_train = [col for col in df_train if (len(df_train[col].value_counts()) > 0) & all(df_train[col].value_counts().index.isin([0, 1]))]\n",
        "#binary_test = [col for col in df_test if (len(df_test[col].value_counts()) > 0) & all(df_test[col].value_counts().index.isin([0, 1]))]\n",
        "\n",
        "#print(f'Binary columns in:\\n Training dataset are: {len(binary_train)}\\n Testing dataset are: {len(binary_test)}')"
      ]
    },
    {
      "cell_type": "code",
      "execution_count": null,
      "id": "584e1098-798b-4f25-b82a-3f5dc3074949",
      "metadata": {
        "id": "584e1098-798b-4f25-b82a-3f5dc3074949"
      },
      "outputs": [],
      "source": [
        "#discrete_train = df_train.select_dtypes(include=['int']).columns.tolist()\n",
        "#continuous_train = df_train.select_dtypes(include=['float']).columns.tolist()\n",
        "\n",
        "#print('Dicrete data', len(discrete_train))\n",
        "#print('Continuous data',len(continuous_train))"
      ]
    },
    {
      "cell_type": "code",
      "execution_count": null,
      "id": "ac5690ab-0b8f-4783-9fa3-a7f6bec0b78f",
      "metadata": {
        "colab": {
          "base_uri": "https://localhost:8080/"
        },
        "id": "ac5690ab-0b8f-4783-9fa3-a7f6bec0b78f",
        "outputId": "c6e8e14b-326f-4609-c659-089a8d3f34e7"
      },
      "outputs": [
        {
          "output_type": "stream",
          "name": "stdout",
          "text": [
            "Categorical columns in:\n",
            " Training dataset are: 3\n",
            " Testing dataset are: 3\n"
          ]
        }
      ],
      "source": [
        "#get categorical columns\n",
        "cat_train = df_train.select_dtypes(include=['object']).columns.tolist()\n",
        "cat_test = df_test.select_dtypes(include=['object']).columns.tolist()\n",
        "print(f'Categorical columns in:\\n Training dataset are: {len(cat_train)}\\n Testing dataset are: {len(cat_test)}')"
      ]
    },
    {
      "cell_type": "code",
      "execution_count": null,
      "id": "9d71e252-1f53-4ae0-a24b-6c7c414e5c32",
      "metadata": {
        "colab": {
          "base_uri": "https://localhost:8080/"
        },
        "id": "9d71e252-1f53-4ae0-a24b-6c7c414e5c32",
        "outputId": "c13b11ad-9e68-4091-9157-5d3ad168fc7f"
      },
      "outputs": [
        {
          "output_type": "execute_result",
          "data": {
            "text/plain": [
              "(['proto', 'service', 'state'], ['proto', 'service', 'state'])"
            ]
          },
          "metadata": {},
          "execution_count": 72
        }
      ],
      "source": [
        "# categorical columns\n",
        "cat_train, cat_test"
      ]
    },
    {
      "cell_type": "code",
      "execution_count": null,
      "id": "45109c78-be98-450a-95b0-b8b526851a62",
      "metadata": {
        "id": "45109c78-be98-450a-95b0-b8b526851a62"
      },
      "outputs": [],
      "source": [
        "oh= OneHotEncoder(sparse_output=False, handle_unknown=\"ignore\").set_output(transform=\"pandas\")\n",
        "# train dataset\n",
        "one_hot_encoded_train=oh.fit_transform(df_train[['proto', 'service', 'state']])\n",
        "df_train_ohe = pd.concat([df_train,one_hot_encoded_train],axis=1).drop(columns=['proto', 'service', 'state'])"
      ]
    },
    {
      "cell_type": "code",
      "execution_count": null,
      "id": "54e8d582-24f7-444c-a438-e5b7c0da0742",
      "metadata": {
        "id": "54e8d582-24f7-444c-a438-e5b7c0da0742"
      },
      "outputs": [],
      "source": [
        "# test dataset only Transform (without fit)\n",
        "one_hot_encoded_test=oh.transform(df_test[['proto', 'service', 'state']])\n",
        "df_test_ohe = pd.concat([df_test,one_hot_encoded_test],axis=1).drop(columns=['proto', 'service', 'state'])"
      ]
    },
    {
      "cell_type": "code",
      "execution_count": null,
      "id": "c643c1a3-0147-4a86-b72e-005e1c3119b6",
      "metadata": {
        "colab": {
          "base_uri": "https://localhost:8080/"
        },
        "id": "c643c1a3-0147-4a86-b72e-005e1c3119b6",
        "outputId": "c702cbff-574c-4b7e-d288-c248b8834295"
      },
      "outputs": [
        {
          "output_type": "execute_result",
          "data": {
            "text/plain": [
              "((175341, 195), (82332, 195))"
            ]
          },
          "metadata": {},
          "execution_count": 75
        }
      ],
      "source": [
        "df_train_ohe.shape, df_test_ohe.shape"
      ]
    },
    {
      "cell_type": "code",
      "execution_count": null,
      "id": "1ae5a6ce-c69b-44c2-bdd9-59ecb3b0bf22",
      "metadata": {
        "colab": {
          "base_uri": "https://localhost:8080/"
        },
        "id": "1ae5a6ce-c69b-44c2-bdd9-59ecb3b0bf22",
        "outputId": "95d9a5db-f73e-4d3c-faaa-54379c2cd11e"
      },
      "outputs": [
        {
          "output_type": "stream",
          "name": "stdout",
          "text": [
            "True\n"
          ]
        }
      ],
      "source": [
        "# verify the columns in train and test sets are the same\n",
        "print(all(x == y for x, y in zip(df_test_ohe.columns, df_train_ohe.columns)))  # Output: True"
      ]
    },
    {
      "cell_type": "code",
      "execution_count": null,
      "id": "38775763-735c-4c5a-beb0-81e7558d4147",
      "metadata": {
        "colab": {
          "base_uri": "https://localhost:8080/"
        },
        "id": "38775763-735c-4c5a-beb0-81e7558d4147",
        "outputId": "2d1bfc70-77f3-48a3-ed96-672cffeaa29f"
      },
      "outputs": [
        {
          "output_type": "execute_result",
          "data": {
            "text/plain": [
              "((175341, 195), (82332, 195))"
            ]
          },
          "metadata": {},
          "execution_count": 77
        }
      ],
      "source": [
        "#copy data from the original\n",
        "df_data_train = df_train_ohe.copy()\n",
        "df_data_test = df_test_ohe.copy()\n",
        "df_data_train.shape, df_data_test.shape"
      ]
    },
    {
      "cell_type": "code",
      "execution_count": null,
      "id": "e7eabc50-c94a-4038-8d5e-269c0c05e8a2",
      "metadata": {
        "colab": {
          "base_uri": "https://localhost:8080/"
        },
        "id": "e7eabc50-c94a-4038-8d5e-269c0c05e8a2",
        "outputId": "b330c5c4-8234-4511-ae96-122c188cedbb"
      },
      "outputs": [
        {
          "output_type": "execute_result",
          "data": {
            "text/plain": [
              "array([0, 1])"
            ]
          },
          "metadata": {},
          "execution_count": 78
        }
      ],
      "source": [
        "df_data_train['label'].unique()"
      ]
    },
    {
      "cell_type": "code",
      "execution_count": null,
      "id": "801d6b14-1571-40dd-abcc-b7ffcd54c8de",
      "metadata": {
        "colab": {
          "base_uri": "https://localhost:8080/"
        },
        "id": "801d6b14-1571-40dd-abcc-b7ffcd54c8de",
        "outputId": "f81d8ad7-3a65-45a4-ec5a-d19277b221af"
      },
      "outputs": [
        {
          "output_type": "execute_result",
          "data": {
            "text/plain": [
              "array([0, 1])"
            ]
          },
          "metadata": {},
          "execution_count": 79
        }
      ],
      "source": [
        "df_data_test['label'].unique()"
      ]
    },
    {
      "cell_type": "code",
      "execution_count": null,
      "id": "10935613-5ffc-46be-84ae-c622f3b3d087",
      "metadata": {
        "colab": {
          "base_uri": "https://localhost:8080/"
        },
        "id": "10935613-5ffc-46be-84ae-c622f3b3d087",
        "outputId": "fd3884d6-6440-4ceb-d843-accd43073875"
      },
      "outputs": [
        {
          "output_type": "stream",
          "name": "stdout",
          "text": [
            "(175341, 194) (175341,)\n"
          ]
        }
      ],
      "source": [
        "#separate labels from the dataset\n",
        "y_train = df_data_train.pop('label')\n",
        "\n",
        "# the remaining data will be X\n",
        "X_train = df_data_train\n",
        "print(X_train.shape, y_train.shape)"
      ]
    },
    {
      "cell_type": "code",
      "execution_count": null,
      "id": "40e70b54-8dda-4865-926f-f1b275e4ec2a",
      "metadata": {
        "colab": {
          "base_uri": "https://localhost:8080/"
        },
        "id": "40e70b54-8dda-4865-926f-f1b275e4ec2a",
        "outputId": "e606b4bb-7bbe-46fc-b54d-90d84198e66d"
      },
      "outputs": [
        {
          "output_type": "stream",
          "name": "stdout",
          "text": [
            "(82332, 194) (82332,)\n"
          ]
        }
      ],
      "source": [
        "#separate labels from the dataset\n",
        "y_test = df_data_test.pop('label')\n",
        "\n",
        "# the remaining data will be X\n",
        "X_test = df_data_test\n",
        "print(X_test.shape, y_test.shape)"
      ]
    },
    {
      "cell_type": "code",
      "execution_count": null,
      "id": "feca9c65-129e-4358-b475-38c270db81fd",
      "metadata": {
        "colab": {
          "base_uri": "https://localhost:8080/"
        },
        "id": "feca9c65-129e-4358-b475-38c270db81fd",
        "outputId": "87be95f7-2713-42ff-a6b4-fbb231ac82e6"
      },
      "outputs": [
        {
          "output_type": "stream",
          "name": "stdout",
          "text": [
            "[0 1]\n"
          ]
        }
      ],
      "source": [
        "# binary classification labels\n",
        "print(y_train.unique())"
      ]
    },
    {
      "cell_type": "code",
      "execution_count": null,
      "id": "931d65a4-3806-456a-9e9c-95cf6e588f6c",
      "metadata": {
        "colab": {
          "base_uri": "https://localhost:8080/"
        },
        "id": "931d65a4-3806-456a-9e9c-95cf6e588f6c",
        "outputId": "401db307-df67-4686-a2fc-8f14bf4a89ad"
      },
      "outputs": [
        {
          "output_type": "stream",
          "name": "stdout",
          "text": [
            "[0 1]\n"
          ]
        }
      ],
      "source": [
        "# binary classification labels\n",
        "print(y_test.unique())"
      ]
    },
    {
      "cell_type": "code",
      "execution_count": null,
      "id": "9cf7aa19-1827-494d-8055-6ba4476f1016",
      "metadata": {
        "colab": {
          "base_uri": "https://localhost:8080/"
        },
        "id": "9cf7aa19-1827-494d-8055-6ba4476f1016",
        "outputId": "93f4b3fd-e5d6-4c88-e965-5f2007a39846"
      },
      "outputs": [
        {
          "output_type": "execute_result",
          "data": {
            "text/plain": [
              "((175341, 194), (82332, 194))"
            ]
          },
          "metadata": {},
          "execution_count": 84
        }
      ],
      "source": [
        "X_train.shape, X_test.shape"
      ]
    },
    {
      "cell_type": "code",
      "execution_count": null,
      "id": "1d7786a4-c6f2-494b-853a-188bf3009bd6",
      "metadata": {
        "id": "1d7786a4-c6f2-494b-853a-188bf3009bd6"
      },
      "outputs": [],
      "source": [
        "#scaler = MinMaxScaler(feature_range=(0,255))\n",
        "scaler = MinMaxScaler()\n",
        "X_train = scaler.fit_transform(X_train)\n",
        "X_test = scaler.transform(X_test)"
      ]
    },
    {
      "cell_type": "code",
      "execution_count": null,
      "id": "82b2968b-cc44-4ead-9cc7-da1b016b4434",
      "metadata": {
        "colab": {
          "base_uri": "https://localhost:8080/"
        },
        "id": "82b2968b-cc44-4ead-9cc7-da1b016b4434",
        "outputId": "1d5c5113-ba91-45b5-cc7e-d450bbe6fc80"
      },
      "outputs": [
        {
          "output_type": "execute_result",
          "data": {
            "text/plain": [
              "array([0, 0, 0, ..., 0, 0, 0])"
            ]
          },
          "metadata": {},
          "execution_count": 86
        }
      ],
      "source": [
        "y_test.values"
      ]
    },
    {
      "cell_type": "code",
      "execution_count": null,
      "id": "26f92553-ea6b-4fb1-b9c0-fa867edac11b",
      "metadata": {
        "id": "26f92553-ea6b-4fb1-b9c0-fa867edac11b"
      },
      "outputs": [],
      "source": [
        "# convert dataset into images\n",
        "# training dataset\n",
        "model_nsl = Tab2Img()\n",
        "images_bin_train = model_nsl.fit_transform(X_train, y_train.values)"
      ]
    },
    {
      "cell_type": "code",
      "execution_count": null,
      "id": "6ce3ed81-2887-4dd6-bd0b-dfce29f3dd67",
      "metadata": {
        "id": "6ce3ed81-2887-4dd6-bd0b-dfce29f3dd67"
      },
      "outputs": [],
      "source": [
        "# convert dataset into images\n",
        "# test dataset\n",
        "images_bin_test = model_nsl.transform(X_test)"
      ]
    },
    {
      "cell_type": "code",
      "execution_count": null,
      "id": "280a662c-bd4e-4ff4-bd22-779756e24796",
      "metadata": {
        "colab": {
          "base_uri": "https://localhost:8080/",
          "height": 386
        },
        "id": "280a662c-bd4e-4ff4-bd22-779756e24796",
        "outputId": "97fd2fbb-7408-42e2-bb93-ccb7dd918566"
      },
      "outputs": [
        {
          "output_type": "display_data",
          "data": {
            "text/plain": [
              "<Figure size 640x480 with 18 Axes>"
            ],
            "image/png": "[encoded data removed]"
          },
          "metadata": {}
        }
      ],
      "source": [
        "# Visualize the dataset\n",
        "for i in range(18):\n",
        "    plt.subplot(3, 6, i+1)\n",
        "    plt.tight_layout()\n",
        "    plt.imshow(images_bin_train[i], cmap='gray', interpolation='none')\n",
        "    plt.title('class: {}'.format(y_train.values[i]))\n",
        "    plt.yticks([])\n",
        "    plt.xticks([])"
      ]
    },
    {
      "cell_type": "code",
      "execution_count": null,
      "id": "3653f174-afa2-4171-88ef-17b66d21635c",
      "metadata": {
        "colab": {
          "base_uri": "https://localhost:8080/",
          "height": 386
        },
        "id": "3653f174-afa2-4171-88ef-17b66d21635c",
        "outputId": "25c2ba93-50d5-4586-e639-c1e1d3f20546"
      },
      "outputs": [
        {
          "output_type": "display_data",
          "data": {
            "text/plain": [
              "<Figure size 640x480 with 18 Axes>"
            ],
            "image/png": "[encoded data removed]"
          },
          "metadata": {}
        }
      ],
      "source": [
        "for i in range(18):\n",
        "    plt.subplot(3, 6, i+1)\n",
        "    plt.tight_layout()\n",
        "    plt.imshow(images_bin_test[i], cmap='gray', interpolation='none')\n",
        "    plt.title('class: {}'.format(y_test.values[i]))\n",
        "    plt.yticks([])\n",
        "    plt.xticks([])"
      ]
    },
    {
      "cell_type": "code",
      "execution_count": null,
      "id": "81fdf58c-97b2-44b6-a287-0a558a68f6cb",
      "metadata": {
        "colab": {
          "base_uri": "https://localhost:8080/"
        },
        "id": "81fdf58c-97b2-44b6-a287-0a558a68f6cb",
        "outputId": "58933edf-0dd3-4205-b54f-67c915cc6dc2"
      },
      "outputs": [
        {
          "output_type": "execute_result",
          "data": {
            "text/plain": [
              "((175341, 14, 14), (82332, 14, 14))"
            ]
          },
          "metadata": {},
          "execution_count": 91
        }
      ],
      "source": [
        "images_bin_train.shape, images_bin_test.shape"
      ]
    },
    {
      "cell_type": "code",
      "execution_count": null,
      "id": "979ff592-b9da-4ab7-a4ba-7c14cea55cf0",
      "metadata": {
        "id": "979ff592-b9da-4ab7-a4ba-7c14cea55cf0"
      },
      "outputs": [],
      "source": [
        "# reshaping\n",
        "X_train_f = images_bin_train.reshape(images_bin_train.shape[0], images_bin_train.shape[1],images_bin_train.shape[2], 1)\n",
        "X_test_f = images_bin_test.reshape(images_bin_test.shape[0],images_bin_test.shape[1],images_bin_test.shape[2], 1)"
      ]
    },
    {
      "cell_type": "code",
      "execution_count": null,
      "id": "81cdf73b-ca80-4398-8226-e5316c4c82dc",
      "metadata": {
        "colab": {
          "base_uri": "https://localhost:8080/"
        },
        "id": "81cdf73b-ca80-4398-8226-e5316c4c82dc",
        "outputId": "36299549-ad2c-424d-8cf2-fdaac671644d"
      },
      "outputs": [
        {
          "output_type": "execute_result",
          "data": {
            "text/plain": [
              "((175341, 14, 14, 1), (82332, 14, 14, 1))"
            ]
          },
          "metadata": {},
          "execution_count": 93
        }
      ],
      "source": [
        "X_train_f.shape, X_test_f.shape"
      ]
    },
    {
      "cell_type": "code",
      "execution_count": null,
      "id": "1759021a-3d5e-42b4-998e-c81ce56edc49",
      "metadata": {
        "id": "1759021a-3d5e-42b4-998e-c81ce56edc49"
      },
      "outputs": [],
      "source": [
        "# scaling to [0,1]\n",
        "X_train_f = X_train_f/255\n",
        "X_test_f = X_test_f/255"
      ]
    },
    {
      "cell_type": "code",
      "execution_count": null,
      "id": "84130452-c100-4fe3-9f7a-d45bf04962d3",
      "metadata": {
        "id": "84130452-c100-4fe3-9f7a-d45bf04962d3"
      },
      "outputs": [],
      "source": [
        "def get_cnn_model(dropout=0.45, learning_rate=0.01, decay=1e-6):\n",
        "  # multi-class classification\n",
        "\n",
        "  model_bin = Sequential()\n",
        "  model_bin.add(Conv2D(32,3,padding='same', input_shape=(14,14,1),activation='relu'))\n",
        "  model_bin.add(BatchNormalization())\n",
        "  model_bin.add(MaxPool2D((2,2)))\n",
        "\n",
        "  model_bin.add(Conv2D(64,3,padding='same',activation='relu'))\n",
        "  model_bin.add(BatchNormalization())\n",
        "  model_bin.add(MaxPool2D((2,2)))\n",
        "\n",
        "\n",
        "  model_bin.add(Conv2D(128,3,padding='same',activation='relu'))\n",
        "  model_bin.add(BatchNormalization())\n",
        "\n",
        "  model_bin.add(Flatten())\n",
        "  model_bin.add(Dense(1000, activation='relu'))\n",
        "  model_bin.add(Dropout(dropout))\n",
        "\n",
        "  model_bin.add(Dense(500, activation='relu'))\n",
        "  model_bin.add(Dropout(dropout))\n",
        "\n",
        "  model_bin.add(Dense(250, activation='relu'))\n",
        "  model_bin.add(Dropout(dropout))\n",
        "\n",
        "  model_bin.add(Dense(125, activation='relu'))\n",
        "  model_bin.add(Dropout(dropout))\n",
        "\n",
        "  model_bin.add(Dense(50, activation='relu'))\n",
        "  model_bin.add(Dropout(dropout))\n",
        "\n",
        "  model_bin.add(Dense(units=1, activation='softmax'))\n",
        "\n",
        "  optimizer = keras.optimizers.Adam(learning_rate=learning_rate, decay=decay)\n",
        "  model_bin.compile(loss='binary_crossentropy', optimizer=optimizer,metrics=['accuracy'])\n",
        "\n",
        "  return model_bin"
      ]
    },
    {
      "cell_type": "code",
      "execution_count": null,
      "id": "221f5c78-55df-4751-b85b-4bc60ec0de93",
      "metadata": {
        "id": "221f5c78-55df-4751-b85b-4bc60ec0de93"
      },
      "outputs": [],
      "source": [
        "'''\n",
        "batch_size = [32, 64, 128]\n",
        "dropout = [0.4, 0.45, 0.5]\n",
        "learning_rate = loguniform(1e-6, 1e-3)\n",
        "decay = loguniform(1e-7, 1e-4)\n",
        "epochs = 150\n",
        "'''\n",
        "\n",
        "'''\n",
        "param_dist = {\n",
        "    'learning_rate': uniform(0.001, 0.1),\n",
        "    'batch_size': randint(16, 256),\n",
        "    #'decay': loguniform(1e-6, 0.1),\n",
        "    'dropout': uniform(0.3, 0.5)\n",
        "}\n",
        "'''\n",
        "\n",
        "'''\n",
        "param_dist = {\n",
        "    'learning_rate': loguniform(1e-7, 1e-3),\n",
        "    'batch_size': [128, 256],\n",
        "    'decay': loguniform(1e-8, 1e-4),\n",
        "    'dropout': [0.4, 0.45, 0.5]\n",
        "}\n",
        "'''\n",
        "'''\n",
        "param_dist = {\n",
        "    'learning_rate': [1e-7, 1e-3],\n",
        "    'batch_size': [128, 256],\n",
        "    'decay': [1e-8, 1e-4],\n",
        "    'dropout': [0.4, 0.5]\n",
        "}\n",
        "'''\n",
        "param_dist = {\n",
        "    'learning_rate': [1e-7, 1e-3], # 2 choices each\n",
        "    'batch_size': [128, 256],\n",
        "    'decay': [1e-8, 1e-4],\n",
        "    'dropout': [0.4, 0.5]\n",
        "}"
      ]
    },
    {
      "cell_type": "code",
      "execution_count": null,
      "id": "a873d988-8cb7-4224-bc41-b3949a2a3c7f",
      "metadata": {
        "colab": {
          "base_uri": "https://localhost:8080/"
        },
        "id": "a873d988-8cb7-4224-bc41-b3949a2a3c7f",
        "outputId": "8ddd242c-34e4-4172-ad2a-ffb6ed51533a"
      },
      "outputs": [
        {
          "output_type": "stream",
          "name": "stdout",
          "text": [
            "[INFO] initializing model...\n"
          ]
        },
        {
          "output_type": "stream",
          "name": "stderr",
          "text": [
            "<ipython-input-97-eb958c6b3857>:3: DeprecationWarning: KerasClassifier is deprecated, use Sci-Keras (https://github.com/adriangb/scikeras) instead. See https://www.adriangb.com/scikeras/stable/migration.html for help migrating.\n",
            "  model = KerasClassifier(build_fn=get_cnn_model, verbose=1, epochs=3)\n"
          ]
        }
      ],
      "source": [
        "# tuning hyperparameters\n",
        "print('[INFO] initializing model...')\n",
        "model = KerasClassifier(build_fn=get_cnn_model, verbose=1, epochs=3)"
      ]
    },
    {
      "cell_type": "code",
      "execution_count": null,
      "id": "42c2d9f7-f511-48ad-940e-5fb719764a90",
      "metadata": {
        "scrolled": true,
        "colab": {
          "base_uri": "https://localhost:8080/"
        },
        "id": "42c2d9f7-f511-48ad-940e-5fb719764a90",
        "outputId": "9b39c755-3397-4938-b7ec-228d9ab99e0d"
      },
      "outputs": [
        {
          "output_type": "stream",
          "name": "stdout",
          "text": [
            "[INFO] performing random search...\n",
            "Epoch 1/3\n",
            "1370/1370 [==============================] - 116s 84ms/step - loss: 0.6802 - accuracy: 0.6806\n",
            "Epoch 2/3\n",
            "1370/1370 [==============================] - 111s 81ms/step - loss: 0.6413 - accuracy: 0.6806\n",
            "Epoch 3/3\n",
            "1370/1370 [==============================] - 115s 84ms/step - loss: 0.6101 - accuracy: 0.6806\n"
          ]
        }
      ],
      "source": [
        "# random search with k-fold cross-validation\n",
        "print('[INFO] performing random search...')\n",
        "rand_search = RandomizedSearchCV(\n",
        "    estimator=model,\n",
        "    n_iter=2,n_jobs=-1,\n",
        "    cv=2,\n",
        "    param_distributions=param_dist,\n",
        "    scoring='accuracy')\n",
        "\n",
        "rand_results = rand_search.fit(X_train_f, y_train)\n",
        "\n",
        "# save results to a file\n",
        "rand_results_file = pd.DataFrame(rand_results.cv_results_)\n",
        "rand_results_file.to_csv('Random_search_file.csv', index=False)\n"
      ]
    },
    {
      "cell_type": "code",
      "source": [
        "experiment.log_parameters(rand_results.best_estimator_.get_params())"
      ],
      "metadata": {
        "id": "RrtYrN3K78Y1"
      },
      "id": "RrtYrN3K78Y1",
      "execution_count": null,
      "outputs": []
    },
    {
      "cell_type": "code",
      "execution_count": null,
      "id": "213968d9-a0c9-47c8-b91f-2fb48d7ca4dd",
      "metadata": {
        "id": "213968d9-a0c9-47c8-b91f-2fb48d7ca4dd",
        "outputId": "f78345cc-2496-4ceb-8d2d-a81f2042fad1",
        "colab": {
          "base_uri": "https://localhost:8080/"
        }
      },
      "outputs": [
        {
          "output_type": "stream",
          "name": "stdout",
          "text": [
            "{'batch_size': 128,\n",
            " 'build_fn': <function get_cnn_model at 0x793b5686f7e0>,\n",
            " 'decay': 1e-08,\n",
            " 'dropout': 0.4,\n",
            " 'epochs': 3,\n",
            " 'learning_rate': 1e-07,\n",
            " 'verbose': 1}\n"
          ]
        }
      ],
      "source": [
        "pprint(rand_results.best_estimator_.get_params())"
      ]
    },
    {
      "cell_type": "code",
      "execution_count": null,
      "id": "66d46218-a850-4c7d-a36f-2bfe876191ad",
      "metadata": {
        "id": "66d46218-a850-4c7d-a36f-2bfe876191ad",
        "outputId": "61e3e469-493d-4d72-a6e5-e2f6fd0cbe0d",
        "colab": {
          "base_uri": "https://localhost:8080/"
        }
      },
      "outputs": [
        {
          "output_type": "execute_result",
          "data": {
            "text/plain": [
              "{'learning_rate': 1e-07, 'dropout': 0.4, 'decay': 1e-08, 'batch_size': 128}"
            ]
          },
          "metadata": {},
          "execution_count": 101
        }
      ],
      "source": [
        "rand_results.best_params_"
      ]
    },
    {
      "cell_type": "code",
      "execution_count": null,
      "id": "678c3640-854a-4dbe-8d24-ccbccdcacc04",
      "metadata": {
        "id": "678c3640-854a-4dbe-8d24-ccbccdcacc04"
      },
      "outputs": [],
      "source": [
        "# run with the best parameters\n",
        "def get_cnn_model(dropout=0.4, learning_rate=1e-07, decay=1e-08):\n",
        "  # binary classification\n",
        "\n",
        "  model_bin = Sequential()\n",
        "  model_bin.add(Conv2D(32,3,padding='same', input_shape=(14,14,1),activation='relu'))\n",
        "  model_bin.add(BatchNormalization())\n",
        "  model_bin.add(MaxPool2D((2,2)))\n",
        "\n",
        "  model_bin.add(Conv2D(64,3,padding='same',activation='relu'))\n",
        "  model_bin.add(BatchNormalization())\n",
        "  model_bin.add(MaxPool2D((2,2)))\n",
        "\n",
        "\n",
        "  model_bin.add(Conv2D(128,3,padding='same',activation='relu'))\n",
        "  model_bin.add(BatchNormalization())\n",
        "\n",
        "  model_bin.add(Flatten())\n",
        "  model_bin.add(Dense(1000, activation='relu'))\n",
        "  model_bin.add(Dropout(dropout))\n",
        "\n",
        "  model_bin.add(Dense(500, activation='relu'))\n",
        "  model_bin.add(Dropout(dropout))\n",
        "\n",
        "  model_bin.add(Dense(250, activation='relu'))\n",
        "  model_bin.add(Dropout(dropout))\n",
        "\n",
        "  model_bin.add(Dense(125, activation='relu'))\n",
        "  model_bin.add(Dropout(dropout))\n",
        "\n",
        "  model_bin.add(Dense(50, activation='relu'))\n",
        "  model_bin.add(Dropout(dropout))\n",
        "\n",
        "  model_bin.add(Dense(units=1, activation='sigmoid'))\n",
        "\n",
        "  optimizer = keras.optimizers.Adam(learning_rate=learning_rate, decay=decay)\n",
        "  model_bin.compile(loss='binary_crossentropy', optimizer=optimizer,metrics=['accuracy'])\n",
        "\n",
        "  return model_bin\n",
        "\n",
        "model_final = get_cnn_model()"
      ]
    },
    {
      "cell_type": "code",
      "execution_count": null,
      "id": "79f23e55-53ed-4c28-8759-3ab40946f033",
      "metadata": {
        "id": "79f23e55-53ed-4c28-8759-3ab40946f033"
      },
      "outputs": [],
      "source": [
        "#model_final.summary()"
      ]
    },
    {
      "cell_type": "code",
      "execution_count": null,
      "id": "1879285d-83b7-4425-af3b-795744a892be",
      "metadata": {
        "id": "1879285d-83b7-4425-af3b-795744a892be",
        "outputId": "47911a08-4b8b-4db8-998c-ab0a61e15fe3",
        "colab": {
          "base_uri": "https://localhost:8080/"
        }
      },
      "outputs": [
        {
          "output_type": "stream",
          "name": "stdout",
          "text": [
            "Epoch 1/10\n",
            "1096/1096 [==============================] - 93s 84ms/step - loss: 0.8211 - accuracy: 0.4979 - val_loss: 0.5695 - val_accuracy: 0.9962\n",
            "Epoch 2/10\n",
            "1096/1096 [==============================] - 92s 84ms/step - loss: 0.7698 - accuracy: 0.5288 - val_loss: 0.5041 - val_accuracy: 0.9993\n",
            "Epoch 3/10\n",
            "1096/1096 [==============================] - 93s 85ms/step - loss: 0.7295 - accuracy: 0.5574 - val_loss: 0.4591 - val_accuracy: 0.9998\n",
            "Epoch 4/10\n",
            "1096/1096 [==============================] - 91s 83ms/step - loss: 0.7000 - accuracy: 0.5850 - val_loss: 0.4228 - val_accuracy: 0.9998\n",
            "Epoch 5/10\n",
            "1096/1096 [==============================] - 92s 84ms/step - loss: 0.6726 - accuracy: 0.6118 - val_loss: 0.3885 - val_accuracy: 0.9998\n",
            "Epoch 6/10\n",
            "1096/1096 [==============================] - 94s 86ms/step - loss: 0.6519 - accuracy: 0.6345 - val_loss: 0.3574 - val_accuracy: 1.0000\n",
            "Epoch 7/10\n",
            "1096/1096 [==============================] - 92s 84ms/step - loss: 0.6320 - accuracy: 0.6578 - val_loss: 0.3289 - val_accuracy: 1.0000\n",
            "Epoch 8/10\n",
            "1096/1096 [==============================] - 91s 83ms/step - loss: 0.6148 - accuracy: 0.6763 - val_loss: 0.3009 - val_accuracy: 1.0000\n",
            "Epoch 9/10\n",
            "1096/1096 [==============================] - 97s 89ms/step - loss: 0.5984 - accuracy: 0.6956 - val_loss: 0.2762 - val_accuracy: 0.9993\n",
            "Epoch 10/10\n",
            "1096/1096 [==============================] - 92s 84ms/step - loss: 0.5829 - accuracy: 0.7146 - val_loss: 0.2534 - val_accuracy: 0.9992\n"
          ]
        }
      ],
      "source": [
        "# reproducibility\n",
        "np.random.seed(42)\n",
        "\n",
        "# define early stopping\n",
        "early_stopping = EarlyStopping(monitor='val_loss', patience=9, restore_best_weights=True)\n",
        "\n",
        "# training the model with the best parameters\n",
        "with experiment.train():\n",
        "  history = model_final.fit(X_train_f, y_train, epochs=10, batch_size=128,validation_split=0.2, shuffle=True,\n",
        "                          callbacks=[early_stopping])"
      ]
    },
    {
      "cell_type": "code",
      "source": [
        "# history.history['loss'], history.history['accuracy'],\n",
        "history.history.get('val_loss',[]), history.history.get('val_accuracy',[])"
      ],
      "metadata": {
        "id": "uh_SBcy8ZG9_",
        "outputId": "5b485a4b-c725-4cee-9581-db68b4c33fb8",
        "colab": {
          "base_uri": "https://localhost:8080/"
        }
      },
      "id": "uh_SBcy8ZG9_",
      "execution_count": null,
      "outputs": [
        {
          "output_type": "execute_result",
          "data": {
            "text/plain": [
              "([0.5695377588272095,\n",
              "  0.5040669441223145,\n",
              "  0.4591366946697235,\n",
              "  0.4227527379989624,\n",
              "  0.3885190188884735,\n",
              "  0.35739848017692566,\n",
              "  0.3289392590522766,\n",
              "  0.30093634128570557,\n",
              "  0.2762106955051422,\n",
              "  0.25340044498443604],\n",
              " [0.9961789846420288,\n",
              "  0.9992871284484863,\n",
              "  0.9998003840446472,\n",
              "  0.9998003840446472,\n",
              "  0.9998003840446472,\n",
              "  1.0,\n",
              "  1.0,\n",
              "  0.9999715089797974,\n",
              "  0.9992871284484863,\n",
              "  0.9992300868034363])"
            ]
          },
          "metadata": {},
          "execution_count": 124
        }
      ]
    },
    {
      "cell_type": "code",
      "execution_count": null,
      "id": "1b04fa4f-bebf-4db1-b9a3-56da8f844983",
      "metadata": {
        "id": "1b04fa4f-bebf-4db1-b9a3-56da8f844983",
        "outputId": "f583d9c1-3cc5-4e92-f0a2-4d221fa1ccb2",
        "colab": {
          "base_uri": "https://localhost:8080/"
        }
      },
      "outputs": [
        {
          "output_type": "stream",
          "name": "stdout",
          "text": [
            "2573/2573 [==============================] - 20s 8ms/step - loss: 0.5775 - accuracy: 0.7648\n",
            "Test results\n",
            " Loss: 0.5775127410888672\n",
            " Accuracy: 76.47815942764282%\n"
          ]
        }
      ],
      "source": [
        "# predicting target on test data\n",
        "test_pred = model_final.evaluate(X_test_f, y_test, verbose=1)\n",
        "print(f'Test results\\n Loss: {test_pred[0]}\\n Accuracy: {test_pred[1]*100}%')"
      ]
    },
    {
      "cell_type": "code",
      "source": [
        "#experiment.log_parameters(rand_results.best_estimator_.get_params())\n",
        "experiment.log_parameters(test_pred)"
      ],
      "metadata": {
        "colab": {
          "base_uri": "https://localhost:8080/"
        },
        "id": "rd4hClXoLGap",
        "outputId": "033d5def-cd4b-4517-c9c0-8b2b075220ec"
      },
      "id": "rd4hClXoLGap",
      "execution_count": null,
      "outputs": [
        {
          "output_type": "stream",
          "name": "stderr",
          "text": [
            "\u001b[1;38;5;214mCOMET WARNING:\u001b[0m [0.5775127410888672, 0.7647815942764282] passed to Experiment.log_parameters converted to an empty mapping; ignoring\n"
          ]
        }
      ]
    },
    {
      "cell_type": "code",
      "source": [
        "experiment.log_metrics({\n",
        "    'Test_accuracy': test_pred[1],\n",
        "    'Test_loss': test_pred[0]\n",
        "}\n",
        ")"
      ],
      "metadata": {
        "id": "DNQnhwp8YKL-"
      },
      "id": "DNQnhwp8YKL-",
      "execution_count": null,
      "outputs": []
    },
    {
      "cell_type": "code",
      "execution_count": null,
      "id": "cd922578-9334-4eba-a96a-06585b04aa66",
      "metadata": {
        "id": "cd922578-9334-4eba-a96a-06585b04aa66",
        "outputId": "96dbc79e-8647-48cb-af01-5ed6f305c001",
        "colab": {
          "base_uri": "https://localhost:8080/"
        }
      },
      "outputs": [
        {
          "output_type": "stream",
          "name": "stdout",
          "text": [
            "2573/2573 [==============================] - 19s 7ms/step\n"
          ]
        }
      ],
      "source": [
        "# on test dataset\n",
        "y_pred = model_final.predict(X_test_f)"
      ]
    },
    {
      "cell_type": "code",
      "execution_count": null,
      "id": "0187f3fe-7325-4ea2-8520-52a5fbb8abd4",
      "metadata": {
        "id": "0187f3fe-7325-4ea2-8520-52a5fbb8abd4",
        "outputId": "2b1e2528-d2b0-40ca-86dd-ff590df7062f",
        "colab": {
          "base_uri": "https://localhost:8080/"
        }
      },
      "outputs": [
        {
          "output_type": "stream",
          "name": "stdout",
          "text": [
            "Classification Report on Test data\n",
            "               precision    recall  f1-score   support\n",
            "\n",
            "      Normal       1.00      0.48      0.65     37000\n",
            "      Attack       0.70      1.00      0.82     45332\n",
            "\n",
            "    accuracy                           0.76     82332\n",
            "   macro avg       0.85      0.74      0.73     82332\n",
            "weighted avg       0.83      0.76      0.74     82332\n",
            "\n"
          ]
        }
      ],
      "source": [
        "# print the classification report on the test data\n",
        "\n",
        "class_names = ['Normal', 'Attack']\n",
        "y_rounded_pred = np.round(y_pred)\n",
        "print(\"Classification Report on Test data\\n\",\n",
        "     classification_report(y_test, y_rounded_pred, target_names=class_names))"
      ]
    },
    {
      "cell_type": "code",
      "execution_count": null,
      "id": "e930b910-9f62-479f-870b-a44f38d987cc",
      "metadata": {
        "id": "e930b910-9f62-479f-870b-a44f38d987cc",
        "outputId": "86ea5c73-4e6e-4d6f-c7e2-1e275e517d8f",
        "colab": {
          "base_uri": "https://localhost:8080/",
          "height": 472
        }
      },
      "outputs": [
        {
          "output_type": "display_data",
          "data": {
            "text/plain": [
              "<Figure size 640x480 with 2 Axes>"
            ],
            "image/png": "[encoded data removed]"
          },
          "metadata": {}
        }
      ],
      "source": [
        "# Compute confusion matrix\n",
        "cm = confusion_matrix(y_test, y_rounded_pred)\n",
        "#cm = confusion_matrix(y_test.argmax(axis=1), y_rounded_pred.argmax(axis=1))\n",
        "cm_fig = ConfusionMatrixDisplay(confusion_matrix=cm, display_labels=class_names)\n",
        "cm_fig.plot(cmap=plt.cm.Blues)\n",
        "plt.title('Confusion Matrix for Binary classification')\n",
        "#plt.savefig('./plots_24December2024/confusion_matrix_multi-class_rs_256batch_0.5splitv1_22epochs_9patience_5February2025.eps')\n",
        "plt.show()"
      ]
    },
    {
      "cell_type": "code",
      "source": [
        "experiment.log_parameters(cm)"
      ],
      "metadata": {
        "id": "G0Js4aAoM5Ps"
      },
      "id": "G0Js4aAoM5Ps",
      "execution_count": null,
      "outputs": []
    },
    {
      "cell_type": "code",
      "execution_count": null,
      "id": "a1c8bc75-e544-479b-a349-7c6e2cd0f535",
      "metadata": {
        "id": "a1c8bc75-e544-479b-a349-7c6e2cd0f535",
        "outputId": "326fe932-2744-4f3c-d093-75c680401517",
        "colab": {
          "base_uri": "https://localhost:8080/",
          "height": 472
        }
      },
      "outputs": [
        {
          "output_type": "display_data",
          "data": {
            "text/plain": [
              "<Figure size 640x480 with 1 Axes>"
            ],
            "image/png": "[encoded data removed]"
          },
          "metadata": {}
        }
      ],
      "source": [
        "# plot of accuracy vs epoch for train and test dataset\n",
        "plt.plot(history.history['accuracy'], label='Train')\n",
        "plt.plot(history.history['val_accuracy'], label='Test')\n",
        "plt.title('Plot of Accuracy vs Epoch for train and test dataset')\n",
        "plt.xlabel('Epoch')\n",
        "plt.ylabel('Accuracy')\n",
        "plt.legend(loc='lower right')\n",
        "#plt.savefig('./plots_24December2024/plot_accuracy_epoch_multiclass_rs_256batch_0.5splitv1_22epochs_9patience.eps')\n",
        "plt.show()"
      ]
    },
    {
      "cell_type": "code",
      "source": [],
      "metadata": {
        "id": "RMxYrONvNwc9"
      },
      "id": "RMxYrONvNwc9",
      "execution_count": null,
      "outputs": []
    }
  ],
  "metadata": {
    "kernelspec": {
      "display_name": "Python 3",
      "name": "python3"
    },
    "language_info": {
      "codemirror_mode": {
        "name": "ipython",
        "version": 3
      },
      "file_extension": ".py",
      "mimetype": "text/x-python",
      "name": "python",
      "nbconvert_exporter": "python",
      "pygments_lexer": "ipython3",
      "version": "3.11.5"
    },
    "colab": {
      "provenance": [],
      "gpuType": "T4",
      "include_colab_link": true
    },
    "accelerator": "GPU"
  },
  "nbformat": 4,
  "nbformat_minor": 5
}